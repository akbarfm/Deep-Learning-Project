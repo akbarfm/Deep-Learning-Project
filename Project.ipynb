{
 "cells": [
  {
   "cell_type": "markdown",
   "metadata": {},
   "source": [
    "# Tensorflow (keras) Deep Learning Project\n",
    "\n",
    "## The Data\n",
    "\n",
    "We will be using a subset of the LendingClub DataSet obtained from Kaggle: https://www.kaggle.com/wordsforthewise/lending-club\n",
    "\n",
    "LendingClub is a US peer-to-peer lending company, headquartered in San Francisco, California.[3] It was the first peer-to-peer lender to register its offerings as securities with the Securities and Exchange Commission (SEC), and to offer loan trading on a secondary market. LendingClub is the world's largest peer-to-peer lending platform.\n",
    "\n",
    "### Our Goal\n",
    "\n",
    "Given historical data on loans given out with information on whether or not the borrower defaulted (charge-off), can we build a model thatcan predict wether or nor a borrower will pay back their loan? This way in the future when we get a new potential customer we can assess whether or not they are likely to pay back the loan. Keep in mind classification metrics when evaluating the performance of your model!\n",
    "\n",
    "The \"loan_status\" column contains our label.\n",
    "\n",
    "### Data Overview"
   ]
  },
  {
   "cell_type": "markdown",
   "metadata": {},
   "source": [
    "-----\n",
    "There are many LendingClub data sets on Kaggle. Here is the information on this particular data set:\n",
    "\n",
    "<table border=\"1\" class=\"dataframe\">\n",
    "  <thead>\n",
    "    <tr style=\"text-align: right;\">\n",
    "      <th></th>\n",
    "      <th>LoanStatNew</th>\n",
    "      <th>Description</th>\n",
    "    </tr>\n",
    "  </thead>\n",
    "  <tbody>\n",
    "    <tr>\n",
    "      <th>0</th>\n",
    "      <td>loan_amnt</td>\n",
    "      <td>The listed amount of the loan applied for by the borrower. If at some point in time, the credit department reduces the loan amount, then it will be reflected in this value.</td>\n",
    "    </tr>\n",
    "    <tr>\n",
    "      <th>1</th>\n",
    "      <td>term</td>\n",
    "      <td>The number of payments on the loan. Values are in months and can be either 36 or 60.</td>\n",
    "    </tr>\n",
    "    <tr>\n",
    "      <th>2</th>\n",
    "      <td>int_rate</td>\n",
    "      <td>Interest Rate on the loan</td>\n",
    "    </tr>\n",
    "    <tr>\n",
    "      <th>3</th>\n",
    "      <td>installment</td>\n",
    "      <td>The monthly payment owed by the borrower if the loan originates.</td>\n",
    "    </tr>\n",
    "    <tr>\n",
    "      <th>4</th>\n",
    "      <td>grade</td>\n",
    "      <td>LC assigned loan grade</td>\n",
    "    </tr>\n",
    "    <tr>\n",
    "      <th>5</th>\n",
    "      <td>sub_grade</td>\n",
    "      <td>LC assigned loan subgrade</td>\n",
    "    </tr>\n",
    "    <tr>\n",
    "      <th>6</th>\n",
    "      <td>emp_title</td>\n",
    "      <td>The job title supplied by the Borrower when applying for the loan.*</td>\n",
    "    </tr>\n",
    "    <tr>\n",
    "      <th>7</th>\n",
    "      <td>emp_length</td>\n",
    "      <td>Employment length in years. Possible values are between 0 and 10 where 0 means less than one year and 10 means ten or more years.</td>\n",
    "    </tr>\n",
    "    <tr>\n",
    "      <th>8</th>\n",
    "      <td>home_ownership</td>\n",
    "      <td>The home ownership status provided by the borrower during registration or obtained from the credit report. Our values are: RENT, OWN, MORTGAGE, OTHER</td>\n",
    "    </tr>\n",
    "    <tr>\n",
    "      <th>9</th>\n",
    "      <td>annual_inc</td>\n",
    "      <td>The self-reported annual income provided by the borrower during registration.</td>\n",
    "    </tr>\n",
    "    <tr>\n",
    "      <th>10</th>\n",
    "      <td>verification_status</td>\n",
    "      <td>Indicates if income was verified by LC, not verified, or if the income source was verified</td>\n",
    "    </tr>\n",
    "    <tr>\n",
    "      <th>11</th>\n",
    "      <td>issue_d</td>\n",
    "      <td>The month which the loan was funded</td>\n",
    "    </tr>\n",
    "    <tr>\n",
    "      <th>12</th>\n",
    "      <td>loan_status</td>\n",
    "      <td>Current status of the loan</td>\n",
    "    </tr>\n",
    "    <tr>\n",
    "      <th>13</th>\n",
    "      <td>purpose</td>\n",
    "      <td>A category provided by the borrower for the loan request.</td>\n",
    "    </tr>\n",
    "    <tr>\n",
    "      <th>14</th>\n",
    "      <td>title</td>\n",
    "      <td>The loan title provided by the borrower</td>\n",
    "    </tr>\n",
    "    <tr>\n",
    "      <th>15</th>\n",
    "      <td>zip_code</td>\n",
    "      <td>The first 3 numbers of the zip code provided by the borrower in the loan application.</td>\n",
    "    </tr>\n",
    "    <tr>\n",
    "      <th>16</th>\n",
    "      <td>addr_state</td>\n",
    "      <td>The state provided by the borrower in the loan application</td>\n",
    "    </tr>\n",
    "    <tr>\n",
    "      <th>17</th>\n",
    "      <td>dti</td>\n",
    "      <td>A ratio calculated using the borrower’s total monthly debt payments on the total debt obligations, excluding mortgage and the requested LC loan, divided by the borrower’s self-reported monthly income.</td>\n",
    "    </tr>\n",
    "    <tr>\n",
    "      <th>18</th>\n",
    "      <td>earliest_cr_line</td>\n",
    "      <td>The month the borrower's earliest reported credit line was opened</td>\n",
    "    </tr>\n",
    "    <tr>\n",
    "      <th>19</th>\n",
    "      <td>open_acc</td>\n",
    "      <td>The number of open credit lines in the borrower's credit file.</td>\n",
    "    </tr>\n",
    "    <tr>\n",
    "      <th>20</th>\n",
    "      <td>pub_rec</td>\n",
    "      <td>Number of derogatory public records</td>\n",
    "    </tr>\n",
    "    <tr>\n",
    "      <th>21</th>\n",
    "      <td>revol_bal</td>\n",
    "      <td>Total credit revolving balance</td>\n",
    "    </tr>\n",
    "    <tr>\n",
    "      <th>22</th>\n",
    "      <td>revol_util</td>\n",
    "      <td>Revolving line utilization rate, or the amount of credit the borrower is using relative to all available revolving credit.</td>\n",
    "    </tr>\n",
    "    <tr>\n",
    "      <th>23</th>\n",
    "      <td>total_acc</td>\n",
    "      <td>The total number of credit lines currently in the borrower's credit file</td>\n",
    "    </tr>\n",
    "    <tr>\n",
    "      <th>24</th>\n",
    "      <td>initial_list_status</td>\n",
    "      <td>The initial listing status of the loan. Possible values are – W, F</td>\n",
    "    </tr>\n",
    "    <tr>\n",
    "      <th>25</th>\n",
    "      <td>application_type</td>\n",
    "      <td>Indicates whether the loan is an individual application or a joint application with two co-borrowers</td>\n",
    "    </tr>\n",
    "    <tr>\n",
    "      <th>26</th>\n",
    "      <td>mort_acc</td>\n",
    "      <td>Number of mortgage accounts.</td>\n",
    "    </tr>\n",
    "    <tr>\n",
    "      <th>27</th>\n",
    "      <td>pub_rec_bankruptcies</td>\n",
    "      <td>Number of public record bankruptcies</td>\n",
    "    </tr>\n",
    "  </tbody>\n",
    "</table>\n",
    "\n",
    "---\n",
    "----"
   ]
  },
  {
   "cell_type": "code",
   "execution_count": 11,
   "metadata": {},
   "outputs": [],
   "source": [
    "import cv2\n",
    "import pandas as pd\n",
    "import numpy\n",
    "import matplotlib.pyplot as plt"
   ]
  },
  {
   "cell_type": "code",
   "execution_count": 15,
   "metadata": {},
   "outputs": [
    {
     "data": {
      "text/plain": [
       "['ACCESS_FAST',\n",
       " 'ACCESS_MASK',\n",
       " 'ACCESS_READ',\n",
       " 'ACCESS_RW',\n",
       " 'ACCESS_WRITE',\n",
       " 'ADAPTIVE_THRESH_GAUSSIAN_C',\n",
       " 'ADAPTIVE_THRESH_MEAN_C',\n",
       " 'AGAST_FEATURE_DETECTOR_AGAST_5_8',\n",
       " 'AGAST_FEATURE_DETECTOR_AGAST_7_12D',\n",
       " 'AGAST_FEATURE_DETECTOR_AGAST_7_12S',\n",
       " 'AGAST_FEATURE_DETECTOR_NONMAX_SUPPRESSION',\n",
       " 'AGAST_FEATURE_DETECTOR_OAST_9_16',\n",
       " 'AGAST_FEATURE_DETECTOR_THRESHOLD',\n",
       " 'AKAZE',\n",
       " 'AKAZE_DESCRIPTOR_KAZE',\n",
       " 'AKAZE_DESCRIPTOR_KAZE_UPRIGHT',\n",
       " 'AKAZE_DESCRIPTOR_MLDB',\n",
       " 'AKAZE_DESCRIPTOR_MLDB_UPRIGHT',\n",
       " 'AKAZE_create',\n",
       " 'AffineFeature',\n",
       " 'AffineFeature_create',\n",
       " 'AgastFeatureDetector',\n",
       " 'AgastFeatureDetector_AGAST_5_8',\n",
       " 'AgastFeatureDetector_AGAST_7_12d',\n",
       " 'AgastFeatureDetector_AGAST_7_12s',\n",
       " 'AgastFeatureDetector_NONMAX_SUPPRESSION',\n",
       " 'AgastFeatureDetector_OAST_9_16',\n",
       " 'AgastFeatureDetector_THRESHOLD',\n",
       " 'AgastFeatureDetector_create',\n",
       " 'Algorithm',\n",
       " 'AlignExposures',\n",
       " 'AlignMTB',\n",
       " 'AsyncArray',\n",
       " 'BFMatcher',\n",
       " 'BFMatcher_create',\n",
       " 'BORDER_CONSTANT',\n",
       " 'BORDER_DEFAULT',\n",
       " 'BORDER_ISOLATED',\n",
       " 'BORDER_REFLECT',\n",
       " 'BORDER_REFLECT101',\n",
       " 'BORDER_REFLECT_101',\n",
       " 'BORDER_REPLICATE',\n",
       " 'BORDER_TRANSPARENT',\n",
       " 'BORDER_WRAP',\n",
       " 'BOWImgDescriptorExtractor',\n",
       " 'BOWKMeansTrainer',\n",
       " 'BOWTrainer',\n",
       " 'BRISK',\n",
       " 'BRISK_create',\n",
       " 'BackgroundSubtractor',\n",
       " 'BackgroundSubtractorKNN',\n",
       " 'BackgroundSubtractorMOG2',\n",
       " 'BaseCascadeClassifier',\n",
       " 'CALIB_CB_ACCURACY',\n",
       " 'CALIB_CB_ADAPTIVE_THRESH',\n",
       " 'CALIB_CB_ASYMMETRIC_GRID',\n",
       " 'CALIB_CB_CLUSTERING',\n",
       " 'CALIB_CB_EXHAUSTIVE',\n",
       " 'CALIB_CB_FAST_CHECK',\n",
       " 'CALIB_CB_FILTER_QUADS',\n",
       " 'CALIB_CB_LARGER',\n",
       " 'CALIB_CB_MARKER',\n",
       " 'CALIB_CB_NORMALIZE_IMAGE',\n",
       " 'CALIB_CB_SYMMETRIC_GRID',\n",
       " 'CALIB_FIX_ASPECT_RATIO',\n",
       " 'CALIB_FIX_FOCAL_LENGTH',\n",
       " 'CALIB_FIX_INTRINSIC',\n",
       " 'CALIB_FIX_K1',\n",
       " 'CALIB_FIX_K2',\n",
       " 'CALIB_FIX_K3',\n",
       " 'CALIB_FIX_K4',\n",
       " 'CALIB_FIX_K5',\n",
       " 'CALIB_FIX_K6',\n",
       " 'CALIB_FIX_PRINCIPAL_POINT',\n",
       " 'CALIB_FIX_S1_S2_S3_S4',\n",
       " 'CALIB_FIX_TANGENT_DIST',\n",
       " 'CALIB_FIX_TAUX_TAUY',\n",
       " 'CALIB_HAND_EYE_ANDREFF',\n",
       " 'CALIB_HAND_EYE_DANIILIDIS',\n",
       " 'CALIB_HAND_EYE_HORAUD',\n",
       " 'CALIB_HAND_EYE_PARK',\n",
       " 'CALIB_HAND_EYE_TSAI',\n",
       " 'CALIB_NINTRINSIC',\n",
       " 'CALIB_RATIONAL_MODEL',\n",
       " 'CALIB_ROBOT_WORLD_HAND_EYE_LI',\n",
       " 'CALIB_ROBOT_WORLD_HAND_EYE_SHAH',\n",
       " 'CALIB_SAME_FOCAL_LENGTH',\n",
       " 'CALIB_THIN_PRISM_MODEL',\n",
       " 'CALIB_TILTED_MODEL',\n",
       " 'CALIB_USE_EXTRINSIC_GUESS',\n",
       " 'CALIB_USE_INTRINSIC_GUESS',\n",
       " 'CALIB_USE_LU',\n",
       " 'CALIB_USE_QR',\n",
       " 'CALIB_ZERO_DISPARITY',\n",
       " 'CALIB_ZERO_TANGENT_DIST',\n",
       " 'CAP_ANDROID',\n",
       " 'CAP_ANY',\n",
       " 'CAP_ARAVIS',\n",
       " 'CAP_AVFOUNDATION',\n",
       " 'CAP_CMU1394',\n",
       " 'CAP_DC1394',\n",
       " 'CAP_DSHOW',\n",
       " 'CAP_FFMPEG',\n",
       " 'CAP_FIREWARE',\n",
       " 'CAP_FIREWIRE',\n",
       " 'CAP_GIGANETIX',\n",
       " 'CAP_GPHOTO2',\n",
       " 'CAP_GSTREAMER',\n",
       " 'CAP_IEEE1394',\n",
       " 'CAP_IMAGES',\n",
       " 'CAP_INTELPERC',\n",
       " 'CAP_INTELPERC_DEPTH_GENERATOR',\n",
       " 'CAP_INTELPERC_DEPTH_MAP',\n",
       " 'CAP_INTELPERC_GENERATORS_MASK',\n",
       " 'CAP_INTELPERC_IMAGE',\n",
       " 'CAP_INTELPERC_IMAGE_GENERATOR',\n",
       " 'CAP_INTELPERC_IR_GENERATOR',\n",
       " 'CAP_INTELPERC_IR_MAP',\n",
       " 'CAP_INTELPERC_UVDEPTH_MAP',\n",
       " 'CAP_INTEL_MFX',\n",
       " 'CAP_MSMF',\n",
       " 'CAP_OBSENSOR',\n",
       " 'CAP_OBSENSOR_BGR_IMAGE',\n",
       " 'CAP_OBSENSOR_DEPTH_GENERATOR',\n",
       " 'CAP_OBSENSOR_DEPTH_MAP',\n",
       " 'CAP_OBSENSOR_GENERATORS_MASK',\n",
       " 'CAP_OBSENSOR_IMAGE_GENERATOR',\n",
       " 'CAP_OBSENSOR_IR_GENERATOR',\n",
       " 'CAP_OBSENSOR_IR_IMAGE',\n",
       " 'CAP_OPENCV_MJPEG',\n",
       " 'CAP_OPENNI',\n",
       " 'CAP_OPENNI2',\n",
       " 'CAP_OPENNI2_ASTRA',\n",
       " 'CAP_OPENNI2_ASUS',\n",
       " 'CAP_OPENNI_ASUS',\n",
       " 'CAP_OPENNI_BGR_IMAGE',\n",
       " 'CAP_OPENNI_DEPTH_GENERATOR',\n",
       " 'CAP_OPENNI_DEPTH_GENERATOR_BASELINE',\n",
       " 'CAP_OPENNI_DEPTH_GENERATOR_FOCAL_LENGTH',\n",
       " 'CAP_OPENNI_DEPTH_GENERATOR_PRESENT',\n",
       " 'CAP_OPENNI_DEPTH_GENERATOR_REGISTRATION',\n",
       " 'CAP_OPENNI_DEPTH_GENERATOR_REGISTRATION_ON',\n",
       " 'CAP_OPENNI_DEPTH_MAP',\n",
       " 'CAP_OPENNI_DISPARITY_MAP',\n",
       " 'CAP_OPENNI_DISPARITY_MAP_32F',\n",
       " 'CAP_OPENNI_GENERATORS_MASK',\n",
       " 'CAP_OPENNI_GRAY_IMAGE',\n",
       " 'CAP_OPENNI_IMAGE_GENERATOR',\n",
       " 'CAP_OPENNI_IMAGE_GENERATOR_OUTPUT_MODE',\n",
       " 'CAP_OPENNI_IMAGE_GENERATOR_PRESENT',\n",
       " 'CAP_OPENNI_IR_GENERATOR',\n",
       " 'CAP_OPENNI_IR_GENERATOR_PRESENT',\n",
       " 'CAP_OPENNI_IR_IMAGE',\n",
       " 'CAP_OPENNI_POINT_CLOUD_MAP',\n",
       " 'CAP_OPENNI_QVGA_30HZ',\n",
       " 'CAP_OPENNI_QVGA_60HZ',\n",
       " 'CAP_OPENNI_SXGA_15HZ',\n",
       " 'CAP_OPENNI_SXGA_30HZ',\n",
       " 'CAP_OPENNI_VALID_DEPTH_MASK',\n",
       " 'CAP_OPENNI_VGA_30HZ',\n",
       " 'CAP_PROP_APERTURE',\n",
       " 'CAP_PROP_ARAVIS_AUTOTRIGGER',\n",
       " 'CAP_PROP_AUDIO_BASE_INDEX',\n",
       " 'CAP_PROP_AUDIO_DATA_DEPTH',\n",
       " 'CAP_PROP_AUDIO_POS',\n",
       " 'CAP_PROP_AUDIO_SAMPLES_PER_SECOND',\n",
       " 'CAP_PROP_AUDIO_SHIFT_NSEC',\n",
       " 'CAP_PROP_AUDIO_STREAM',\n",
       " 'CAP_PROP_AUDIO_SYNCHRONIZE',\n",
       " 'CAP_PROP_AUDIO_TOTAL_CHANNELS',\n",
       " 'CAP_PROP_AUDIO_TOTAL_STREAMS',\n",
       " 'CAP_PROP_AUTOFOCUS',\n",
       " 'CAP_PROP_AUTO_EXPOSURE',\n",
       " 'CAP_PROP_AUTO_WB',\n",
       " 'CAP_PROP_BACKEND',\n",
       " 'CAP_PROP_BACKLIGHT',\n",
       " 'CAP_PROP_BITRATE',\n",
       " 'CAP_PROP_BRIGHTNESS',\n",
       " 'CAP_PROP_BUFFERSIZE',\n",
       " 'CAP_PROP_CHANNEL',\n",
       " 'CAP_PROP_CODEC_EXTRADATA_INDEX',\n",
       " 'CAP_PROP_CODEC_PIXEL_FORMAT',\n",
       " 'CAP_PROP_CONTRAST',\n",
       " 'CAP_PROP_CONVERT_RGB',\n",
       " 'CAP_PROP_DC1394_MAX',\n",
       " 'CAP_PROP_DC1394_MODE_AUTO',\n",
       " 'CAP_PROP_DC1394_MODE_MANUAL',\n",
       " 'CAP_PROP_DC1394_MODE_ONE_PUSH_AUTO',\n",
       " 'CAP_PROP_DC1394_OFF',\n",
       " 'CAP_PROP_EXPOSURE',\n",
       " 'CAP_PROP_EXPOSUREPROGRAM',\n",
       " 'CAP_PROP_FOCUS',\n",
       " 'CAP_PROP_FORMAT',\n",
       " 'CAP_PROP_FOURCC',\n",
       " 'CAP_PROP_FPS',\n",
       " 'CAP_PROP_FRAME_COUNT',\n",
       " 'CAP_PROP_FRAME_HEIGHT',\n",
       " 'CAP_PROP_FRAME_TYPE',\n",
       " 'CAP_PROP_FRAME_WIDTH',\n",
       " 'CAP_PROP_GAIN',\n",
       " 'CAP_PROP_GAMMA',\n",
       " 'CAP_PROP_GIGA_FRAME_HEIGH_MAX',\n",
       " 'CAP_PROP_GIGA_FRAME_OFFSET_X',\n",
       " 'CAP_PROP_GIGA_FRAME_OFFSET_Y',\n",
       " 'CAP_PROP_GIGA_FRAME_SENS_HEIGH',\n",
       " 'CAP_PROP_GIGA_FRAME_SENS_WIDTH',\n",
       " 'CAP_PROP_GIGA_FRAME_WIDTH_MAX',\n",
       " 'CAP_PROP_GPHOTO2_COLLECT_MSGS',\n",
       " 'CAP_PROP_GPHOTO2_FLUSH_MSGS',\n",
       " 'CAP_PROP_GPHOTO2_PREVIEW',\n",
       " 'CAP_PROP_GPHOTO2_RELOAD_CONFIG',\n",
       " 'CAP_PROP_GPHOTO2_RELOAD_ON_CHANGE',\n",
       " 'CAP_PROP_GPHOTO2_WIDGET_ENUMERATE',\n",
       " 'CAP_PROP_GSTREAMER_QUEUE_LENGTH',\n",
       " 'CAP_PROP_GUID',\n",
       " 'CAP_PROP_HUE',\n",
       " 'CAP_PROP_HW_ACCELERATION',\n",
       " 'CAP_PROP_HW_ACCELERATION_USE_OPENCL',\n",
       " 'CAP_PROP_HW_DEVICE',\n",
       " 'CAP_PROP_IMAGES_BASE',\n",
       " 'CAP_PROP_IMAGES_LAST',\n",
       " 'CAP_PROP_INTELPERC_DEPTH_CONFIDENCE_THRESHOLD',\n",
       " 'CAP_PROP_INTELPERC_DEPTH_FOCAL_LENGTH_HORZ',\n",
       " 'CAP_PROP_INTELPERC_DEPTH_FOCAL_LENGTH_VERT',\n",
       " 'CAP_PROP_INTELPERC_DEPTH_LOW_CONFIDENCE_VALUE',\n",
       " 'CAP_PROP_INTELPERC_DEPTH_SATURATION_VALUE',\n",
       " 'CAP_PROP_INTELPERC_PROFILE_COUNT',\n",
       " 'CAP_PROP_INTELPERC_PROFILE_IDX',\n",
       " 'CAP_PROP_IOS_DEVICE_EXPOSURE',\n",
       " 'CAP_PROP_IOS_DEVICE_FLASH',\n",
       " 'CAP_PROP_IOS_DEVICE_FOCUS',\n",
       " 'CAP_PROP_IOS_DEVICE_TORCH',\n",
       " 'CAP_PROP_IOS_DEVICE_WHITEBALANCE',\n",
       " 'CAP_PROP_IRIS',\n",
       " 'CAP_PROP_ISO_SPEED',\n",
       " 'CAP_PROP_LRF_HAS_KEY_FRAME',\n",
       " 'CAP_PROP_MODE',\n",
       " 'CAP_PROP_MONOCHROME',\n",
       " 'CAP_PROP_N_THREADS',\n",
       " 'CAP_PROP_OBSENSOR_INTRINSIC_CX',\n",
       " 'CAP_PROP_OBSENSOR_INTRINSIC_CY',\n",
       " 'CAP_PROP_OBSENSOR_INTRINSIC_FX',\n",
       " 'CAP_PROP_OBSENSOR_INTRINSIC_FY',\n",
       " 'CAP_PROP_OPENNI2_MIRROR',\n",
       " 'CAP_PROP_OPENNI2_SYNC',\n",
       " 'CAP_PROP_OPENNI_APPROX_FRAME_SYNC',\n",
       " 'CAP_PROP_OPENNI_BASELINE',\n",
       " 'CAP_PROP_OPENNI_CIRCLE_BUFFER',\n",
       " 'CAP_PROP_OPENNI_FOCAL_LENGTH',\n",
       " 'CAP_PROP_OPENNI_FRAME_MAX_DEPTH',\n",
       " 'CAP_PROP_OPENNI_GENERATOR_PRESENT',\n",
       " 'CAP_PROP_OPENNI_MAX_BUFFER_SIZE',\n",
       " 'CAP_PROP_OPENNI_MAX_TIME_DURATION',\n",
       " 'CAP_PROP_OPENNI_OUTPUT_MODE',\n",
       " 'CAP_PROP_OPENNI_REGISTRATION',\n",
       " 'CAP_PROP_OPENNI_REGISTRATION_ON',\n",
       " 'CAP_PROP_OPEN_TIMEOUT_MSEC',\n",
       " 'CAP_PROP_ORIENTATION_AUTO',\n",
       " 'CAP_PROP_ORIENTATION_META',\n",
       " 'CAP_PROP_PAN',\n",
       " 'CAP_PROP_POS_AVI_RATIO',\n",
       " 'CAP_PROP_POS_FRAMES',\n",
       " 'CAP_PROP_POS_MSEC',\n",
       " 'CAP_PROP_PVAPI_BINNINGX',\n",
       " 'CAP_PROP_PVAPI_BINNINGY',\n",
       " 'CAP_PROP_PVAPI_DECIMATIONHORIZONTAL',\n",
       " 'CAP_PROP_PVAPI_DECIMATIONVERTICAL',\n",
       " 'CAP_PROP_PVAPI_FRAMESTARTTRIGGERMODE',\n",
       " 'CAP_PROP_PVAPI_MULTICASTIP',\n",
       " 'CAP_PROP_PVAPI_PIXELFORMAT',\n",
       " 'CAP_PROP_READ_TIMEOUT_MSEC',\n",
       " 'CAP_PROP_RECTIFICATION',\n",
       " 'CAP_PROP_ROLL',\n",
       " 'CAP_PROP_SAR_DEN',\n",
       " 'CAP_PROP_SAR_NUM',\n",
       " 'CAP_PROP_SATURATION',\n",
       " 'CAP_PROP_SETTINGS',\n",
       " 'CAP_PROP_SHARPNESS',\n",
       " 'CAP_PROP_SPEED',\n",
       " 'CAP_PROP_STREAM_OPEN_TIME_USEC',\n",
       " 'CAP_PROP_TEMPERATURE',\n",
       " 'CAP_PROP_TILT',\n",
       " 'CAP_PROP_TRIGGER',\n",
       " 'CAP_PROP_TRIGGER_DELAY',\n",
       " 'CAP_PROP_VIDEO_STREAM',\n",
       " 'CAP_PROP_VIDEO_TOTAL_CHANNELS',\n",
       " 'CAP_PROP_VIEWFINDER',\n",
       " 'CAP_PROP_WB_TEMPERATURE',\n",
       " 'CAP_PROP_WHITE_BALANCE_BLUE_U',\n",
       " 'CAP_PROP_WHITE_BALANCE_RED_V',\n",
       " 'CAP_PROP_XI_ACQ_BUFFER_SIZE',\n",
       " 'CAP_PROP_XI_ACQ_BUFFER_SIZE_UNIT',\n",
       " 'CAP_PROP_XI_ACQ_FRAME_BURST_COUNT',\n",
       " 'CAP_PROP_XI_ACQ_TIMING_MODE',\n",
       " 'CAP_PROP_XI_ACQ_TRANSPORT_BUFFER_COMMIT',\n",
       " 'CAP_PROP_XI_ACQ_TRANSPORT_BUFFER_SIZE',\n",
       " 'CAP_PROP_XI_AEAG',\n",
       " 'CAP_PROP_XI_AEAG_LEVEL',\n",
       " 'CAP_PROP_XI_AEAG_ROI_HEIGHT',\n",
       " 'CAP_PROP_XI_AEAG_ROI_OFFSET_X',\n",
       " 'CAP_PROP_XI_AEAG_ROI_OFFSET_Y',\n",
       " 'CAP_PROP_XI_AEAG_ROI_WIDTH',\n",
       " 'CAP_PROP_XI_AE_MAX_LIMIT',\n",
       " 'CAP_PROP_XI_AG_MAX_LIMIT',\n",
       " 'CAP_PROP_XI_APPLY_CMS',\n",
       " 'CAP_PROP_XI_AUTO_BANDWIDTH_CALCULATION',\n",
       " 'CAP_PROP_XI_AUTO_WB',\n",
       " 'CAP_PROP_XI_AVAILABLE_BANDWIDTH',\n",
       " 'CAP_PROP_XI_BINNING_HORIZONTAL',\n",
       " 'CAP_PROP_XI_BINNING_PATTERN',\n",
       " 'CAP_PROP_XI_BINNING_SELECTOR',\n",
       " 'CAP_PROP_XI_BINNING_VERTICAL',\n",
       " 'CAP_PROP_XI_BPC',\n",
       " 'CAP_PROP_XI_BUFFERS_QUEUE_SIZE',\n",
       " 'CAP_PROP_XI_BUFFER_POLICY',\n",
       " 'CAP_PROP_XI_CC_MATRIX_00',\n",
       " 'CAP_PROP_XI_CC_MATRIX_01',\n",
       " 'CAP_PROP_XI_CC_MATRIX_02',\n",
       " 'CAP_PROP_XI_CC_MATRIX_03',\n",
       " 'CAP_PROP_XI_CC_MATRIX_10',\n",
       " 'CAP_PROP_XI_CC_MATRIX_11',\n",
       " 'CAP_PROP_XI_CC_MATRIX_12',\n",
       " 'CAP_PROP_XI_CC_MATRIX_13',\n",
       " 'CAP_PROP_XI_CC_MATRIX_20',\n",
       " 'CAP_PROP_XI_CC_MATRIX_21',\n",
       " 'CAP_PROP_XI_CC_MATRIX_22',\n",
       " 'CAP_PROP_XI_CC_MATRIX_23',\n",
       " 'CAP_PROP_XI_CC_MATRIX_30',\n",
       " 'CAP_PROP_XI_CC_MATRIX_31',\n",
       " 'CAP_PROP_XI_CC_MATRIX_32',\n",
       " 'CAP_PROP_XI_CC_MATRIX_33',\n",
       " 'CAP_PROP_XI_CHIP_TEMP',\n",
       " 'CAP_PROP_XI_CMS',\n",
       " 'CAP_PROP_XI_COLOR_FILTER_ARRAY',\n",
       " 'CAP_PROP_XI_COLUMN_FPN_CORRECTION',\n",
       " 'CAP_PROP_XI_COOLING',\n",
       " 'CAP_PROP_XI_COUNTER_SELECTOR',\n",
       " 'CAP_PROP_XI_COUNTER_VALUE',\n",
       " 'CAP_PROP_XI_DATA_FORMAT',\n",
       " 'CAP_PROP_XI_DEBOUNCE_EN',\n",
       " 'CAP_PROP_XI_DEBOUNCE_POL',\n",
       " 'CAP_PROP_XI_DEBOUNCE_T0',\n",
       " 'CAP_PROP_XI_DEBOUNCE_T1',\n",
       " 'CAP_PROP_XI_DEBUG_LEVEL',\n",
       " 'CAP_PROP_XI_DECIMATION_HORIZONTAL',\n",
       " 'CAP_PROP_XI_DECIMATION_PATTERN',\n",
       " 'CAP_PROP_XI_DECIMATION_SELECTOR',\n",
       " 'CAP_PROP_XI_DECIMATION_VERTICAL',\n",
       " 'CAP_PROP_XI_DEFAULT_CC_MATRIX',\n",
       " 'CAP_PROP_XI_DEVICE_MODEL_ID',\n",
       " 'CAP_PROP_XI_DEVICE_RESET',\n",
       " 'CAP_PROP_XI_DEVICE_SN',\n",
       " 'CAP_PROP_XI_DOWNSAMPLING',\n",
       " 'CAP_PROP_XI_DOWNSAMPLING_TYPE',\n",
       " 'CAP_PROP_XI_EXPOSURE',\n",
       " 'CAP_PROP_XI_EXPOSURE_BURST_COUNT',\n",
       " 'CAP_PROP_XI_EXP_PRIORITY',\n",
       " 'CAP_PROP_XI_FFS_ACCESS_KEY',\n",
       " 'CAP_PROP_XI_FFS_FILE_ID',\n",
       " 'CAP_PROP_XI_FFS_FILE_SIZE',\n",
       " 'CAP_PROP_XI_FRAMERATE',\n",
       " 'CAP_PROP_XI_FREE_FFS_SIZE',\n",
       " 'CAP_PROP_XI_GAIN',\n",
       " 'CAP_PROP_XI_GAIN_SELECTOR',\n",
       " 'CAP_PROP_XI_GAMMAC',\n",
       " 'CAP_PROP_XI_GAMMAY',\n",
       " 'CAP_PROP_XI_GPI_LEVEL',\n",
       " 'CAP_PROP_XI_GPI_MODE',\n",
       " 'CAP_PROP_XI_GPI_SELECTOR',\n",
       " 'CAP_PROP_XI_GPO_MODE',\n",
       " 'CAP_PROP_XI_GPO_SELECTOR',\n",
       " 'CAP_PROP_XI_HDR',\n",
       " 'CAP_PROP_XI_HDR_KNEEPOINT_COUNT',\n",
       " 'CAP_PROP_XI_HDR_T1',\n",
       " 'CAP_PROP_XI_HDR_T2',\n",
       " 'CAP_PROP_XI_HEIGHT',\n",
       " 'CAP_PROP_XI_HOUS_BACK_SIDE_TEMP',\n",
       " 'CAP_PROP_XI_HOUS_TEMP',\n",
       " 'CAP_PROP_XI_HW_REVISION',\n",
       " 'CAP_PROP_XI_IMAGE_BLACK_LEVEL',\n",
       " 'CAP_PROP_XI_IMAGE_DATA_BIT_DEPTH',\n",
       " 'CAP_PROP_XI_IMAGE_DATA_FORMAT',\n",
       " 'CAP_PROP_XI_IMAGE_DATA_FORMAT_RGB32_ALPHA',\n",
       " 'CAP_PROP_XI_IMAGE_IS_COLOR',\n",
       " 'CAP_PROP_XI_IMAGE_PAYLOAD_SIZE',\n",
       " 'CAP_PROP_XI_IS_COOLED',\n",
       " 'CAP_PROP_XI_IS_DEVICE_EXIST',\n",
       " 'CAP_PROP_XI_KNEEPOINT1',\n",
       " 'CAP_PROP_XI_KNEEPOINT2',\n",
       " 'CAP_PROP_XI_LED_MODE',\n",
       " 'CAP_PROP_XI_LED_SELECTOR',\n",
       " 'CAP_PROP_XI_LENS_APERTURE_VALUE',\n",
       " 'CAP_PROP_XI_LENS_FEATURE',\n",
       " 'CAP_PROP_XI_LENS_FEATURE_SELECTOR',\n",
       " 'CAP_PROP_XI_LENS_FOCAL_LENGTH',\n",
       " 'CAP_PROP_XI_LENS_FOCUS_DISTANCE',\n",
       " 'CAP_PROP_XI_LENS_FOCUS_MOVE',\n",
       " 'CAP_PROP_XI_LENS_FOCUS_MOVEMENT_VALUE',\n",
       " 'CAP_PROP_XI_LENS_MODE',\n",
       " 'CAP_PROP_XI_LIMIT_BANDWIDTH',\n",
       " 'CAP_PROP_XI_LUT_EN',\n",
       " 'CAP_PROP_XI_LUT_INDEX',\n",
       " 'CAP_PROP_XI_LUT_VALUE',\n",
       " 'CAP_PROP_XI_MANUAL_WB',\n",
       " 'CAP_PROP_XI_OFFSET_X',\n",
       " 'CAP_PROP_XI_OFFSET_Y',\n",
       " 'CAP_PROP_XI_OUTPUT_DATA_BIT_DEPTH',\n",
       " 'CAP_PROP_XI_OUTPUT_DATA_PACKING',\n",
       " 'CAP_PROP_XI_OUTPUT_DATA_PACKING_TYPE',\n",
       " 'CAP_PROP_XI_RECENT_FRAME',\n",
       " 'CAP_PROP_XI_REGION_MODE',\n",
       " 'CAP_PROP_XI_REGION_SELECTOR',\n",
       " 'CAP_PROP_XI_ROW_FPN_CORRECTION',\n",
       " 'CAP_PROP_XI_SENSOR_BOARD_TEMP',\n",
       " 'CAP_PROP_XI_SENSOR_CLOCK_FREQ_HZ',\n",
       " 'CAP_PROP_XI_SENSOR_CLOCK_FREQ_INDEX',\n",
       " 'CAP_PROP_XI_SENSOR_DATA_BIT_DEPTH',\n",
       " 'CAP_PROP_XI_SENSOR_FEATURE_SELECTOR',\n",
       " 'CAP_PROP_XI_SENSOR_FEATURE_VALUE',\n",
       " 'CAP_PROP_XI_SENSOR_MODE',\n",
       " 'CAP_PROP_XI_SENSOR_OUTPUT_CHANNEL_COUNT',\n",
       " 'CAP_PROP_XI_SENSOR_TAPS',\n",
       " 'CAP_PROP_XI_SHARPNESS',\n",
       " 'CAP_PROP_XI_SHUTTER_TYPE',\n",
       " 'CAP_PROP_XI_TARGET_TEMP',\n",
       " 'CAP_PROP_XI_TEST_PATTERN',\n",
       " 'CAP_PROP_XI_TEST_PATTERN_GENERATOR_SELECTOR',\n",
       " 'CAP_PROP_XI_TIMEOUT',\n",
       " 'CAP_PROP_XI_TRANSPORT_PIXEL_FORMAT',\n",
       " 'CAP_PROP_XI_TRG_DELAY',\n",
       " 'CAP_PROP_XI_TRG_SELECTOR',\n",
       " 'CAP_PROP_XI_TRG_SOFTWARE',\n",
       " 'CAP_PROP_XI_TRG_SOURCE',\n",
       " 'CAP_PROP_XI_TS_RST_MODE',\n",
       " 'CAP_PROP_XI_TS_RST_SOURCE',\n",
       " 'CAP_PROP_XI_USED_FFS_SIZE',\n",
       " 'CAP_PROP_XI_WB_KB',\n",
       " 'CAP_PROP_XI_WB_KG',\n",
       " 'CAP_PROP_XI_WB_KR',\n",
       " 'CAP_PROP_XI_WIDTH',\n",
       " 'CAP_PROP_ZOOM',\n",
       " 'CAP_PVAPI',\n",
       " 'CAP_PVAPI_DECIMATION_2OUTOF16',\n",
       " 'CAP_PVAPI_DECIMATION_2OUTOF4',\n",
       " 'CAP_PVAPI_DECIMATION_2OUTOF8',\n",
       " 'CAP_PVAPI_DECIMATION_OFF',\n",
       " 'CAP_PVAPI_FSTRIGMODE_FIXEDRATE',\n",
       " 'CAP_PVAPI_FSTRIGMODE_FREERUN',\n",
       " 'CAP_PVAPI_FSTRIGMODE_SOFTWARE',\n",
       " 'CAP_PVAPI_FSTRIGMODE_SYNCIN1',\n",
       " 'CAP_PVAPI_FSTRIGMODE_SYNCIN2',\n",
       " 'CAP_PVAPI_PIXELFORMAT_BAYER16',\n",
       " 'CAP_PVAPI_PIXELFORMAT_BAYER8',\n",
       " 'CAP_PVAPI_PIXELFORMAT_BGR24',\n",
       " 'CAP_PVAPI_PIXELFORMAT_BGRA32',\n",
       " 'CAP_PVAPI_PIXELFORMAT_MONO16',\n",
       " 'CAP_PVAPI_PIXELFORMAT_MONO8',\n",
       " 'CAP_PVAPI_PIXELFORMAT_RGB24',\n",
       " 'CAP_PVAPI_PIXELFORMAT_RGBA32',\n",
       " 'CAP_QT',\n",
       " 'CAP_REALSENSE',\n",
       " 'CAP_UEYE',\n",
       " 'CAP_UNICAP',\n",
       " 'CAP_V4L',\n",
       " 'CAP_V4L2',\n",
       " 'CAP_VFW',\n",
       " 'CAP_WINRT',\n",
       " 'CAP_XIAPI',\n",
       " 'CAP_XINE',\n",
       " 'CASCADE_DO_CANNY_PRUNING',\n",
       " 'CASCADE_DO_ROUGH_SEARCH',\n",
       " 'CASCADE_FIND_BIGGEST_OBJECT',\n",
       " 'CASCADE_SCALE_IMAGE',\n",
       " 'CCL_BBDT',\n",
       " 'CCL_BOLELLI',\n",
       " 'CCL_DEFAULT',\n",
       " 'CCL_GRANA',\n",
       " 'CCL_SAUF',\n",
       " 'CCL_SPAGHETTI',\n",
       " 'CCL_WU',\n",
       " 'CC_STAT_AREA',\n",
       " 'CC_STAT_HEIGHT',\n",
       " 'CC_STAT_LEFT',\n",
       " 'CC_STAT_MAX',\n",
       " 'CC_STAT_TOP',\n",
       " 'CC_STAT_WIDTH',\n",
       " 'CHAIN_APPROX_NONE',\n",
       " 'CHAIN_APPROX_SIMPLE',\n",
       " 'CHAIN_APPROX_TC89_KCOS',\n",
       " 'CHAIN_APPROX_TC89_L1',\n",
       " 'CIRCLES_GRID_FINDER_PARAMETERS_ASYMMETRIC_GRID',\n",
       " 'CIRCLES_GRID_FINDER_PARAMETERS_SYMMETRIC_GRID',\n",
       " 'CLAHE',\n",
       " 'CMP_EQ',\n",
       " 'CMP_GE',\n",
       " 'CMP_GT',\n",
       " 'CMP_LE',\n",
       " 'CMP_LT',\n",
       " 'CMP_NE',\n",
       " 'COLORMAP_AUTUMN',\n",
       " 'COLORMAP_BONE',\n",
       " 'COLORMAP_CIVIDIS',\n",
       " 'COLORMAP_COOL',\n",
       " 'COLORMAP_DEEPGREEN',\n",
       " 'COLORMAP_HOT',\n",
       " 'COLORMAP_HSV',\n",
       " 'COLORMAP_INFERNO',\n",
       " 'COLORMAP_JET',\n",
       " 'COLORMAP_MAGMA',\n",
       " 'COLORMAP_OCEAN',\n",
       " 'COLORMAP_PARULA',\n",
       " 'COLORMAP_PINK',\n",
       " 'COLORMAP_PLASMA',\n",
       " 'COLORMAP_RAINBOW',\n",
       " 'COLORMAP_SPRING',\n",
       " 'COLORMAP_SUMMER',\n",
       " 'COLORMAP_TURBO',\n",
       " 'COLORMAP_TWILIGHT',\n",
       " 'COLORMAP_TWILIGHT_SHIFTED',\n",
       " 'COLORMAP_VIRIDIS',\n",
       " 'COLORMAP_WINTER',\n",
       " 'COLOR_BAYER_BG2BGR',\n",
       " 'COLOR_BAYER_BG2BGRA',\n",
       " 'COLOR_BAYER_BG2BGR_EA',\n",
       " 'COLOR_BAYER_BG2BGR_VNG',\n",
       " 'COLOR_BAYER_BG2GRAY',\n",
       " 'COLOR_BAYER_BG2RGB',\n",
       " 'COLOR_BAYER_BG2RGBA',\n",
       " 'COLOR_BAYER_BG2RGB_EA',\n",
       " 'COLOR_BAYER_BG2RGB_VNG',\n",
       " 'COLOR_BAYER_BGGR2BGR',\n",
       " 'COLOR_BAYER_BGGR2BGRA',\n",
       " 'COLOR_BAYER_BGGR2BGR_EA',\n",
       " 'COLOR_BAYER_BGGR2BGR_VNG',\n",
       " 'COLOR_BAYER_BGGR2GRAY',\n",
       " 'COLOR_BAYER_BGGR2RGB',\n",
       " 'COLOR_BAYER_BGGR2RGBA',\n",
       " 'COLOR_BAYER_BGGR2RGB_EA',\n",
       " 'COLOR_BAYER_BGGR2RGB_VNG',\n",
       " 'COLOR_BAYER_GB2BGR',\n",
       " 'COLOR_BAYER_GB2BGRA',\n",
       " 'COLOR_BAYER_GB2BGR_EA',\n",
       " 'COLOR_BAYER_GB2BGR_VNG',\n",
       " 'COLOR_BAYER_GB2GRAY',\n",
       " 'COLOR_BAYER_GB2RGB',\n",
       " 'COLOR_BAYER_GB2RGBA',\n",
       " 'COLOR_BAYER_GB2RGB_EA',\n",
       " 'COLOR_BAYER_GB2RGB_VNG',\n",
       " 'COLOR_BAYER_GBRG2BGR',\n",
       " 'COLOR_BAYER_GBRG2BGRA',\n",
       " 'COLOR_BAYER_GBRG2BGR_EA',\n",
       " 'COLOR_BAYER_GBRG2BGR_VNG',\n",
       " 'COLOR_BAYER_GBRG2GRAY',\n",
       " 'COLOR_BAYER_GBRG2RGB',\n",
       " 'COLOR_BAYER_GBRG2RGBA',\n",
       " 'COLOR_BAYER_GBRG2RGB_EA',\n",
       " 'COLOR_BAYER_GBRG2RGB_VNG',\n",
       " 'COLOR_BAYER_GR2BGR',\n",
       " 'COLOR_BAYER_GR2BGRA',\n",
       " 'COLOR_BAYER_GR2BGR_EA',\n",
       " 'COLOR_BAYER_GR2BGR_VNG',\n",
       " 'COLOR_BAYER_GR2GRAY',\n",
       " 'COLOR_BAYER_GR2RGB',\n",
       " 'COLOR_BAYER_GR2RGBA',\n",
       " 'COLOR_BAYER_GR2RGB_EA',\n",
       " 'COLOR_BAYER_GR2RGB_VNG',\n",
       " 'COLOR_BAYER_GRBG2BGR',\n",
       " 'COLOR_BAYER_GRBG2BGRA',\n",
       " 'COLOR_BAYER_GRBG2BGR_EA',\n",
       " 'COLOR_BAYER_GRBG2BGR_VNG',\n",
       " 'COLOR_BAYER_GRBG2GRAY',\n",
       " 'COLOR_BAYER_GRBG2RGB',\n",
       " 'COLOR_BAYER_GRBG2RGBA',\n",
       " 'COLOR_BAYER_GRBG2RGB_EA',\n",
       " 'COLOR_BAYER_GRBG2RGB_VNG',\n",
       " 'COLOR_BAYER_RG2BGR',\n",
       " 'COLOR_BAYER_RG2BGRA',\n",
       " 'COLOR_BAYER_RG2BGR_EA',\n",
       " 'COLOR_BAYER_RG2BGR_VNG',\n",
       " 'COLOR_BAYER_RG2GRAY',\n",
       " 'COLOR_BAYER_RG2RGB',\n",
       " 'COLOR_BAYER_RG2RGBA',\n",
       " 'COLOR_BAYER_RG2RGB_EA',\n",
       " 'COLOR_BAYER_RG2RGB_VNG',\n",
       " 'COLOR_BAYER_RGGB2BGR',\n",
       " 'COLOR_BAYER_RGGB2BGRA',\n",
       " 'COLOR_BAYER_RGGB2BGR_EA',\n",
       " 'COLOR_BAYER_RGGB2BGR_VNG',\n",
       " 'COLOR_BAYER_RGGB2GRAY',\n",
       " 'COLOR_BAYER_RGGB2RGB',\n",
       " 'COLOR_BAYER_RGGB2RGBA',\n",
       " 'COLOR_BAYER_RGGB2RGB_EA',\n",
       " 'COLOR_BAYER_RGGB2RGB_VNG',\n",
       " 'COLOR_BGR2BGR555',\n",
       " 'COLOR_BGR2BGR565',\n",
       " 'COLOR_BGR2BGRA',\n",
       " 'COLOR_BGR2GRAY',\n",
       " 'COLOR_BGR2HLS',\n",
       " 'COLOR_BGR2HLS_FULL',\n",
       " 'COLOR_BGR2HSV',\n",
       " 'COLOR_BGR2HSV_FULL',\n",
       " 'COLOR_BGR2LAB',\n",
       " 'COLOR_BGR2LUV',\n",
       " 'COLOR_BGR2Lab',\n",
       " 'COLOR_BGR2Luv',\n",
       " 'COLOR_BGR2RGB',\n",
       " 'COLOR_BGR2RGBA',\n",
       " 'COLOR_BGR2XYZ',\n",
       " 'COLOR_BGR2YCR_CB',\n",
       " 'COLOR_BGR2YCrCb',\n",
       " 'COLOR_BGR2YUV',\n",
       " 'COLOR_BGR2YUV_I420',\n",
       " 'COLOR_BGR2YUV_IYUV',\n",
       " 'COLOR_BGR2YUV_YV12',\n",
       " 'COLOR_BGR5552BGR',\n",
       " 'COLOR_BGR5552BGRA',\n",
       " 'COLOR_BGR5552GRAY',\n",
       " 'COLOR_BGR5552RGB',\n",
       " 'COLOR_BGR5552RGBA',\n",
       " 'COLOR_BGR5652BGR',\n",
       " 'COLOR_BGR5652BGRA',\n",
       " 'COLOR_BGR5652GRAY',\n",
       " 'COLOR_BGR5652RGB',\n",
       " 'COLOR_BGR5652RGBA',\n",
       " 'COLOR_BGRA2BGR',\n",
       " 'COLOR_BGRA2BGR555',\n",
       " 'COLOR_BGRA2BGR565',\n",
       " 'COLOR_BGRA2GRAY',\n",
       " 'COLOR_BGRA2RGB',\n",
       " 'COLOR_BGRA2RGBA',\n",
       " 'COLOR_BGRA2YUV_I420',\n",
       " 'COLOR_BGRA2YUV_IYUV',\n",
       " 'COLOR_BGRA2YUV_YV12',\n",
       " 'COLOR_BayerBG2BGR',\n",
       " 'COLOR_BayerBG2BGRA',\n",
       " 'COLOR_BayerBG2BGR_EA',\n",
       " 'COLOR_BayerBG2BGR_VNG',\n",
       " 'COLOR_BayerBG2GRAY',\n",
       " 'COLOR_BayerBG2RGB',\n",
       " 'COLOR_BayerBG2RGBA',\n",
       " 'COLOR_BayerBG2RGB_EA',\n",
       " 'COLOR_BayerBG2RGB_VNG',\n",
       " 'COLOR_BayerBGGR2BGR',\n",
       " 'COLOR_BayerBGGR2BGRA',\n",
       " 'COLOR_BayerBGGR2BGR_EA',\n",
       " 'COLOR_BayerBGGR2BGR_VNG',\n",
       " 'COLOR_BayerBGGR2GRAY',\n",
       " 'COLOR_BayerBGGR2RGB',\n",
       " 'COLOR_BayerBGGR2RGBA',\n",
       " 'COLOR_BayerBGGR2RGB_EA',\n",
       " 'COLOR_BayerBGGR2RGB_VNG',\n",
       " 'COLOR_BayerGB2BGR',\n",
       " 'COLOR_BayerGB2BGRA',\n",
       " 'COLOR_BayerGB2BGR_EA',\n",
       " 'COLOR_BayerGB2BGR_VNG',\n",
       " 'COLOR_BayerGB2GRAY',\n",
       " 'COLOR_BayerGB2RGB',\n",
       " 'COLOR_BayerGB2RGBA',\n",
       " 'COLOR_BayerGB2RGB_EA',\n",
       " 'COLOR_BayerGB2RGB_VNG',\n",
       " 'COLOR_BayerGBRG2BGR',\n",
       " 'COLOR_BayerGBRG2BGRA',\n",
       " 'COLOR_BayerGBRG2BGR_EA',\n",
       " 'COLOR_BayerGBRG2BGR_VNG',\n",
       " 'COLOR_BayerGBRG2GRAY',\n",
       " 'COLOR_BayerGBRG2RGB',\n",
       " 'COLOR_BayerGBRG2RGBA',\n",
       " 'COLOR_BayerGBRG2RGB_EA',\n",
       " 'COLOR_BayerGBRG2RGB_VNG',\n",
       " 'COLOR_BayerGR2BGR',\n",
       " 'COLOR_BayerGR2BGRA',\n",
       " 'COLOR_BayerGR2BGR_EA',\n",
       " 'COLOR_BayerGR2BGR_VNG',\n",
       " 'COLOR_BayerGR2GRAY',\n",
       " 'COLOR_BayerGR2RGB',\n",
       " 'COLOR_BayerGR2RGBA',\n",
       " 'COLOR_BayerGR2RGB_EA',\n",
       " 'COLOR_BayerGR2RGB_VNG',\n",
       " 'COLOR_BayerGRBG2BGR',\n",
       " 'COLOR_BayerGRBG2BGRA',\n",
       " 'COLOR_BayerGRBG2BGR_EA',\n",
       " 'COLOR_BayerGRBG2BGR_VNG',\n",
       " 'COLOR_BayerGRBG2GRAY',\n",
       " 'COLOR_BayerGRBG2RGB',\n",
       " 'COLOR_BayerGRBG2RGBA',\n",
       " 'COLOR_BayerGRBG2RGB_EA',\n",
       " 'COLOR_BayerGRBG2RGB_VNG',\n",
       " 'COLOR_BayerRG2BGR',\n",
       " 'COLOR_BayerRG2BGRA',\n",
       " 'COLOR_BayerRG2BGR_EA',\n",
       " 'COLOR_BayerRG2BGR_VNG',\n",
       " 'COLOR_BayerRG2GRAY',\n",
       " 'COLOR_BayerRG2RGB',\n",
       " 'COLOR_BayerRG2RGBA',\n",
       " 'COLOR_BayerRG2RGB_EA',\n",
       " 'COLOR_BayerRG2RGB_VNG',\n",
       " 'COLOR_BayerRGGB2BGR',\n",
       " 'COLOR_BayerRGGB2BGRA',\n",
       " 'COLOR_BayerRGGB2BGR_EA',\n",
       " 'COLOR_BayerRGGB2BGR_VNG',\n",
       " 'COLOR_BayerRGGB2GRAY',\n",
       " 'COLOR_BayerRGGB2RGB',\n",
       " 'COLOR_BayerRGGB2RGBA',\n",
       " 'COLOR_BayerRGGB2RGB_EA',\n",
       " 'COLOR_BayerRGGB2RGB_VNG',\n",
       " 'COLOR_COLORCVT_MAX',\n",
       " 'COLOR_GRAY2BGR',\n",
       " 'COLOR_GRAY2BGR555',\n",
       " 'COLOR_GRAY2BGR565',\n",
       " 'COLOR_GRAY2BGRA',\n",
       " 'COLOR_GRAY2RGB',\n",
       " 'COLOR_GRAY2RGBA',\n",
       " 'COLOR_HLS2BGR',\n",
       " 'COLOR_HLS2BGR_FULL',\n",
       " 'COLOR_HLS2RGB',\n",
       " 'COLOR_HLS2RGB_FULL',\n",
       " 'COLOR_HSV2BGR',\n",
       " 'COLOR_HSV2BGR_FULL',\n",
       " 'COLOR_HSV2RGB',\n",
       " 'COLOR_HSV2RGB_FULL',\n",
       " 'COLOR_LAB2BGR',\n",
       " 'COLOR_LAB2LBGR',\n",
       " 'COLOR_LAB2LRGB',\n",
       " 'COLOR_LAB2RGB',\n",
       " 'COLOR_LBGR2LAB',\n",
       " 'COLOR_LBGR2LUV',\n",
       " 'COLOR_LBGR2Lab',\n",
       " 'COLOR_LBGR2Luv',\n",
       " 'COLOR_LRGB2LAB',\n",
       " 'COLOR_LRGB2LUV',\n",
       " 'COLOR_LRGB2Lab',\n",
       " 'COLOR_LRGB2Luv',\n",
       " 'COLOR_LUV2BGR',\n",
       " 'COLOR_LUV2LBGR',\n",
       " 'COLOR_LUV2LRGB',\n",
       " 'COLOR_LUV2RGB',\n",
       " 'COLOR_Lab2BGR',\n",
       " 'COLOR_Lab2LBGR',\n",
       " 'COLOR_Lab2LRGB',\n",
       " 'COLOR_Lab2RGB',\n",
       " 'COLOR_Luv2BGR',\n",
       " 'COLOR_Luv2LBGR',\n",
       " 'COLOR_Luv2LRGB',\n",
       " 'COLOR_Luv2RGB',\n",
       " 'COLOR_M_RGBA2RGBA',\n",
       " 'COLOR_RGB2BGR',\n",
       " 'COLOR_RGB2BGR555',\n",
       " 'COLOR_RGB2BGR565',\n",
       " 'COLOR_RGB2BGRA',\n",
       " 'COLOR_RGB2GRAY',\n",
       " 'COLOR_RGB2HLS',\n",
       " 'COLOR_RGB2HLS_FULL',\n",
       " 'COLOR_RGB2HSV',\n",
       " 'COLOR_RGB2HSV_FULL',\n",
       " 'COLOR_RGB2LAB',\n",
       " 'COLOR_RGB2LUV',\n",
       " 'COLOR_RGB2Lab',\n",
       " 'COLOR_RGB2Luv',\n",
       " 'COLOR_RGB2RGBA',\n",
       " 'COLOR_RGB2XYZ',\n",
       " 'COLOR_RGB2YCR_CB',\n",
       " 'COLOR_RGB2YCrCb',\n",
       " 'COLOR_RGB2YUV',\n",
       " 'COLOR_RGB2YUV_I420',\n",
       " 'COLOR_RGB2YUV_IYUV',\n",
       " 'COLOR_RGB2YUV_YV12',\n",
       " 'COLOR_RGBA2BGR',\n",
       " 'COLOR_RGBA2BGR555',\n",
       " 'COLOR_RGBA2BGR565',\n",
       " 'COLOR_RGBA2BGRA',\n",
       " 'COLOR_RGBA2GRAY',\n",
       " 'COLOR_RGBA2M_RGBA',\n",
       " 'COLOR_RGBA2RGB',\n",
       " 'COLOR_RGBA2YUV_I420',\n",
       " 'COLOR_RGBA2YUV_IYUV',\n",
       " 'COLOR_RGBA2YUV_YV12',\n",
       " 'COLOR_RGBA2mRGBA',\n",
       " 'COLOR_XYZ2BGR',\n",
       " 'COLOR_XYZ2RGB',\n",
       " 'COLOR_YCR_CB2BGR',\n",
       " 'COLOR_YCR_CB2RGB',\n",
       " 'COLOR_YCrCb2BGR',\n",
       " 'COLOR_YCrCb2RGB',\n",
       " 'COLOR_YUV2BGR',\n",
       " 'COLOR_YUV2BGRA_I420',\n",
       " 'COLOR_YUV2BGRA_IYUV',\n",
       " 'COLOR_YUV2BGRA_NV12',\n",
       " 'COLOR_YUV2BGRA_NV21',\n",
       " 'COLOR_YUV2BGRA_UYNV',\n",
       " 'COLOR_YUV2BGRA_UYVY',\n",
       " 'COLOR_YUV2BGRA_Y422',\n",
       " 'COLOR_YUV2BGRA_YUNV',\n",
       " 'COLOR_YUV2BGRA_YUY2',\n",
       " 'COLOR_YUV2BGRA_YUYV',\n",
       " 'COLOR_YUV2BGRA_YV12',\n",
       " 'COLOR_YUV2BGRA_YVYU',\n",
       " 'COLOR_YUV2BGR_I420',\n",
       " 'COLOR_YUV2BGR_IYUV',\n",
       " 'COLOR_YUV2BGR_NV12',\n",
       " 'COLOR_YUV2BGR_NV21',\n",
       " 'COLOR_YUV2BGR_UYNV',\n",
       " 'COLOR_YUV2BGR_UYVY',\n",
       " 'COLOR_YUV2BGR_Y422',\n",
       " 'COLOR_YUV2BGR_YUNV',\n",
       " 'COLOR_YUV2BGR_YUY2',\n",
       " 'COLOR_YUV2BGR_YUYV',\n",
       " 'COLOR_YUV2BGR_YV12',\n",
       " 'COLOR_YUV2BGR_YVYU',\n",
       " 'COLOR_YUV2GRAY_420',\n",
       " 'COLOR_YUV2GRAY_I420',\n",
       " 'COLOR_YUV2GRAY_IYUV',\n",
       " 'COLOR_YUV2GRAY_NV12',\n",
       " 'COLOR_YUV2GRAY_NV21',\n",
       " 'COLOR_YUV2GRAY_UYNV',\n",
       " 'COLOR_YUV2GRAY_UYVY',\n",
       " 'COLOR_YUV2GRAY_Y422',\n",
       " 'COLOR_YUV2GRAY_YUNV',\n",
       " 'COLOR_YUV2GRAY_YUY2',\n",
       " 'COLOR_YUV2GRAY_YUYV',\n",
       " 'COLOR_YUV2GRAY_YV12',\n",
       " 'COLOR_YUV2GRAY_YVYU',\n",
       " 'COLOR_YUV2RGB',\n",
       " 'COLOR_YUV2RGBA_I420',\n",
       " 'COLOR_YUV2RGBA_IYUV',\n",
       " 'COLOR_YUV2RGBA_NV12',\n",
       " 'COLOR_YUV2RGBA_NV21',\n",
       " 'COLOR_YUV2RGBA_UYNV',\n",
       " 'COLOR_YUV2RGBA_UYVY',\n",
       " 'COLOR_YUV2RGBA_Y422',\n",
       " 'COLOR_YUV2RGBA_YUNV',\n",
       " 'COLOR_YUV2RGBA_YUY2',\n",
       " 'COLOR_YUV2RGBA_YUYV',\n",
       " 'COLOR_YUV2RGBA_YV12',\n",
       " 'COLOR_YUV2RGBA_YVYU',\n",
       " 'COLOR_YUV2RGB_I420',\n",
       " 'COLOR_YUV2RGB_IYUV',\n",
       " 'COLOR_YUV2RGB_NV12',\n",
       " 'COLOR_YUV2RGB_NV21',\n",
       " 'COLOR_YUV2RGB_UYNV',\n",
       " 'COLOR_YUV2RGB_UYVY',\n",
       " 'COLOR_YUV2RGB_Y422',\n",
       " 'COLOR_YUV2RGB_YUNV',\n",
       " 'COLOR_YUV2RGB_YUY2',\n",
       " 'COLOR_YUV2RGB_YUYV',\n",
       " 'COLOR_YUV2RGB_YV12',\n",
       " 'COLOR_YUV2RGB_YVYU',\n",
       " 'COLOR_YUV420P2BGR',\n",
       " 'COLOR_YUV420P2BGRA',\n",
       " 'COLOR_YUV420P2GRAY',\n",
       " 'COLOR_YUV420P2RGB',\n",
       " 'COLOR_YUV420P2RGBA',\n",
       " 'COLOR_YUV420SP2BGR',\n",
       " 'COLOR_YUV420SP2BGRA',\n",
       " 'COLOR_YUV420SP2GRAY',\n",
       " 'COLOR_YUV420SP2RGB',\n",
       " 'COLOR_YUV420SP2RGBA',\n",
       " 'COLOR_YUV420p2BGR',\n",
       " 'COLOR_YUV420p2BGRA',\n",
       " 'COLOR_YUV420p2GRAY',\n",
       " 'COLOR_YUV420p2RGB',\n",
       " 'COLOR_YUV420p2RGBA',\n",
       " 'COLOR_YUV420sp2BGR',\n",
       " 'COLOR_YUV420sp2BGRA',\n",
       " 'COLOR_YUV420sp2GRAY',\n",
       " 'COLOR_YUV420sp2RGB',\n",
       " 'COLOR_YUV420sp2RGBA',\n",
       " 'COLOR_mRGBA2RGBA',\n",
       " 'CONTOURS_MATCH_I1',\n",
       " 'CONTOURS_MATCH_I2',\n",
       " 'CONTOURS_MATCH_I3',\n",
       " 'COVAR_COLS',\n",
       " 'COVAR_NORMAL',\n",
       " 'COVAR_ROWS',\n",
       " 'COVAR_SCALE',\n",
       " 'COVAR_SCRAMBLED',\n",
       " 'COVAR_USE_AVG',\n",
       " 'CV_16S',\n",
       " 'CV_16SC1',\n",
       " 'CV_16SC2',\n",
       " 'CV_16SC3',\n",
       " 'CV_16SC4',\n",
       " 'CV_16U',\n",
       " 'CV_16UC1',\n",
       " 'CV_16UC2',\n",
       " 'CV_16UC3',\n",
       " 'CV_16UC4',\n",
       " 'CV_32F',\n",
       " 'CV_32FC1',\n",
       " 'CV_32FC2',\n",
       " 'CV_32FC3',\n",
       " 'CV_32FC4',\n",
       " 'CV_32S',\n",
       " 'CV_32SC1',\n",
       " 'CV_32SC2',\n",
       " 'CV_32SC3',\n",
       " 'CV_32SC4',\n",
       " 'CV_64F',\n",
       " 'CV_64FC1',\n",
       " 'CV_64FC2',\n",
       " 'CV_64FC3',\n",
       " 'CV_64FC4',\n",
       " 'CV_8S',\n",
       " 'CV_8SC1',\n",
       " 'CV_8SC2',\n",
       " 'CV_8SC3',\n",
       " 'CV_8SC4',\n",
       " 'CV_8U',\n",
       " 'CV_8UC1',\n",
       " 'CV_8UC2',\n",
       " 'CV_8UC3',\n",
       " 'CV_8UC4',\n",
       " 'CalibrateCRF',\n",
       " 'CalibrateDebevec',\n",
       " 'CalibrateRobertson',\n",
       " 'CamShift',\n",
       " 'Canny',\n",
       " 'CascadeClassifier',\n",
       " 'CascadeClassifier_convert',\n",
       " 'CirclesGridFinderParameters',\n",
       " 'CirclesGridFinderParameters_ASYMMETRIC_GRID',\n",
       " 'CirclesGridFinderParameters_SYMMETRIC_GRID',\n",
       " 'DCT_INVERSE',\n",
       " 'DCT_ROWS',\n",
       " 'DECOMP_CHOLESKY',\n",
       " 'DECOMP_EIG',\n",
       " 'DECOMP_LU',\n",
       " 'DECOMP_NORMAL',\n",
       " 'DECOMP_QR',\n",
       " 'DECOMP_SVD',\n",
       " 'DESCRIPTOR_MATCHER_BRUTEFORCE',\n",
       " 'DESCRIPTOR_MATCHER_BRUTEFORCE_HAMMING',\n",
       " 'DESCRIPTOR_MATCHER_BRUTEFORCE_HAMMINGLUT',\n",
       " 'DESCRIPTOR_MATCHER_BRUTEFORCE_L1',\n",
       " 'DESCRIPTOR_MATCHER_BRUTEFORCE_SL2',\n",
       " 'DESCRIPTOR_MATCHER_FLANNBASED',\n",
       " 'DFT_COMPLEX_INPUT',\n",
       " 'DFT_COMPLEX_OUTPUT',\n",
       " 'DFT_INVERSE',\n",
       " 'DFT_REAL_OUTPUT',\n",
       " 'DFT_ROWS',\n",
       " 'DFT_SCALE',\n",
       " 'DISOPTICAL_FLOW_PRESET_FAST',\n",
       " 'DISOPTICAL_FLOW_PRESET_MEDIUM',\n",
       " 'DISOPTICAL_FLOW_PRESET_ULTRAFAST',\n",
       " 'DISOpticalFlow',\n",
       " 'DISOpticalFlow_PRESET_FAST',\n",
       " 'DISOpticalFlow_PRESET_MEDIUM',\n",
       " 'DISOpticalFlow_PRESET_ULTRAFAST',\n",
       " 'DISOpticalFlow_create',\n",
       " 'DIST_C',\n",
       " 'DIST_FAIR',\n",
       " 'DIST_HUBER',\n",
       " 'DIST_L1',\n",
       " 'DIST_L12',\n",
       " 'DIST_L2',\n",
       " 'DIST_LABEL_CCOMP',\n",
       " 'DIST_LABEL_PIXEL',\n",
       " 'DIST_MASK_3',\n",
       " 'DIST_MASK_5',\n",
       " 'DIST_MASK_PRECISE',\n",
       " 'DIST_USER',\n",
       " 'DIST_WELSCH',\n",
       " 'DMatch',\n",
       " 'DRAW_MATCHES_FLAGS_DEFAULT',\n",
       " 'DRAW_MATCHES_FLAGS_DRAW_OVER_OUTIMG',\n",
       " 'DRAW_MATCHES_FLAGS_DRAW_RICH_KEYPOINTS',\n",
       " 'DRAW_MATCHES_FLAGS_NOT_DRAW_SINGLE_POINTS',\n",
       " 'DenseOpticalFlow',\n",
       " 'DescriptorMatcher',\n",
       " 'DescriptorMatcher_BRUTEFORCE',\n",
       " 'DescriptorMatcher_BRUTEFORCE_HAMMING',\n",
       " 'DescriptorMatcher_BRUTEFORCE_HAMMINGLUT',\n",
       " 'DescriptorMatcher_BRUTEFORCE_L1',\n",
       " 'DescriptorMatcher_BRUTEFORCE_SL2',\n",
       " 'DescriptorMatcher_FLANNBASED',\n",
       " 'DescriptorMatcher_create',\n",
       " 'DrawMatchesFlags_DEFAULT',\n",
       " 'DrawMatchesFlags_DRAW_OVER_OUTIMG',\n",
       " 'DrawMatchesFlags_DRAW_RICH_KEYPOINTS',\n",
       " 'DrawMatchesFlags_NOT_DRAW_SINGLE_POINTS',\n",
       " 'EMD',\n",
       " 'EVENT_FLAG_ALTKEY',\n",
       " 'EVENT_FLAG_CTRLKEY',\n",
       " 'EVENT_FLAG_LBUTTON',\n",
       " 'EVENT_FLAG_MBUTTON',\n",
       " 'EVENT_FLAG_RBUTTON',\n",
       " 'EVENT_FLAG_SHIFTKEY',\n",
       " 'EVENT_LBUTTONDBLCLK',\n",
       " 'EVENT_LBUTTONDOWN',\n",
       " 'EVENT_LBUTTONUP',\n",
       " 'EVENT_MBUTTONDBLCLK',\n",
       " 'EVENT_MBUTTONDOWN',\n",
       " 'EVENT_MBUTTONUP',\n",
       " 'EVENT_MOUSEHWHEEL',\n",
       " 'EVENT_MOUSEMOVE',\n",
       " 'EVENT_MOUSEWHEEL',\n",
       " 'EVENT_RBUTTONDBLCLK',\n",
       " 'EVENT_RBUTTONDOWN',\n",
       " 'EVENT_RBUTTONUP',\n",
       " 'Error',\n",
       " ...]"
      ]
     },
     "execution_count": 15,
     "metadata": {},
     "output_type": "execute_result"
    }
   ],
   "source": [
    "dir(cv2)"
   ]
  },
  {
   "cell_type": "markdown",
   "metadata": {},
   "source": [
    "## Starter Code\n",
    "\n",
    "We provide information about all of the features on our data as a .csv file for easy lookup throughout the notebook:"
   ]
  },
  {
   "cell_type": "code",
   "execution_count": 1,
   "metadata": {},
   "outputs": [],
   "source": [
    "import pandas as pd"
   ]
  },
  {
   "cell_type": "code",
   "execution_count": 2,
   "metadata": {},
   "outputs": [],
   "source": [
    "data_info = pd.read_csv('DATA/lending_club_info.csv', index_col='LoanStatNew')"
   ]
  },
  {
   "cell_type": "code",
   "execution_count": 3,
   "metadata": {},
   "outputs": [
    {
     "name": "stdout",
     "output_type": "stream",
     "text": [
      "Revolving line utilization rate, or the amount of credit the borrower is using relative to all available revolving credit.\n"
     ]
    }
   ],
   "source": [
    "print(data_info.loc['revol_util']['Description'])"
   ]
  },
  {
   "cell_type": "code",
   "execution_count": 4,
   "metadata": {
    "scrolled": false
   },
   "outputs": [
    {
     "data": {
      "text/html": [
       "<div>\n",
       "<style scoped>\n",
       "    .dataframe tbody tr th:only-of-type {\n",
       "        vertical-align: middle;\n",
       "    }\n",
       "\n",
       "    .dataframe tbody tr th {\n",
       "        vertical-align: top;\n",
       "    }\n",
       "\n",
       "    .dataframe thead th {\n",
       "        text-align: right;\n",
       "    }\n",
       "</style>\n",
       "<table border=\"1\" class=\"dataframe\">\n",
       "  <thead>\n",
       "    <tr style=\"text-align: right;\">\n",
       "      <th></th>\n",
       "      <th>Description</th>\n",
       "    </tr>\n",
       "    <tr>\n",
       "      <th>LoanStatNew</th>\n",
       "      <th></th>\n",
       "    </tr>\n",
       "  </thead>\n",
       "  <tbody>\n",
       "    <tr>\n",
       "      <th>loan_amnt</th>\n",
       "      <td>The listed amount of the loan applied for by the borrower. If at some point in time, the credit department reduces the loan amount, then it will be reflected in this value.</td>\n",
       "    </tr>\n",
       "    <tr>\n",
       "      <th>term</th>\n",
       "      <td>The number of payments on the loan. Values are in months and can be either 36 or 60.</td>\n",
       "    </tr>\n",
       "    <tr>\n",
       "      <th>int_rate</th>\n",
       "      <td>Interest Rate on the loan</td>\n",
       "    </tr>\n",
       "    <tr>\n",
       "      <th>installment</th>\n",
       "      <td>The monthly payment owed by the borrower if the loan originates.</td>\n",
       "    </tr>\n",
       "    <tr>\n",
       "      <th>grade</th>\n",
       "      <td>LC assigned loan grade</td>\n",
       "    </tr>\n",
       "    <tr>\n",
       "      <th>sub_grade</th>\n",
       "      <td>LC assigned loan subgrade</td>\n",
       "    </tr>\n",
       "    <tr>\n",
       "      <th>emp_title</th>\n",
       "      <td>The job title supplied by the Borrower when applying for the loan.*</td>\n",
       "    </tr>\n",
       "    <tr>\n",
       "      <th>emp_length</th>\n",
       "      <td>Employment length in years. Possible values are between 0 and 10 where 0 means less than one year and 10 means ten or more years.</td>\n",
       "    </tr>\n",
       "    <tr>\n",
       "      <th>home_ownership</th>\n",
       "      <td>The home ownership status provided by the borrower during registration or obtained from the credit report. Our values are: RENT, OWN, MORTGAGE, OTHER</td>\n",
       "    </tr>\n",
       "    <tr>\n",
       "      <th>annual_inc</th>\n",
       "      <td>The self-reported annual income provided by the borrower during registration.</td>\n",
       "    </tr>\n",
       "    <tr>\n",
       "      <th>verification_status</th>\n",
       "      <td>Indicates if income was verified by LC, not verified, or if the income source was verified</td>\n",
       "    </tr>\n",
       "    <tr>\n",
       "      <th>issue_d</th>\n",
       "      <td>The month which the loan was funded</td>\n",
       "    </tr>\n",
       "    <tr>\n",
       "      <th>loan_status</th>\n",
       "      <td>Current status of the loan</td>\n",
       "    </tr>\n",
       "    <tr>\n",
       "      <th>purpose</th>\n",
       "      <td>A category provided by the borrower for the loan request.</td>\n",
       "    </tr>\n",
       "    <tr>\n",
       "      <th>title</th>\n",
       "      <td>The loan title provided by the borrower</td>\n",
       "    </tr>\n",
       "    <tr>\n",
       "      <th>zip_code</th>\n",
       "      <td>The first 3 numbers of the zip code provided by the borrower in the loan application.</td>\n",
       "    </tr>\n",
       "    <tr>\n",
       "      <th>addr_state</th>\n",
       "      <td>The state provided by the borrower in the loan application</td>\n",
       "    </tr>\n",
       "    <tr>\n",
       "      <th>dti</th>\n",
       "      <td>A ratio calculated using the borrower’s total monthly debt payments on the total debt obligations, excluding mortgage and the requested LC loan, divided by the borrower’s self-reported monthly income.</td>\n",
       "    </tr>\n",
       "    <tr>\n",
       "      <th>earliest_cr_line</th>\n",
       "      <td>The month the borrower's earliest reported credit line was opened</td>\n",
       "    </tr>\n",
       "    <tr>\n",
       "      <th>open_acc</th>\n",
       "      <td>The number of open credit lines in the borrower's credit file.</td>\n",
       "    </tr>\n",
       "    <tr>\n",
       "      <th>pub_rec</th>\n",
       "      <td>Number of derogatory public records</td>\n",
       "    </tr>\n",
       "    <tr>\n",
       "      <th>revol_bal</th>\n",
       "      <td>Total credit revolving balance</td>\n",
       "    </tr>\n",
       "    <tr>\n",
       "      <th>revol_util</th>\n",
       "      <td>Revolving line utilization rate, or the amount of credit the borrower is using relative to all available revolving credit.</td>\n",
       "    </tr>\n",
       "    <tr>\n",
       "      <th>total_acc</th>\n",
       "      <td>The total number of credit lines currently in the borrower's credit file</td>\n",
       "    </tr>\n",
       "    <tr>\n",
       "      <th>initial_list_status</th>\n",
       "      <td>The initial listing status of the loan. Possible values are – W, F</td>\n",
       "    </tr>\n",
       "    <tr>\n",
       "      <th>application_type</th>\n",
       "      <td>Indicates whether the loan is an individual application or a joint application with two co-borrowers</td>\n",
       "    </tr>\n",
       "    <tr>\n",
       "      <th>mort_acc</th>\n",
       "      <td>Number of mortgage accounts.</td>\n",
       "    </tr>\n",
       "    <tr>\n",
       "      <th>pub_rec_bankruptcies</th>\n",
       "      <td>Number of public record bankruptcies</td>\n",
       "    </tr>\n",
       "  </tbody>\n",
       "</table>\n",
       "</div>"
      ],
      "text/plain": [
       "                                                                                                                                                                                                                   Description\n",
       "LoanStatNew                                                                                                                                                                                                                   \n",
       "loan_amnt                                         The listed amount of the loan applied for by the borrower. If at some point in time, the credit department reduces the loan amount, then it will be reflected in this value.\n",
       "term                                                                                                                                      The number of payments on the loan. Values are in months and can be either 36 or 60.\n",
       "int_rate                                                                                                                                                                                             Interest Rate on the loan\n",
       "installment                                                                                                                                                   The monthly payment owed by the borrower if the loan originates.\n",
       "grade                                                                                                                                                                                                   LC assigned loan grade\n",
       "sub_grade                                                                                                                                                                                            LC assigned loan subgrade\n",
       "emp_title                                                                                                                                                  The job title supplied by the Borrower when applying for the loan.*\n",
       "emp_length                                                                                  Employment length in years. Possible values are between 0 and 10 where 0 means less than one year and 10 means ten or more years. \n",
       "home_ownership                                                           The home ownership status provided by the borrower during registration or obtained from the credit report. Our values are: RENT, OWN, MORTGAGE, OTHER\n",
       "annual_inc                                                                                                                                       The self-reported annual income provided by the borrower during registration.\n",
       "verification_status                                                                                                                 Indicates if income was verified by LC, not verified, or if the income source was verified\n",
       "issue_d                                                                                                                                                                                    The month which the loan was funded\n",
       "loan_status                                                                                                                                                                                         Current status of the loan\n",
       "purpose                                                                                                                                                             A category provided by the borrower for the loan request. \n",
       "title                                                                                                                                                                                  The loan title provided by the borrower\n",
       "zip_code                                                                                                                                 The first 3 numbers of the zip code provided by the borrower in the loan application.\n",
       "addr_state                                                                                                                                                          The state provided by the borrower in the loan application\n",
       "dti                   A ratio calculated using the borrower’s total monthly debt payments on the total debt obligations, excluding mortgage and the requested LC loan, divided by the borrower’s self-reported monthly income.\n",
       "earliest_cr_line                                                                                                                                             The month the borrower's earliest reported credit line was opened\n",
       "open_acc                                                                                                                                                        The number of open credit lines in the borrower's credit file.\n",
       "pub_rec                                                                                                                                                                                    Number of derogatory public records\n",
       "revol_bal                                                                                                                                                                                       Total credit revolving balance\n",
       "revol_util                                                                                          Revolving line utilization rate, or the amount of credit the borrower is using relative to all available revolving credit.\n",
       "total_acc                                                                                                                                             The total number of credit lines currently in the borrower's credit file\n",
       "initial_list_status                                                                                                                                         The initial listing status of the loan. Possible values are – W, F\n",
       "application_type                                                                                                          Indicates whether the loan is an individual application or a joint application with two co-borrowers\n",
       "mort_acc                                                                                                                                                                                          Number of mortgage accounts.\n",
       "pub_rec_bankruptcies                                                                                                                                                                      Number of public record bankruptcies"
      ]
     },
     "execution_count": 4,
     "metadata": {},
     "output_type": "execute_result"
    }
   ],
   "source": [
    "pd.set_option('display.max_colwidth', None)\n",
    "data_info"
   ]
  },
  {
   "cell_type": "code",
   "execution_count": 5,
   "metadata": {},
   "outputs": [],
   "source": [
    "def feat_info(col_name):\n",
    "    print(data_info.loc[col_name]['Description'])"
   ]
  },
  {
   "cell_type": "code",
   "execution_count": 6,
   "metadata": {},
   "outputs": [
    {
     "name": "stdout",
     "output_type": "stream",
     "text": [
      "Number of mortgage accounts.\n"
     ]
    }
   ],
   "source": [
    "feat_info('mort_acc')"
   ]
  },
  {
   "cell_type": "code",
   "execution_count": 7,
   "metadata": {},
   "outputs": [
    {
     "name": "stdout",
     "output_type": "stream",
     "text": [
      "loan_amnt \tThe listed amount of the loan applied for by the borrower. If at some point in time, the credit department reduces the loan amount, then it will be reflected in this value.\n",
      "term \tThe number of payments on the loan. Values are in months and can be either 36 or 60.\n",
      "int_rate \tInterest Rate on the loan\n",
      "installment \tThe monthly payment owed by the borrower if the loan originates.\n",
      "grade \tLC assigned loan grade\n",
      "sub_grade \tLC assigned loan subgrade\n",
      "emp_title \tThe job title supplied by the Borrower when applying for the loan.*\n",
      "emp_length \tEmployment length in years. Possible values are between 0 and 10 where 0 means less than one year and 10 means ten or more years. \n",
      "home_ownership \tThe home ownership status provided by the borrower during registration or obtained from the credit report. Our values are: RENT, OWN, MORTGAGE, OTHER\n",
      "annual_inc \tThe self-reported annual income provided by the borrower during registration.\n",
      "verification_status \tIndicates if income was verified by LC, not verified, or if the income source was verified\n",
      "issue_d \tThe month which the loan was funded\n",
      "loan_status \tCurrent status of the loan\n",
      "purpose \tA category provided by the borrower for the loan request. \n",
      "title \tThe loan title provided by the borrower\n",
      "zip_code \tThe first 3 numbers of the zip code provided by the borrower in the loan application.\n",
      "addr_state \tThe state provided by the borrower in the loan application\n",
      "dti \tA ratio calculated using the borrower’s total monthly debt payments on the total debt obligations, excluding mortgage and the requested LC loan, divided by the borrower’s self-reported monthly income.\n",
      "earliest_cr_line \tThe month the borrower's earliest reported credit line was opened\n",
      "open_acc \tThe number of open credit lines in the borrower's credit file.\n",
      "pub_rec \tNumber of derogatory public records\n",
      "revol_bal \tTotal credit revolving balance\n",
      "revol_util \tRevolving line utilization rate, or the amount of credit the borrower is using relative to all available revolving credit.\n",
      "total_acc \tThe total number of credit lines currently in the borrower's credit file\n",
      "initial_list_status \tThe initial listing status of the loan. Possible values are – W, F\n",
      "application_type \tIndicates whether the loan is an individual application or a joint application with two co-borrowers\n",
      "mort_acc \tNumber of mortgage accounts.\n",
      "pub_rec_bankruptcies \tNumber of public record bankruptcies\n"
     ]
    }
   ],
   "source": [
    "for x in data_info.index:\n",
    "    print(x, '\\t', end='')\n",
    "    feat_info(x)"
   ]
  },
  {
   "cell_type": "markdown",
   "metadata": {},
   "source": [
    "## Importing Libraries and Loading Data\n",
    "\n",
    "Next, we start by importing standard libraries for data science project. Then, we read our data and convert it into pandas DataFrame"
   ]
  },
  {
   "cell_type": "code",
   "execution_count": 8,
   "metadata": {},
   "outputs": [],
   "source": [
    "# Standard Library\n",
    "import pandas as pd\n",
    "import numpy as np\n",
    "import matplotlib.pyplot as plt\n",
    "import seaborn as sns\n",
    "\n",
    "%matplotlib inline"
   ]
  },
  {
   "cell_type": "code",
   "execution_count": 9,
   "metadata": {},
   "outputs": [],
   "source": [
    "df = pd.read_csv('DATA/lending_club_loan_two.csv')"
   ]
  },
  {
   "cell_type": "code",
   "execution_count": 10,
   "metadata": {},
   "outputs": [
    {
     "name": "stdout",
     "output_type": "stream",
     "text": [
      "<class 'pandas.core.frame.DataFrame'>\n",
      "RangeIndex: 396030 entries, 0 to 396029\n",
      "Data columns (total 27 columns):\n",
      " #   Column                Non-Null Count   Dtype  \n",
      "---  ------                --------------   -----  \n",
      " 0   loan_amnt             396030 non-null  float64\n",
      " 1   term                  396030 non-null  object \n",
      " 2   int_rate              396030 non-null  float64\n",
      " 3   installment           396030 non-null  float64\n",
      " 4   grade                 396030 non-null  object \n",
      " 5   sub_grade             396030 non-null  object \n",
      " 6   emp_title             373103 non-null  object \n",
      " 7   emp_length            377729 non-null  object \n",
      " 8   home_ownership        396030 non-null  object \n",
      " 9   annual_inc            396030 non-null  float64\n",
      " 10  verification_status   396030 non-null  object \n",
      " 11  issue_d               396030 non-null  object \n",
      " 12  loan_status           396030 non-null  object \n",
      " 13  purpose               396030 non-null  object \n",
      " 14  title                 394275 non-null  object \n",
      " 15  dti                   396030 non-null  float64\n",
      " 16  earliest_cr_line      396030 non-null  object \n",
      " 17  open_acc              396030 non-null  float64\n",
      " 18  pub_rec               396030 non-null  float64\n",
      " 19  revol_bal             396030 non-null  float64\n",
      " 20  revol_util            395754 non-null  float64\n",
      " 21  total_acc             396030 non-null  float64\n",
      " 22  initial_list_status   396030 non-null  object \n",
      " 23  application_type      396030 non-null  object \n",
      " 24  mort_acc              358235 non-null  float64\n",
      " 25  pub_rec_bankruptcies  395495 non-null  float64\n",
      " 26  address               396030 non-null  object \n",
      "dtypes: float64(12), object(15)\n",
      "memory usage: 81.6+ MB\n"
     ]
    }
   ],
   "source": [
    "df.info()"
   ]
  },
  {
   "cell_type": "code",
   "execution_count": 11,
   "metadata": {},
   "outputs": [
    {
     "data": {
      "text/html": [
       "<div>\n",
       "<style scoped>\n",
       "    .dataframe tbody tr th:only-of-type {\n",
       "        vertical-align: middle;\n",
       "    }\n",
       "\n",
       "    .dataframe tbody tr th {\n",
       "        vertical-align: top;\n",
       "    }\n",
       "\n",
       "    .dataframe thead th {\n",
       "        text-align: right;\n",
       "    }\n",
       "</style>\n",
       "<table border=\"1\" class=\"dataframe\">\n",
       "  <thead>\n",
       "    <tr style=\"text-align: right;\">\n",
       "      <th></th>\n",
       "      <th>loan_amnt</th>\n",
       "      <th>int_rate</th>\n",
       "      <th>installment</th>\n",
       "      <th>annual_inc</th>\n",
       "      <th>dti</th>\n",
       "      <th>open_acc</th>\n",
       "      <th>pub_rec</th>\n",
       "      <th>revol_bal</th>\n",
       "      <th>revol_util</th>\n",
       "      <th>total_acc</th>\n",
       "      <th>mort_acc</th>\n",
       "      <th>pub_rec_bankruptcies</th>\n",
       "    </tr>\n",
       "  </thead>\n",
       "  <tbody>\n",
       "    <tr>\n",
       "      <th>count</th>\n",
       "      <td>396030.000000</td>\n",
       "      <td>396030.000000</td>\n",
       "      <td>396030.000000</td>\n",
       "      <td>3.960300e+05</td>\n",
       "      <td>396030.000000</td>\n",
       "      <td>396030.000000</td>\n",
       "      <td>396030.000000</td>\n",
       "      <td>3.960300e+05</td>\n",
       "      <td>395754.000000</td>\n",
       "      <td>396030.000000</td>\n",
       "      <td>358235.000000</td>\n",
       "      <td>395495.000000</td>\n",
       "    </tr>\n",
       "    <tr>\n",
       "      <th>mean</th>\n",
       "      <td>14113.888089</td>\n",
       "      <td>13.639400</td>\n",
       "      <td>431.849698</td>\n",
       "      <td>7.420318e+04</td>\n",
       "      <td>17.379514</td>\n",
       "      <td>11.311153</td>\n",
       "      <td>0.178191</td>\n",
       "      <td>1.584454e+04</td>\n",
       "      <td>53.791749</td>\n",
       "      <td>25.414744</td>\n",
       "      <td>1.813991</td>\n",
       "      <td>0.121648</td>\n",
       "    </tr>\n",
       "    <tr>\n",
       "      <th>std</th>\n",
       "      <td>8357.441341</td>\n",
       "      <td>4.472157</td>\n",
       "      <td>250.727790</td>\n",
       "      <td>6.163762e+04</td>\n",
       "      <td>18.019092</td>\n",
       "      <td>5.137649</td>\n",
       "      <td>0.530671</td>\n",
       "      <td>2.059184e+04</td>\n",
       "      <td>24.452193</td>\n",
       "      <td>11.886991</td>\n",
       "      <td>2.147930</td>\n",
       "      <td>0.356174</td>\n",
       "    </tr>\n",
       "    <tr>\n",
       "      <th>min</th>\n",
       "      <td>500.000000</td>\n",
       "      <td>5.320000</td>\n",
       "      <td>16.080000</td>\n",
       "      <td>0.000000e+00</td>\n",
       "      <td>0.000000</td>\n",
       "      <td>0.000000</td>\n",
       "      <td>0.000000</td>\n",
       "      <td>0.000000e+00</td>\n",
       "      <td>0.000000</td>\n",
       "      <td>2.000000</td>\n",
       "      <td>0.000000</td>\n",
       "      <td>0.000000</td>\n",
       "    </tr>\n",
       "    <tr>\n",
       "      <th>25%</th>\n",
       "      <td>8000.000000</td>\n",
       "      <td>10.490000</td>\n",
       "      <td>250.330000</td>\n",
       "      <td>4.500000e+04</td>\n",
       "      <td>11.280000</td>\n",
       "      <td>8.000000</td>\n",
       "      <td>0.000000</td>\n",
       "      <td>6.025000e+03</td>\n",
       "      <td>35.800000</td>\n",
       "      <td>17.000000</td>\n",
       "      <td>0.000000</td>\n",
       "      <td>0.000000</td>\n",
       "    </tr>\n",
       "    <tr>\n",
       "      <th>50%</th>\n",
       "      <td>12000.000000</td>\n",
       "      <td>13.330000</td>\n",
       "      <td>375.430000</td>\n",
       "      <td>6.400000e+04</td>\n",
       "      <td>16.910000</td>\n",
       "      <td>10.000000</td>\n",
       "      <td>0.000000</td>\n",
       "      <td>1.118100e+04</td>\n",
       "      <td>54.800000</td>\n",
       "      <td>24.000000</td>\n",
       "      <td>1.000000</td>\n",
       "      <td>0.000000</td>\n",
       "    </tr>\n",
       "    <tr>\n",
       "      <th>75%</th>\n",
       "      <td>20000.000000</td>\n",
       "      <td>16.490000</td>\n",
       "      <td>567.300000</td>\n",
       "      <td>9.000000e+04</td>\n",
       "      <td>22.980000</td>\n",
       "      <td>14.000000</td>\n",
       "      <td>0.000000</td>\n",
       "      <td>1.962000e+04</td>\n",
       "      <td>72.900000</td>\n",
       "      <td>32.000000</td>\n",
       "      <td>3.000000</td>\n",
       "      <td>0.000000</td>\n",
       "    </tr>\n",
       "    <tr>\n",
       "      <th>max</th>\n",
       "      <td>40000.000000</td>\n",
       "      <td>30.990000</td>\n",
       "      <td>1533.810000</td>\n",
       "      <td>8.706582e+06</td>\n",
       "      <td>9999.000000</td>\n",
       "      <td>90.000000</td>\n",
       "      <td>86.000000</td>\n",
       "      <td>1.743266e+06</td>\n",
       "      <td>892.300000</td>\n",
       "      <td>151.000000</td>\n",
       "      <td>34.000000</td>\n",
       "      <td>8.000000</td>\n",
       "    </tr>\n",
       "  </tbody>\n",
       "</table>\n",
       "</div>"
      ],
      "text/plain": [
       "           loan_amnt       int_rate    installment    annual_inc  \\\n",
       "count  396030.000000  396030.000000  396030.000000  3.960300e+05   \n",
       "mean    14113.888089      13.639400     431.849698  7.420318e+04   \n",
       "std      8357.441341       4.472157     250.727790  6.163762e+04   \n",
       "min       500.000000       5.320000      16.080000  0.000000e+00   \n",
       "25%      8000.000000      10.490000     250.330000  4.500000e+04   \n",
       "50%     12000.000000      13.330000     375.430000  6.400000e+04   \n",
       "75%     20000.000000      16.490000     567.300000  9.000000e+04   \n",
       "max     40000.000000      30.990000    1533.810000  8.706582e+06   \n",
       "\n",
       "                 dti       open_acc        pub_rec     revol_bal  \\\n",
       "count  396030.000000  396030.000000  396030.000000  3.960300e+05   \n",
       "mean       17.379514      11.311153       0.178191  1.584454e+04   \n",
       "std        18.019092       5.137649       0.530671  2.059184e+04   \n",
       "min         0.000000       0.000000       0.000000  0.000000e+00   \n",
       "25%        11.280000       8.000000       0.000000  6.025000e+03   \n",
       "50%        16.910000      10.000000       0.000000  1.118100e+04   \n",
       "75%        22.980000      14.000000       0.000000  1.962000e+04   \n",
       "max      9999.000000      90.000000      86.000000  1.743266e+06   \n",
       "\n",
       "          revol_util      total_acc       mort_acc  pub_rec_bankruptcies  \n",
       "count  395754.000000  396030.000000  358235.000000         395495.000000  \n",
       "mean       53.791749      25.414744       1.813991              0.121648  \n",
       "std        24.452193      11.886991       2.147930              0.356174  \n",
       "min         0.000000       2.000000       0.000000              0.000000  \n",
       "25%        35.800000      17.000000       0.000000              0.000000  \n",
       "50%        54.800000      24.000000       1.000000              0.000000  \n",
       "75%        72.900000      32.000000       3.000000              0.000000  \n",
       "max       892.300000     151.000000      34.000000              8.000000  "
      ]
     },
     "execution_count": 11,
     "metadata": {},
     "output_type": "execute_result"
    }
   ],
   "source": [
    "df.describe()"
   ]
  },
  {
   "cell_type": "code",
   "execution_count": 12,
   "metadata": {},
   "outputs": [],
   "source": [
    "pd.set_option('display.max_colwidth', 50)"
   ]
  },
  {
   "cell_type": "code",
   "execution_count": 13,
   "metadata": {},
   "outputs": [
    {
     "data": {
      "text/html": [
       "<div>\n",
       "<style scoped>\n",
       "    .dataframe tbody tr th:only-of-type {\n",
       "        vertical-align: middle;\n",
       "    }\n",
       "\n",
       "    .dataframe tbody tr th {\n",
       "        vertical-align: top;\n",
       "    }\n",
       "\n",
       "    .dataframe thead th {\n",
       "        text-align: right;\n",
       "    }\n",
       "</style>\n",
       "<table border=\"1\" class=\"dataframe\">\n",
       "  <thead>\n",
       "    <tr style=\"text-align: right;\">\n",
       "      <th></th>\n",
       "      <th>dataFeatures</th>\n",
       "      <th>dataType</th>\n",
       "      <th>dataLength</th>\n",
       "      <th>null</th>\n",
       "      <th>nullPct</th>\n",
       "      <th>unique</th>\n",
       "      <th>uniqueSample</th>\n",
       "    </tr>\n",
       "  </thead>\n",
       "  <tbody>\n",
       "    <tr>\n",
       "      <th>0</th>\n",
       "      <td>loan_amnt</td>\n",
       "      <td>float64</td>\n",
       "      <td>396030</td>\n",
       "      <td>0</td>\n",
       "      <td>0.000</td>\n",
       "      <td>1397</td>\n",
       "      <td>[10000.0, 8000.0, 15600.0, 7200.0, 24375.0, 20...</td>\n",
       "    </tr>\n",
       "    <tr>\n",
       "      <th>1</th>\n",
       "      <td>term</td>\n",
       "      <td>object</td>\n",
       "      <td>396030</td>\n",
       "      <td>0</td>\n",
       "      <td>0.000</td>\n",
       "      <td>2</td>\n",
       "      <td>[ 36 months,  60 months]</td>\n",
       "    </tr>\n",
       "    <tr>\n",
       "      <th>2</th>\n",
       "      <td>int_rate</td>\n",
       "      <td>float64</td>\n",
       "      <td>396030</td>\n",
       "      <td>0</td>\n",
       "      <td>0.000</td>\n",
       "      <td>566</td>\n",
       "      <td>[11.44, 11.99, 10.49, 6.49, 17.27, 13.33, 5.32...</td>\n",
       "    </tr>\n",
       "    <tr>\n",
       "      <th>3</th>\n",
       "      <td>installment</td>\n",
       "      <td>float64</td>\n",
       "      <td>396030</td>\n",
       "      <td>0</td>\n",
       "      <td>0.000</td>\n",
       "      <td>55706</td>\n",
       "      <td>[329.48, 265.68, 506.97, 220.65, 609.33, 677.0...</td>\n",
       "    </tr>\n",
       "    <tr>\n",
       "      <th>4</th>\n",
       "      <td>grade</td>\n",
       "      <td>object</td>\n",
       "      <td>396030</td>\n",
       "      <td>0</td>\n",
       "      <td>0.000</td>\n",
       "      <td>7</td>\n",
       "      <td>[B, A, C, E, D, F, G]</td>\n",
       "    </tr>\n",
       "    <tr>\n",
       "      <th>5</th>\n",
       "      <td>sub_grade</td>\n",
       "      <td>object</td>\n",
       "      <td>396030</td>\n",
       "      <td>0</td>\n",
       "      <td>0.000</td>\n",
       "      <td>35</td>\n",
       "      <td>[B4, B5, B3, A2, C5, C3, A1, B2, C1, A5, E4, A...</td>\n",
       "    </tr>\n",
       "    <tr>\n",
       "      <th>6</th>\n",
       "      <td>emp_title</td>\n",
       "      <td>object</td>\n",
       "      <td>396030</td>\n",
       "      <td>22927</td>\n",
       "      <td>5.789</td>\n",
       "      <td>173105</td>\n",
       "      <td>[Marketing, Credit analyst , Statistician, Cli...</td>\n",
       "    </tr>\n",
       "    <tr>\n",
       "      <th>7</th>\n",
       "      <td>emp_length</td>\n",
       "      <td>object</td>\n",
       "      <td>396030</td>\n",
       "      <td>18301</td>\n",
       "      <td>4.621</td>\n",
       "      <td>11</td>\n",
       "      <td>[10+ years, 4 years, &lt; 1 year, 6 years, 9 year...</td>\n",
       "    </tr>\n",
       "    <tr>\n",
       "      <th>8</th>\n",
       "      <td>home_ownership</td>\n",
       "      <td>object</td>\n",
       "      <td>396030</td>\n",
       "      <td>0</td>\n",
       "      <td>0.000</td>\n",
       "      <td>6</td>\n",
       "      <td>[RENT, MORTGAGE, OWN, OTHER, NONE, ANY]</td>\n",
       "    </tr>\n",
       "    <tr>\n",
       "      <th>9</th>\n",
       "      <td>annual_inc</td>\n",
       "      <td>float64</td>\n",
       "      <td>396030</td>\n",
       "      <td>0</td>\n",
       "      <td>0.000</td>\n",
       "      <td>27197</td>\n",
       "      <td>[117000.0, 65000.0, 43057.0, 54000.0, 55000.0,...</td>\n",
       "    </tr>\n",
       "    <tr>\n",
       "      <th>10</th>\n",
       "      <td>verification_status</td>\n",
       "      <td>object</td>\n",
       "      <td>396030</td>\n",
       "      <td>0</td>\n",
       "      <td>0.000</td>\n",
       "      <td>3</td>\n",
       "      <td>[Not Verified, Source Verified, Verified]</td>\n",
       "    </tr>\n",
       "    <tr>\n",
       "      <th>11</th>\n",
       "      <td>issue_d</td>\n",
       "      <td>object</td>\n",
       "      <td>396030</td>\n",
       "      <td>0</td>\n",
       "      <td>0.000</td>\n",
       "      <td>115</td>\n",
       "      <td>[Jan-2015, Nov-2014, Apr-2013, Sep-2015, Sep-2...</td>\n",
       "    </tr>\n",
       "    <tr>\n",
       "      <th>12</th>\n",
       "      <td>loan_status</td>\n",
       "      <td>object</td>\n",
       "      <td>396030</td>\n",
       "      <td>0</td>\n",
       "      <td>0.000</td>\n",
       "      <td>2</td>\n",
       "      <td>[Fully Paid, Charged Off]</td>\n",
       "    </tr>\n",
       "    <tr>\n",
       "      <th>13</th>\n",
       "      <td>purpose</td>\n",
       "      <td>object</td>\n",
       "      <td>396030</td>\n",
       "      <td>0</td>\n",
       "      <td>0.000</td>\n",
       "      <td>14</td>\n",
       "      <td>[vacation, debt_consolidation, credit_card, ho...</td>\n",
       "    </tr>\n",
       "    <tr>\n",
       "      <th>14</th>\n",
       "      <td>title</td>\n",
       "      <td>object</td>\n",
       "      <td>396030</td>\n",
       "      <td>1755</td>\n",
       "      <td>0.443</td>\n",
       "      <td>48817</td>\n",
       "      <td>[Vacation, Debt consolidation, Credit card ref...</td>\n",
       "    </tr>\n",
       "    <tr>\n",
       "      <th>15</th>\n",
       "      <td>dti</td>\n",
       "      <td>float64</td>\n",
       "      <td>396030</td>\n",
       "      <td>0</td>\n",
       "      <td>0.000</td>\n",
       "      <td>4262</td>\n",
       "      <td>[26.24, 22.05, 12.79, 2.6, 33.95, 16.31, 1.36,...</td>\n",
       "    </tr>\n",
       "    <tr>\n",
       "      <th>16</th>\n",
       "      <td>earliest_cr_line</td>\n",
       "      <td>object</td>\n",
       "      <td>396030</td>\n",
       "      <td>0</td>\n",
       "      <td>0.000</td>\n",
       "      <td>684</td>\n",
       "      <td>[Jun-1990, Jul-2004, Aug-2007, Sep-2006, Mar-1...</td>\n",
       "    </tr>\n",
       "    <tr>\n",
       "      <th>17</th>\n",
       "      <td>open_acc</td>\n",
       "      <td>float64</td>\n",
       "      <td>396030</td>\n",
       "      <td>0</td>\n",
       "      <td>0.000</td>\n",
       "      <td>61</td>\n",
       "      <td>[16.0, 17.0, 13.0, 6.0, 8.0, 11.0, 5.0, 30.0, ...</td>\n",
       "    </tr>\n",
       "    <tr>\n",
       "      <th>18</th>\n",
       "      <td>pub_rec</td>\n",
       "      <td>float64</td>\n",
       "      <td>396030</td>\n",
       "      <td>0</td>\n",
       "      <td>0.000</td>\n",
       "      <td>20</td>\n",
       "      <td>[0.0, 1.0, 2.0, 3.0, 4.0, 6.0, 5.0, 8.0, 9.0, ...</td>\n",
       "    </tr>\n",
       "    <tr>\n",
       "      <th>19</th>\n",
       "      <td>revol_bal</td>\n",
       "      <td>float64</td>\n",
       "      <td>396030</td>\n",
       "      <td>0</td>\n",
       "      <td>0.000</td>\n",
       "      <td>55622</td>\n",
       "      <td>[36369.0, 20131.0, 11987.0, 5472.0, 24584.0, 2...</td>\n",
       "    </tr>\n",
       "    <tr>\n",
       "      <th>20</th>\n",
       "      <td>revol_util</td>\n",
       "      <td>float64</td>\n",
       "      <td>396030</td>\n",
       "      <td>276</td>\n",
       "      <td>0.070</td>\n",
       "      <td>1226</td>\n",
       "      <td>[41.8, 53.3, 92.2, 21.5, 69.8, 100.6, 4.9, 64....</td>\n",
       "    </tr>\n",
       "    <tr>\n",
       "      <th>21</th>\n",
       "      <td>total_acc</td>\n",
       "      <td>float64</td>\n",
       "      <td>396030</td>\n",
       "      <td>0</td>\n",
       "      <td>0.000</td>\n",
       "      <td>118</td>\n",
       "      <td>[25.0, 27.0, 26.0, 13.0, 43.0, 23.0, 15.0, 40....</td>\n",
       "    </tr>\n",
       "    <tr>\n",
       "      <th>22</th>\n",
       "      <td>initial_list_status</td>\n",
       "      <td>object</td>\n",
       "      <td>396030</td>\n",
       "      <td>0</td>\n",
       "      <td>0.000</td>\n",
       "      <td>2</td>\n",
       "      <td>[w, f]</td>\n",
       "    </tr>\n",
       "    <tr>\n",
       "      <th>23</th>\n",
       "      <td>application_type</td>\n",
       "      <td>object</td>\n",
       "      <td>396030</td>\n",
       "      <td>0</td>\n",
       "      <td>0.000</td>\n",
       "      <td>3</td>\n",
       "      <td>[INDIVIDUAL, JOINT, DIRECT_PAY]</td>\n",
       "    </tr>\n",
       "    <tr>\n",
       "      <th>24</th>\n",
       "      <td>mort_acc</td>\n",
       "      <td>float64</td>\n",
       "      <td>396030</td>\n",
       "      <td>37795</td>\n",
       "      <td>9.543</td>\n",
       "      <td>33</td>\n",
       "      <td>[0.0, 3.0, 1.0, 4.0, 2.0, 6.0, 5.0, nan, 10.0,...</td>\n",
       "    </tr>\n",
       "    <tr>\n",
       "      <th>25</th>\n",
       "      <td>pub_rec_bankruptcies</td>\n",
       "      <td>float64</td>\n",
       "      <td>396030</td>\n",
       "      <td>535</td>\n",
       "      <td>0.135</td>\n",
       "      <td>9</td>\n",
       "      <td>[0.0, 1.0, 2.0, 3.0, nan, 4.0, 5.0, 6.0, 7.0, ...</td>\n",
       "    </tr>\n",
       "    <tr>\n",
       "      <th>26</th>\n",
       "      <td>address</td>\n",
       "      <td>object</td>\n",
       "      <td>396030</td>\n",
       "      <td>0</td>\n",
       "      <td>0.000</td>\n",
       "      <td>393700</td>\n",
       "      <td>[0174 Michelle Gateway\\nMendozaberg, OK 22690,...</td>\n",
       "    </tr>\n",
       "  </tbody>\n",
       "</table>\n",
       "</div>"
      ],
      "text/plain": [
       "            dataFeatures dataType  dataLength   null  nullPct  unique  \\\n",
       "0              loan_amnt  float64      396030      0    0.000    1397   \n",
       "1                   term   object      396030      0    0.000       2   \n",
       "2               int_rate  float64      396030      0    0.000     566   \n",
       "3            installment  float64      396030      0    0.000   55706   \n",
       "4                  grade   object      396030      0    0.000       7   \n",
       "5              sub_grade   object      396030      0    0.000      35   \n",
       "6              emp_title   object      396030  22927    5.789  173105   \n",
       "7             emp_length   object      396030  18301    4.621      11   \n",
       "8         home_ownership   object      396030      0    0.000       6   \n",
       "9             annual_inc  float64      396030      0    0.000   27197   \n",
       "10   verification_status   object      396030      0    0.000       3   \n",
       "11               issue_d   object      396030      0    0.000     115   \n",
       "12           loan_status   object      396030      0    0.000       2   \n",
       "13               purpose   object      396030      0    0.000      14   \n",
       "14                 title   object      396030   1755    0.443   48817   \n",
       "15                   dti  float64      396030      0    0.000    4262   \n",
       "16      earliest_cr_line   object      396030      0    0.000     684   \n",
       "17              open_acc  float64      396030      0    0.000      61   \n",
       "18               pub_rec  float64      396030      0    0.000      20   \n",
       "19             revol_bal  float64      396030      0    0.000   55622   \n",
       "20            revol_util  float64      396030    276    0.070    1226   \n",
       "21             total_acc  float64      396030      0    0.000     118   \n",
       "22   initial_list_status   object      396030      0    0.000       2   \n",
       "23      application_type   object      396030      0    0.000       3   \n",
       "24              mort_acc  float64      396030  37795    9.543      33   \n",
       "25  pub_rec_bankruptcies  float64      396030    535    0.135       9   \n",
       "26               address   object      396030      0    0.000  393700   \n",
       "\n",
       "                                         uniqueSample  \n",
       "0   [10000.0, 8000.0, 15600.0, 7200.0, 24375.0, 20...  \n",
       "1                            [ 36 months,  60 months]  \n",
       "2   [11.44, 11.99, 10.49, 6.49, 17.27, 13.33, 5.32...  \n",
       "3   [329.48, 265.68, 506.97, 220.65, 609.33, 677.0...  \n",
       "4                               [B, A, C, E, D, F, G]  \n",
       "5   [B4, B5, B3, A2, C5, C3, A1, B2, C1, A5, E4, A...  \n",
       "6   [Marketing, Credit analyst , Statistician, Cli...  \n",
       "7   [10+ years, 4 years, < 1 year, 6 years, 9 year...  \n",
       "8             [RENT, MORTGAGE, OWN, OTHER, NONE, ANY]  \n",
       "9   [117000.0, 65000.0, 43057.0, 54000.0, 55000.0,...  \n",
       "10          [Not Verified, Source Verified, Verified]  \n",
       "11  [Jan-2015, Nov-2014, Apr-2013, Sep-2015, Sep-2...  \n",
       "12                          [Fully Paid, Charged Off]  \n",
       "13  [vacation, debt_consolidation, credit_card, ho...  \n",
       "14  [Vacation, Debt consolidation, Credit card ref...  \n",
       "15  [26.24, 22.05, 12.79, 2.6, 33.95, 16.31, 1.36,...  \n",
       "16  [Jun-1990, Jul-2004, Aug-2007, Sep-2006, Mar-1...  \n",
       "17  [16.0, 17.0, 13.0, 6.0, 8.0, 11.0, 5.0, 30.0, ...  \n",
       "18  [0.0, 1.0, 2.0, 3.0, 4.0, 6.0, 5.0, 8.0, 9.0, ...  \n",
       "19  [36369.0, 20131.0, 11987.0, 5472.0, 24584.0, 2...  \n",
       "20  [41.8, 53.3, 92.2, 21.5, 69.8, 100.6, 4.9, 64....  \n",
       "21  [25.0, 27.0, 26.0, 13.0, 43.0, 23.0, 15.0, 40....  \n",
       "22                                             [w, f]  \n",
       "23                    [INDIVIDUAL, JOINT, DIRECT_PAY]  \n",
       "24  [0.0, 3.0, 1.0, 4.0, 2.0, 6.0, 5.0, nan, 10.0,...  \n",
       "25  [0.0, 1.0, 2.0, 3.0, nan, 4.0, 5.0, 6.0, 7.0, ...  \n",
       "26  [0174 Michelle Gateway\\nMendozaberg, OK 22690,...  "
      ]
     },
     "execution_count": 13,
     "metadata": {},
     "output_type": "execute_result"
    }
   ],
   "source": [
    "# We will set this as a function so that we can easily see the updated value\n",
    "\n",
    "def data_desc():\n",
    "    columns=[]\n",
    "    for col in df.columns:\n",
    "        columns.append([col, df[col].dtypes, df.shape[0], df[col].isnull().sum(), round((df[col].isna().sum()/len(df[col])) * 100,3),\n",
    "                        df[col].nunique(), list(df[col].unique())])\n",
    "    desc = pd.DataFrame(data=columns, columns=['dataFeatures', 'dataType', 'dataLength', 'null', 'nullPct', 'unique', 'uniqueSample'])\n",
    "    return desc\n",
    "\n",
    "data_desc()"
   ]
  },
  {
   "cell_type": "markdown",
   "metadata": {},
   "source": [
    "---\n",
    "\n",
    "# Exploratory Data Analysis\n",
    "\n",
    "The main goal of this section is to get an understanding for which variables are important, view summary statistics, and visualize the data\n",
    "\n"
   ]
  },
  {
   "cell_type": "code",
   "execution_count": 14,
   "metadata": {},
   "outputs": [
    {
     "data": {
      "text/plain": [
       "<Axes: xlabel='loan_status', ylabel='count'>"
      ]
     },
     "execution_count": 14,
     "metadata": {},
     "output_type": "execute_result"
    },
    {
     "data": {
      "image/png": "[encoded data removed]",
      "text/plain": [
       "<Figure size 640x480 with 1 Axes>"
      ]
     },
     "metadata": {},
     "output_type": "display_data"
    }
   ],
   "source": [
    "sns.countplot(x='loan_status', data=df)"
   ]
  },
  {
   "cell_type": "markdown",
   "metadata": {},
   "source": [
    "\n",
    "**Out target class is significantly imbalanced. This imbalanced target class can impact our model performance**\n",
    "\n",
    "---"
   ]
  },
  {
   "cell_type": "markdown",
   "metadata": {},
   "source": [
    "The data type of the `loan_status` column is **object**, which cannot be used in numerical analysis functions. Therefore, we need to create a new column called `loan_repaid` that will have a value of 1 if the `loan status` is \"Fully Paid\" and 0 if it is \"Charged Off\". This will enable us to include it in numerical analysis."
   ]
  },
  {
   "cell_type": "code",
   "execution_count": 15,
   "metadata": {},
   "outputs": [
    {
     "data": {
      "text/html": [
       "<div>\n",
       "<style scoped>\n",
       "    .dataframe tbody tr th:only-of-type {\n",
       "        vertical-align: middle;\n",
       "    }\n",
       "\n",
       "    .dataframe tbody tr th {\n",
       "        vertical-align: top;\n",
       "    }\n",
       "\n",
       "    .dataframe thead th {\n",
       "        text-align: right;\n",
       "    }\n",
       "</style>\n",
       "<table border=\"1\" class=\"dataframe\">\n",
       "  <thead>\n",
       "    <tr style=\"text-align: right;\">\n",
       "      <th></th>\n",
       "      <th>loan_repaid</th>\n",
       "      <th>loan_status</th>\n",
       "    </tr>\n",
       "  </thead>\n",
       "  <tbody>\n",
       "    <tr>\n",
       "      <th>0</th>\n",
       "      <td>1</td>\n",
       "      <td>Fully Paid</td>\n",
       "    </tr>\n",
       "    <tr>\n",
       "      <th>1</th>\n",
       "      <td>1</td>\n",
       "      <td>Fully Paid</td>\n",
       "    </tr>\n",
       "    <tr>\n",
       "      <th>2</th>\n",
       "      <td>1</td>\n",
       "      <td>Fully Paid</td>\n",
       "    </tr>\n",
       "    <tr>\n",
       "      <th>3</th>\n",
       "      <td>1</td>\n",
       "      <td>Fully Paid</td>\n",
       "    </tr>\n",
       "    <tr>\n",
       "      <th>4</th>\n",
       "      <td>0</td>\n",
       "      <td>Charged Off</td>\n",
       "    </tr>\n",
       "  </tbody>\n",
       "</table>\n",
       "</div>"
      ],
      "text/plain": [
       "   loan_repaid  loan_status\n",
       "0            1   Fully Paid\n",
       "1            1   Fully Paid\n",
       "2            1   Fully Paid\n",
       "3            1   Fully Paid\n",
       "4            0  Charged Off"
      ]
     },
     "execution_count": 15,
     "metadata": {},
     "output_type": "execute_result"
    }
   ],
   "source": [
    "stat = df['loan_status'].unique()\n",
    "df['loan_repaid'] = df['loan_status'].map({stat[0]:1, stat[1]:0})\n",
    "df[['loan_repaid', 'loan_status']].head()"
   ]
  },
  {
   "cell_type": "markdown",
   "metadata": {},
   "source": [
    "---\n",
    "\n",
    "**Visualize value distribution of `loan_amnt` column**"
   ]
  },
  {
   "cell_type": "code",
   "execution_count": 16,
   "metadata": {},
   "outputs": [
    {
     "data": {
      "text/plain": [
       "(0.0, 42500.0)"
      ]
     },
     "execution_count": 16,
     "metadata": {},
     "output_type": "execute_result"
    },
    {
     "data": {
      "image/png": "[encoded data removed]",
      "text/plain": [
       "<Figure size 934.125x400 with 1 Axes>"
      ]
     },
     "metadata": {},
     "output_type": "display_data"
    }
   ],
   "source": [
    "sns.displot(x='loan_amnt', data=df, bins=40, height=4, aspect=2, hue='loan_status', multiple='stack')\n",
    "plt.xlim(0,42500)"
   ]
  },
  {
   "cell_type": "markdown",
   "metadata": {},
   "source": [
    "It looks like there are little to no correlation between loan status and loan amount."
   ]
  },
  {
   "cell_type": "markdown",
   "metadata": {},
   "source": [
    "**Let's now explore correlation between the continuous feature variables. Calculate the correlation between all continuous numeric variables using .corr() method.**"
   ]
  },
  {
   "cell_type": "code",
   "execution_count": 17,
   "metadata": {},
   "outputs": [
    {
     "name": "stderr",
     "output_type": "stream",
     "text": [
      "C:\\Users\\Mengski\\AppData\\Local\\Temp\\ipykernel_14612\\1134722465.py:1: FutureWarning: The default value of numeric_only in DataFrame.corr is deprecated. In a future version, it will default to False. Select only valid columns or specify the value of numeric_only to silence this warning.\n",
      "  df.corr()\n"
     ]
    },
    {
     "data": {
      "text/html": [
       "<div>\n",
       "<style scoped>\n",
       "    .dataframe tbody tr th:only-of-type {\n",
       "        vertical-align: middle;\n",
       "    }\n",
       "\n",
       "    .dataframe tbody tr th {\n",
       "        vertical-align: top;\n",
       "    }\n",
       "\n",
       "    .dataframe thead th {\n",
       "        text-align: right;\n",
       "    }\n",
       "</style>\n",
       "<table border=\"1\" class=\"dataframe\">\n",
       "  <thead>\n",
       "    <tr style=\"text-align: right;\">\n",
       "      <th></th>\n",
       "      <th>loan_amnt</th>\n",
       "      <th>int_rate</th>\n",
       "      <th>installment</th>\n",
       "      <th>annual_inc</th>\n",
       "      <th>dti</th>\n",
       "      <th>open_acc</th>\n",
       "      <th>pub_rec</th>\n",
       "      <th>revol_bal</th>\n",
       "      <th>revol_util</th>\n",
       "      <th>total_acc</th>\n",
       "      <th>mort_acc</th>\n",
       "      <th>pub_rec_bankruptcies</th>\n",
       "      <th>loan_repaid</th>\n",
       "    </tr>\n",
       "  </thead>\n",
       "  <tbody>\n",
       "    <tr>\n",
       "      <th>loan_amnt</th>\n",
       "      <td>1.000000</td>\n",
       "      <td>0.168921</td>\n",
       "      <td>0.953929</td>\n",
       "      <td>0.336887</td>\n",
       "      <td>0.016636</td>\n",
       "      <td>0.198556</td>\n",
       "      <td>-0.077779</td>\n",
       "      <td>0.328320</td>\n",
       "      <td>0.099911</td>\n",
       "      <td>0.223886</td>\n",
       "      <td>0.222315</td>\n",
       "      <td>-0.106539</td>\n",
       "      <td>-0.059836</td>\n",
       "    </tr>\n",
       "    <tr>\n",
       "      <th>int_rate</th>\n",
       "      <td>0.168921</td>\n",
       "      <td>1.000000</td>\n",
       "      <td>0.162758</td>\n",
       "      <td>-0.056771</td>\n",
       "      <td>0.079038</td>\n",
       "      <td>0.011649</td>\n",
       "      <td>0.060986</td>\n",
       "      <td>-0.011280</td>\n",
       "      <td>0.293659</td>\n",
       "      <td>-0.036404</td>\n",
       "      <td>-0.082583</td>\n",
       "      <td>0.057450</td>\n",
       "      <td>-0.247758</td>\n",
       "    </tr>\n",
       "    <tr>\n",
       "      <th>installment</th>\n",
       "      <td>0.953929</td>\n",
       "      <td>0.162758</td>\n",
       "      <td>1.000000</td>\n",
       "      <td>0.330381</td>\n",
       "      <td>0.015786</td>\n",
       "      <td>0.188973</td>\n",
       "      <td>-0.067892</td>\n",
       "      <td>0.316455</td>\n",
       "      <td>0.123915</td>\n",
       "      <td>0.202430</td>\n",
       "      <td>0.193694</td>\n",
       "      <td>-0.098628</td>\n",
       "      <td>-0.041082</td>\n",
       "    </tr>\n",
       "    <tr>\n",
       "      <th>annual_inc</th>\n",
       "      <td>0.336887</td>\n",
       "      <td>-0.056771</td>\n",
       "      <td>0.330381</td>\n",
       "      <td>1.000000</td>\n",
       "      <td>-0.081685</td>\n",
       "      <td>0.136150</td>\n",
       "      <td>-0.013720</td>\n",
       "      <td>0.299773</td>\n",
       "      <td>0.027871</td>\n",
       "      <td>0.193023</td>\n",
       "      <td>0.236320</td>\n",
       "      <td>-0.050162</td>\n",
       "      <td>0.053432</td>\n",
       "    </tr>\n",
       "    <tr>\n",
       "      <th>dti</th>\n",
       "      <td>0.016636</td>\n",
       "      <td>0.079038</td>\n",
       "      <td>0.015786</td>\n",
       "      <td>-0.081685</td>\n",
       "      <td>1.000000</td>\n",
       "      <td>0.136181</td>\n",
       "      <td>-0.017639</td>\n",
       "      <td>0.063571</td>\n",
       "      <td>0.088375</td>\n",
       "      <td>0.102128</td>\n",
       "      <td>-0.025439</td>\n",
       "      <td>-0.014558</td>\n",
       "      <td>-0.062413</td>\n",
       "    </tr>\n",
       "    <tr>\n",
       "      <th>open_acc</th>\n",
       "      <td>0.198556</td>\n",
       "      <td>0.011649</td>\n",
       "      <td>0.188973</td>\n",
       "      <td>0.136150</td>\n",
       "      <td>0.136181</td>\n",
       "      <td>1.000000</td>\n",
       "      <td>-0.018392</td>\n",
       "      <td>0.221192</td>\n",
       "      <td>-0.131420</td>\n",
       "      <td>0.680728</td>\n",
       "      <td>0.109205</td>\n",
       "      <td>-0.027732</td>\n",
       "      <td>-0.028012</td>\n",
       "    </tr>\n",
       "    <tr>\n",
       "      <th>pub_rec</th>\n",
       "      <td>-0.077779</td>\n",
       "      <td>0.060986</td>\n",
       "      <td>-0.067892</td>\n",
       "      <td>-0.013720</td>\n",
       "      <td>-0.017639</td>\n",
       "      <td>-0.018392</td>\n",
       "      <td>1.000000</td>\n",
       "      <td>-0.101664</td>\n",
       "      <td>-0.075910</td>\n",
       "      <td>0.019723</td>\n",
       "      <td>0.011552</td>\n",
       "      <td>0.699408</td>\n",
       "      <td>-0.019933</td>\n",
       "    </tr>\n",
       "    <tr>\n",
       "      <th>revol_bal</th>\n",
       "      <td>0.328320</td>\n",
       "      <td>-0.011280</td>\n",
       "      <td>0.316455</td>\n",
       "      <td>0.299773</td>\n",
       "      <td>0.063571</td>\n",
       "      <td>0.221192</td>\n",
       "      <td>-0.101664</td>\n",
       "      <td>1.000000</td>\n",
       "      <td>0.226346</td>\n",
       "      <td>0.191616</td>\n",
       "      <td>0.194925</td>\n",
       "      <td>-0.124532</td>\n",
       "      <td>0.010892</td>\n",
       "    </tr>\n",
       "    <tr>\n",
       "      <th>revol_util</th>\n",
       "      <td>0.099911</td>\n",
       "      <td>0.293659</td>\n",
       "      <td>0.123915</td>\n",
       "      <td>0.027871</td>\n",
       "      <td>0.088375</td>\n",
       "      <td>-0.131420</td>\n",
       "      <td>-0.075910</td>\n",
       "      <td>0.226346</td>\n",
       "      <td>1.000000</td>\n",
       "      <td>-0.104273</td>\n",
       "      <td>0.007514</td>\n",
       "      <td>-0.086751</td>\n",
       "      <td>-0.082373</td>\n",
       "    </tr>\n",
       "    <tr>\n",
       "      <th>total_acc</th>\n",
       "      <td>0.223886</td>\n",
       "      <td>-0.036404</td>\n",
       "      <td>0.202430</td>\n",
       "      <td>0.193023</td>\n",
       "      <td>0.102128</td>\n",
       "      <td>0.680728</td>\n",
       "      <td>0.019723</td>\n",
       "      <td>0.191616</td>\n",
       "      <td>-0.104273</td>\n",
       "      <td>1.000000</td>\n",
       "      <td>0.381072</td>\n",
       "      <td>0.042035</td>\n",
       "      <td>0.017893</td>\n",
       "    </tr>\n",
       "    <tr>\n",
       "      <th>mort_acc</th>\n",
       "      <td>0.222315</td>\n",
       "      <td>-0.082583</td>\n",
       "      <td>0.193694</td>\n",
       "      <td>0.236320</td>\n",
       "      <td>-0.025439</td>\n",
       "      <td>0.109205</td>\n",
       "      <td>0.011552</td>\n",
       "      <td>0.194925</td>\n",
       "      <td>0.007514</td>\n",
       "      <td>0.381072</td>\n",
       "      <td>1.000000</td>\n",
       "      <td>0.027239</td>\n",
       "      <td>0.073111</td>\n",
       "    </tr>\n",
       "    <tr>\n",
       "      <th>pub_rec_bankruptcies</th>\n",
       "      <td>-0.106539</td>\n",
       "      <td>0.057450</td>\n",
       "      <td>-0.098628</td>\n",
       "      <td>-0.050162</td>\n",
       "      <td>-0.014558</td>\n",
       "      <td>-0.027732</td>\n",
       "      <td>0.699408</td>\n",
       "      <td>-0.124532</td>\n",
       "      <td>-0.086751</td>\n",
       "      <td>0.042035</td>\n",
       "      <td>0.027239</td>\n",
       "      <td>1.000000</td>\n",
       "      <td>-0.009383</td>\n",
       "    </tr>\n",
       "    <tr>\n",
       "      <th>loan_repaid</th>\n",
       "      <td>-0.059836</td>\n",
       "      <td>-0.247758</td>\n",
       "      <td>-0.041082</td>\n",
       "      <td>0.053432</td>\n",
       "      <td>-0.062413</td>\n",
       "      <td>-0.028012</td>\n",
       "      <td>-0.019933</td>\n",
       "      <td>0.010892</td>\n",
       "      <td>-0.082373</td>\n",
       "      <td>0.017893</td>\n",
       "      <td>0.073111</td>\n",
       "      <td>-0.009383</td>\n",
       "      <td>1.000000</td>\n",
       "    </tr>\n",
       "  </tbody>\n",
       "</table>\n",
       "</div>"
      ],
      "text/plain": [
       "                      loan_amnt  int_rate  installment  annual_inc       dti  \\\n",
       "loan_amnt              1.000000  0.168921     0.953929    0.336887  0.016636   \n",
       "int_rate               0.168921  1.000000     0.162758   -0.056771  0.079038   \n",
       "installment            0.953929  0.162758     1.000000    0.330381  0.015786   \n",
       "annual_inc             0.336887 -0.056771     0.330381    1.000000 -0.081685   \n",
       "dti                    0.016636  0.079038     0.015786   -0.081685  1.000000   \n",
       "open_acc               0.198556  0.011649     0.188973    0.136150  0.136181   \n",
       "pub_rec               -0.077779  0.060986    -0.067892   -0.013720 -0.017639   \n",
       "revol_bal              0.328320 -0.011280     0.316455    0.299773  0.063571   \n",
       "revol_util             0.099911  0.293659     0.123915    0.027871  0.088375   \n",
       "total_acc              0.223886 -0.036404     0.202430    0.193023  0.102128   \n",
       "mort_acc               0.222315 -0.082583     0.193694    0.236320 -0.025439   \n",
       "pub_rec_bankruptcies  -0.106539  0.057450    -0.098628   -0.050162 -0.014558   \n",
       "loan_repaid           -0.059836 -0.247758    -0.041082    0.053432 -0.062413   \n",
       "\n",
       "                      open_acc   pub_rec  revol_bal  revol_util  total_acc  \\\n",
       "loan_amnt             0.198556 -0.077779   0.328320    0.099911   0.223886   \n",
       "int_rate              0.011649  0.060986  -0.011280    0.293659  -0.036404   \n",
       "installment           0.188973 -0.067892   0.316455    0.123915   0.202430   \n",
       "annual_inc            0.136150 -0.013720   0.299773    0.027871   0.193023   \n",
       "dti                   0.136181 -0.017639   0.063571    0.088375   0.102128   \n",
       "open_acc              1.000000 -0.018392   0.221192   -0.131420   0.680728   \n",
       "pub_rec              -0.018392  1.000000  -0.101664   -0.075910   0.019723   \n",
       "revol_bal             0.221192 -0.101664   1.000000    0.226346   0.191616   \n",
       "revol_util           -0.131420 -0.075910   0.226346    1.000000  -0.104273   \n",
       "total_acc             0.680728  0.019723   0.191616   -0.104273   1.000000   \n",
       "mort_acc              0.109205  0.011552   0.194925    0.007514   0.381072   \n",
       "pub_rec_bankruptcies -0.027732  0.699408  -0.124532   -0.086751   0.042035   \n",
       "loan_repaid          -0.028012 -0.019933   0.010892   -0.082373   0.017893   \n",
       "\n",
       "                      mort_acc  pub_rec_bankruptcies  loan_repaid  \n",
       "loan_amnt             0.222315             -0.106539    -0.059836  \n",
       "int_rate             -0.082583              0.057450    -0.247758  \n",
       "installment           0.193694             -0.098628    -0.041082  \n",
       "annual_inc            0.236320             -0.050162     0.053432  \n",
       "dti                  -0.025439             -0.014558    -0.062413  \n",
       "open_acc              0.109205             -0.027732    -0.028012  \n",
       "pub_rec               0.011552              0.699408    -0.019933  \n",
       "revol_bal             0.194925             -0.124532     0.010892  \n",
       "revol_util            0.007514             -0.086751    -0.082373  \n",
       "total_acc             0.381072              0.042035     0.017893  \n",
       "mort_acc              1.000000              0.027239     0.073111  \n",
       "pub_rec_bankruptcies  0.027239              1.000000    -0.009383  \n",
       "loan_repaid           0.073111             -0.009383     1.000000  "
      ]
     },
     "execution_count": 17,
     "metadata": {},
     "output_type": "execute_result"
    }
   ],
   "source": [
    "df.corr()"
   ]
  },
  {
   "cell_type": "markdown",
   "metadata": {},
   "source": [
    "**We can visualize this using a heatmap. Depending on your version of matplotlib, you may need to manually adjust the heatmap.**\n",
    "\n",
    "* [Heatmap info](https://seaborn.pydata.org/generated/seaborn.heatmap.html#seaborn.heatmap)\n",
    "* [Help with resizing](https://stackoverflow.com/questions/56942670/matplotlib-seaborn-first-and-last-row-cut-in-half-of-heatmap-plot)"
   ]
  },
  {
   "cell_type": "code",
   "execution_count": 18,
   "metadata": {
    "scrolled": false
   },
   "outputs": [
    {
     "name": "stderr",
     "output_type": "stream",
     "text": [
      "C:\\Users\\Mengski\\AppData\\Local\\Temp\\ipykernel_14612\\1111509021.py:2: FutureWarning: The default value of numeric_only in DataFrame.corr is deprecated. In a future version, it will default to False. Select only valid columns or specify the value of numeric_only to silence this warning.\n",
      "  sns.heatmap(df.corr(), annot=True, cmap='viridis')\n"
     ]
    },
    {
     "data": {
      "text/plain": [
       "<Axes: >"
      ]
     },
     "execution_count": 18,
     "metadata": {},
     "output_type": "execute_result"
    },
    {
     "data": {
      "image/png": "[encoded data removed]",
      "text/plain": [
       "<Figure size 1200x700 with 2 Axes>"
      ]
     },
     "metadata": {},
     "output_type": "display_data"
    }
   ],
   "source": [
    "plt.figure(figsize=(12,7))\n",
    "sns.heatmap(df.corr(), annot=True, cmap='viridis')"
   ]
  },
  {
   "cell_type": "code",
   "execution_count": 19,
   "metadata": {},
   "outputs": [
    {
     "name": "stderr",
     "output_type": "stream",
     "text": [
      "C:\\Users\\Mengski\\AppData\\Local\\Temp\\ipykernel_14612\\3426995566.py:1: FutureWarning: The default value of numeric_only in DataFrame.corr is deprecated. In a future version, it will default to False. Select only valid columns or specify the value of numeric_only to silence this warning.\n",
      "  df.corr().abs()\n"
     ]
    },
    {
     "data": {
      "text/html": [
       "<div>\n",
       "<style scoped>\n",
       "    .dataframe tbody tr th:only-of-type {\n",
       "        vertical-align: middle;\n",
       "    }\n",
       "\n",
       "    .dataframe tbody tr th {\n",
       "        vertical-align: top;\n",
       "    }\n",
       "\n",
       "    .dataframe thead th {\n",
       "        text-align: right;\n",
       "    }\n",
       "</style>\n",
       "<table border=\"1\" class=\"dataframe\">\n",
       "  <thead>\n",
       "    <tr style=\"text-align: right;\">\n",
       "      <th></th>\n",
       "      <th>loan_amnt</th>\n",
       "      <th>int_rate</th>\n",
       "      <th>installment</th>\n",
       "      <th>annual_inc</th>\n",
       "      <th>dti</th>\n",
       "      <th>open_acc</th>\n",
       "      <th>pub_rec</th>\n",
       "      <th>revol_bal</th>\n",
       "      <th>revol_util</th>\n",
       "      <th>total_acc</th>\n",
       "      <th>mort_acc</th>\n",
       "      <th>pub_rec_bankruptcies</th>\n",
       "      <th>loan_repaid</th>\n",
       "    </tr>\n",
       "  </thead>\n",
       "  <tbody>\n",
       "    <tr>\n",
       "      <th>loan_amnt</th>\n",
       "      <td>1.000000</td>\n",
       "      <td>0.168921</td>\n",
       "      <td>0.953929</td>\n",
       "      <td>0.336887</td>\n",
       "      <td>0.016636</td>\n",
       "      <td>0.198556</td>\n",
       "      <td>0.077779</td>\n",
       "      <td>0.328320</td>\n",
       "      <td>0.099911</td>\n",
       "      <td>0.223886</td>\n",
       "      <td>0.222315</td>\n",
       "      <td>0.106539</td>\n",
       "      <td>0.059836</td>\n",
       "    </tr>\n",
       "    <tr>\n",
       "      <th>int_rate</th>\n",
       "      <td>0.168921</td>\n",
       "      <td>1.000000</td>\n",
       "      <td>0.162758</td>\n",
       "      <td>0.056771</td>\n",
       "      <td>0.079038</td>\n",
       "      <td>0.011649</td>\n",
       "      <td>0.060986</td>\n",
       "      <td>0.011280</td>\n",
       "      <td>0.293659</td>\n",
       "      <td>0.036404</td>\n",
       "      <td>0.082583</td>\n",
       "      <td>0.057450</td>\n",
       "      <td>0.247758</td>\n",
       "    </tr>\n",
       "    <tr>\n",
       "      <th>installment</th>\n",
       "      <td>0.953929</td>\n",
       "      <td>0.162758</td>\n",
       "      <td>1.000000</td>\n",
       "      <td>0.330381</td>\n",
       "      <td>0.015786</td>\n",
       "      <td>0.188973</td>\n",
       "      <td>0.067892</td>\n",
       "      <td>0.316455</td>\n",
       "      <td>0.123915</td>\n",
       "      <td>0.202430</td>\n",
       "      <td>0.193694</td>\n",
       "      <td>0.098628</td>\n",
       "      <td>0.041082</td>\n",
       "    </tr>\n",
       "    <tr>\n",
       "      <th>annual_inc</th>\n",
       "      <td>0.336887</td>\n",
       "      <td>0.056771</td>\n",
       "      <td>0.330381</td>\n",
       "      <td>1.000000</td>\n",
       "      <td>0.081685</td>\n",
       "      <td>0.136150</td>\n",
       "      <td>0.013720</td>\n",
       "      <td>0.299773</td>\n",
       "      <td>0.027871</td>\n",
       "      <td>0.193023</td>\n",
       "      <td>0.236320</td>\n",
       "      <td>0.050162</td>\n",
       "      <td>0.053432</td>\n",
       "    </tr>\n",
       "    <tr>\n",
       "      <th>dti</th>\n",
       "      <td>0.016636</td>\n",
       "      <td>0.079038</td>\n",
       "      <td>0.015786</td>\n",
       "      <td>0.081685</td>\n",
       "      <td>1.000000</td>\n",
       "      <td>0.136181</td>\n",
       "      <td>0.017639</td>\n",
       "      <td>0.063571</td>\n",
       "      <td>0.088375</td>\n",
       "      <td>0.102128</td>\n",
       "      <td>0.025439</td>\n",
       "      <td>0.014558</td>\n",
       "      <td>0.062413</td>\n",
       "    </tr>\n",
       "    <tr>\n",
       "      <th>open_acc</th>\n",
       "      <td>0.198556</td>\n",
       "      <td>0.011649</td>\n",
       "      <td>0.188973</td>\n",
       "      <td>0.136150</td>\n",
       "      <td>0.136181</td>\n",
       "      <td>1.000000</td>\n",
       "      <td>0.018392</td>\n",
       "      <td>0.221192</td>\n",
       "      <td>0.131420</td>\n",
       "      <td>0.680728</td>\n",
       "      <td>0.109205</td>\n",
       "      <td>0.027732</td>\n",
       "      <td>0.028012</td>\n",
       "    </tr>\n",
       "    <tr>\n",
       "      <th>pub_rec</th>\n",
       "      <td>0.077779</td>\n",
       "      <td>0.060986</td>\n",
       "      <td>0.067892</td>\n",
       "      <td>0.013720</td>\n",
       "      <td>0.017639</td>\n",
       "      <td>0.018392</td>\n",
       "      <td>1.000000</td>\n",
       "      <td>0.101664</td>\n",
       "      <td>0.075910</td>\n",
       "      <td>0.019723</td>\n",
       "      <td>0.011552</td>\n",
       "      <td>0.699408</td>\n",
       "      <td>0.019933</td>\n",
       "    </tr>\n",
       "    <tr>\n",
       "      <th>revol_bal</th>\n",
       "      <td>0.328320</td>\n",
       "      <td>0.011280</td>\n",
       "      <td>0.316455</td>\n",
       "      <td>0.299773</td>\n",
       "      <td>0.063571</td>\n",
       "      <td>0.221192</td>\n",
       "      <td>0.101664</td>\n",
       "      <td>1.000000</td>\n",
       "      <td>0.226346</td>\n",
       "      <td>0.191616</td>\n",
       "      <td>0.194925</td>\n",
       "      <td>0.124532</td>\n",
       "      <td>0.010892</td>\n",
       "    </tr>\n",
       "    <tr>\n",
       "      <th>revol_util</th>\n",
       "      <td>0.099911</td>\n",
       "      <td>0.293659</td>\n",
       "      <td>0.123915</td>\n",
       "      <td>0.027871</td>\n",
       "      <td>0.088375</td>\n",
       "      <td>0.131420</td>\n",
       "      <td>0.075910</td>\n",
       "      <td>0.226346</td>\n",
       "      <td>1.000000</td>\n",
       "      <td>0.104273</td>\n",
       "      <td>0.007514</td>\n",
       "      <td>0.086751</td>\n",
       "      <td>0.082373</td>\n",
       "    </tr>\n",
       "    <tr>\n",
       "      <th>total_acc</th>\n",
       "      <td>0.223886</td>\n",
       "      <td>0.036404</td>\n",
       "      <td>0.202430</td>\n",
       "      <td>0.193023</td>\n",
       "      <td>0.102128</td>\n",
       "      <td>0.680728</td>\n",
       "      <td>0.019723</td>\n",
       "      <td>0.191616</td>\n",
       "      <td>0.104273</td>\n",
       "      <td>1.000000</td>\n",
       "      <td>0.381072</td>\n",
       "      <td>0.042035</td>\n",
       "      <td>0.017893</td>\n",
       "    </tr>\n",
       "    <tr>\n",
       "      <th>mort_acc</th>\n",
       "      <td>0.222315</td>\n",
       "      <td>0.082583</td>\n",
       "      <td>0.193694</td>\n",
       "      <td>0.236320</td>\n",
       "      <td>0.025439</td>\n",
       "      <td>0.109205</td>\n",
       "      <td>0.011552</td>\n",
       "      <td>0.194925</td>\n",
       "      <td>0.007514</td>\n",
       "      <td>0.381072</td>\n",
       "      <td>1.000000</td>\n",
       "      <td>0.027239</td>\n",
       "      <td>0.073111</td>\n",
       "    </tr>\n",
       "    <tr>\n",
       "      <th>pub_rec_bankruptcies</th>\n",
       "      <td>0.106539</td>\n",
       "      <td>0.057450</td>\n",
       "      <td>0.098628</td>\n",
       "      <td>0.050162</td>\n",
       "      <td>0.014558</td>\n",
       "      <td>0.027732</td>\n",
       "      <td>0.699408</td>\n",
       "      <td>0.124532</td>\n",
       "      <td>0.086751</td>\n",
       "      <td>0.042035</td>\n",
       "      <td>0.027239</td>\n",
       "      <td>1.000000</td>\n",
       "      <td>0.009383</td>\n",
       "    </tr>\n",
       "    <tr>\n",
       "      <th>loan_repaid</th>\n",
       "      <td>0.059836</td>\n",
       "      <td>0.247758</td>\n",
       "      <td>0.041082</td>\n",
       "      <td>0.053432</td>\n",
       "      <td>0.062413</td>\n",
       "      <td>0.028012</td>\n",
       "      <td>0.019933</td>\n",
       "      <td>0.010892</td>\n",
       "      <td>0.082373</td>\n",
       "      <td>0.017893</td>\n",
       "      <td>0.073111</td>\n",
       "      <td>0.009383</td>\n",
       "      <td>1.000000</td>\n",
       "    </tr>\n",
       "  </tbody>\n",
       "</table>\n",
       "</div>"
      ],
      "text/plain": [
       "                      loan_amnt  int_rate  installment  annual_inc       dti  \\\n",
       "loan_amnt              1.000000  0.168921     0.953929    0.336887  0.016636   \n",
       "int_rate               0.168921  1.000000     0.162758    0.056771  0.079038   \n",
       "installment            0.953929  0.162758     1.000000    0.330381  0.015786   \n",
       "annual_inc             0.336887  0.056771     0.330381    1.000000  0.081685   \n",
       "dti                    0.016636  0.079038     0.015786    0.081685  1.000000   \n",
       "open_acc               0.198556  0.011649     0.188973    0.136150  0.136181   \n",
       "pub_rec                0.077779  0.060986     0.067892    0.013720  0.017639   \n",
       "revol_bal              0.328320  0.011280     0.316455    0.299773  0.063571   \n",
       "revol_util             0.099911  0.293659     0.123915    0.027871  0.088375   \n",
       "total_acc              0.223886  0.036404     0.202430    0.193023  0.102128   \n",
       "mort_acc               0.222315  0.082583     0.193694    0.236320  0.025439   \n",
       "pub_rec_bankruptcies   0.106539  0.057450     0.098628    0.050162  0.014558   \n",
       "loan_repaid            0.059836  0.247758     0.041082    0.053432  0.062413   \n",
       "\n",
       "                      open_acc   pub_rec  revol_bal  revol_util  total_acc  \\\n",
       "loan_amnt             0.198556  0.077779   0.328320    0.099911   0.223886   \n",
       "int_rate              0.011649  0.060986   0.011280    0.293659   0.036404   \n",
       "installment           0.188973  0.067892   0.316455    0.123915   0.202430   \n",
       "annual_inc            0.136150  0.013720   0.299773    0.027871   0.193023   \n",
       "dti                   0.136181  0.017639   0.063571    0.088375   0.102128   \n",
       "open_acc              1.000000  0.018392   0.221192    0.131420   0.680728   \n",
       "pub_rec               0.018392  1.000000   0.101664    0.075910   0.019723   \n",
       "revol_bal             0.221192  0.101664   1.000000    0.226346   0.191616   \n",
       "revol_util            0.131420  0.075910   0.226346    1.000000   0.104273   \n",
       "total_acc             0.680728  0.019723   0.191616    0.104273   1.000000   \n",
       "mort_acc              0.109205  0.011552   0.194925    0.007514   0.381072   \n",
       "pub_rec_bankruptcies  0.027732  0.699408   0.124532    0.086751   0.042035   \n",
       "loan_repaid           0.028012  0.019933   0.010892    0.082373   0.017893   \n",
       "\n",
       "                      mort_acc  pub_rec_bankruptcies  loan_repaid  \n",
       "loan_amnt             0.222315              0.106539     0.059836  \n",
       "int_rate              0.082583              0.057450     0.247758  \n",
       "installment           0.193694              0.098628     0.041082  \n",
       "annual_inc            0.236320              0.050162     0.053432  \n",
       "dti                   0.025439              0.014558     0.062413  \n",
       "open_acc              0.109205              0.027732     0.028012  \n",
       "pub_rec               0.011552              0.699408     0.019933  \n",
       "revol_bal             0.194925              0.124532     0.010892  \n",
       "revol_util            0.007514              0.086751     0.082373  \n",
       "total_acc             0.381072              0.042035     0.017893  \n",
       "mort_acc              1.000000              0.027239     0.073111  \n",
       "pub_rec_bankruptcies  0.027239              1.000000     0.009383  \n",
       "loan_repaid           0.073111              0.009383     1.000000  "
      ]
     },
     "execution_count": 19,
     "metadata": {},
     "output_type": "execute_result"
    }
   ],
   "source": [
    "df.corr().abs()"
   ]
  },
  {
   "cell_type": "markdown",
   "metadata": {},
   "source": [
    "The heatmap visualize the correlation between various columns using colors. \n",
    "\n",
    "---"
   ]
  },
  {
   "cell_type": "markdown",
   "metadata": {},
   "source": [
    "**We can see that there is an almost perfect correlation between `installment` and `loan_amnt` feature. We're going to explore these features further. First, we have to print out their descriptions then perform a scatterplot between them.**"
   ]
  },
  {
   "cell_type": "code",
   "execution_count": 20,
   "metadata": {},
   "outputs": [
    {
     "name": "stdout",
     "output_type": "stream",
     "text": [
      "Installment: The monthly payment owed by the borrower if the loan originates.\n"
     ]
    }
   ],
   "source": [
    "print('Installment: ', end='')\n",
    "feat_info('installment')"
   ]
  },
  {
   "cell_type": "code",
   "execution_count": 21,
   "metadata": {},
   "outputs": [
    {
     "name": "stdout",
     "output_type": "stream",
     "text": [
      "Loan Amount: The listed amount of the loan applied for by the borrower. If at some point in time, the credit department reduces the loan amount, then it will be reflected in this value.\n"
     ]
    }
   ],
   "source": [
    "print('Loan Amount: ', end='')\n",
    "feat_info('loan_amnt')"
   ]
  },
  {
   "cell_type": "code",
   "execution_count": 22,
   "metadata": {},
   "outputs": [
    {
     "data": {
      "text/plain": [
       "<Axes: xlabel='installment', ylabel='loan_amnt'>"
      ]
     },
     "execution_count": 22,
     "metadata": {},
     "output_type": "execute_result"
    },
    {
     "data": {
      "image/png": "[encoded data removed]",
      "text/plain": [
       "<Figure size 640x480 with 1 Axes>"
      ]
     },
     "metadata": {},
     "output_type": "display_data"
    }
   ],
   "source": [
    "sns.scatterplot(x='installment', y='loan_amnt', data=df)"
   ]
  },
  {
   "cell_type": "markdown",
   "metadata": {},
   "source": [
    "Does this relationship make sense to you? Do you think there is duplicate information here?"
   ]
  },
  {
   "cell_type": "markdown",
   "metadata": {},
   "source": [
    "**TASK: Create a boxplot showing the relationship between the loan_status and the Loan Amount.**"
   ]
  },
  {
   "cell_type": "code",
   "execution_count": 23,
   "metadata": {},
   "outputs": [
    {
     "data": {
      "text/plain": [
       "<Axes: xlabel='loan_status', ylabel='loan_amnt'>"
      ]
     },
     "execution_count": 23,
     "metadata": {},
     "output_type": "execute_result"
    },
    {
     "data": {
      "image/png": "[encoded data removed]",
      "text/plain": [
       "<Figure size 640x480 with 1 Axes>"
      ]
     },
     "metadata": {},
     "output_type": "display_data"
    }
   ],
   "source": [
    "sns.boxplot(x='loan_status', y='loan_amnt', data=df)"
   ]
  },
  {
   "cell_type": "markdown",
   "metadata": {},
   "source": [
    "We can see that there are outliers in loan_amount feature."
   ]
  },
  {
   "cell_type": "markdown",
   "metadata": {},
   "source": [
    "**Lets see the summary statistics for the loan amount, grouped by the loan_status.**"
   ]
  },
  {
   "cell_type": "code",
   "execution_count": 24,
   "metadata": {},
   "outputs": [
    {
     "data": {
      "text/html": [
       "<div>\n",
       "<style scoped>\n",
       "    .dataframe tbody tr th:only-of-type {\n",
       "        vertical-align: middle;\n",
       "    }\n",
       "\n",
       "    .dataframe tbody tr th {\n",
       "        vertical-align: top;\n",
       "    }\n",
       "\n",
       "    .dataframe thead th {\n",
       "        text-align: right;\n",
       "    }\n",
       "</style>\n",
       "<table border=\"1\" class=\"dataframe\">\n",
       "  <thead>\n",
       "    <tr style=\"text-align: right;\">\n",
       "      <th></th>\n",
       "      <th>count</th>\n",
       "      <th>mean</th>\n",
       "      <th>std</th>\n",
       "      <th>min</th>\n",
       "      <th>25%</th>\n",
       "      <th>50%</th>\n",
       "      <th>75%</th>\n",
       "      <th>max</th>\n",
       "    </tr>\n",
       "    <tr>\n",
       "      <th>loan_status</th>\n",
       "      <th></th>\n",
       "      <th></th>\n",
       "      <th></th>\n",
       "      <th></th>\n",
       "      <th></th>\n",
       "      <th></th>\n",
       "      <th></th>\n",
       "      <th></th>\n",
       "    </tr>\n",
       "  </thead>\n",
       "  <tbody>\n",
       "    <tr>\n",
       "      <th>Charged Off</th>\n",
       "      <td>77673.0</td>\n",
       "      <td>15126.300967</td>\n",
       "      <td>8505.090557</td>\n",
       "      <td>1000.0</td>\n",
       "      <td>8525.0</td>\n",
       "      <td>14000.0</td>\n",
       "      <td>20000.0</td>\n",
       "      <td>40000.0</td>\n",
       "    </tr>\n",
       "    <tr>\n",
       "      <th>Fully Paid</th>\n",
       "      <td>318357.0</td>\n",
       "      <td>13866.878771</td>\n",
       "      <td>8302.319699</td>\n",
       "      <td>500.0</td>\n",
       "      <td>7500.0</td>\n",
       "      <td>12000.0</td>\n",
       "      <td>19225.0</td>\n",
       "      <td>40000.0</td>\n",
       "    </tr>\n",
       "  </tbody>\n",
       "</table>\n",
       "</div>"
      ],
      "text/plain": [
       "                count          mean          std     min     25%      50%  \\\n",
       "loan_status                                                                 \n",
       "Charged Off   77673.0  15126.300967  8505.090557  1000.0  8525.0  14000.0   \n",
       "Fully Paid   318357.0  13866.878771  8302.319699   500.0  7500.0  12000.0   \n",
       "\n",
       "                 75%      max  \n",
       "loan_status                    \n",
       "Charged Off  20000.0  40000.0  \n",
       "Fully Paid   19225.0  40000.0  "
      ]
     },
     "execution_count": 24,
     "metadata": {},
     "output_type": "execute_result"
    }
   ],
   "source": [
    "status = df.groupby(by='loan_status')['loan_amnt']\n",
    "status.describe()"
   ]
  },
  {
   "cell_type": "markdown",
   "metadata": {},
   "source": [
    "There are little statistical difference between loan_amnt of the charged off and fully paid loans\n",
    "\n",
    "---"
   ]
  },
  {
   "cell_type": "markdown",
   "metadata": {},
   "source": [
    "**Now let's explore the Grade and SubGrade columns that LendingClub attributes to the loans. What are the unique possible grades and subgrades?**"
   ]
  },
  {
   "cell_type": "code",
   "execution_count": 25,
   "metadata": {},
   "outputs": [
    {
     "data": {
      "text/plain": [
       "Index(['loan_amnt', 'term', 'int_rate', 'installment', 'grade', 'sub_grade',\n",
       "       'emp_title', 'emp_length', 'home_ownership', 'annual_inc',\n",
       "       'verification_status', 'issue_d', 'loan_status', 'purpose', 'title',\n",
       "       'dti', 'earliest_cr_line', 'open_acc', 'pub_rec', 'revol_bal',\n",
       "       'revol_util', 'total_acc', 'initial_list_status', 'application_type',\n",
       "       'mort_acc', 'pub_rec_bankruptcies', 'address', 'loan_repaid'],\n",
       "      dtype='object')"
      ]
     },
     "execution_count": 25,
     "metadata": {},
     "output_type": "execute_result"
    }
   ],
   "source": [
    "df.columns"
   ]
  },
  {
   "cell_type": "code",
   "execution_count": 26,
   "metadata": {},
   "outputs": [
    {
     "data": {
      "text/plain": [
       "array(['B', 'A', 'C', 'E', 'D', 'F', 'G'], dtype=object)"
      ]
     },
     "execution_count": 26,
     "metadata": {},
     "output_type": "execute_result"
    }
   ],
   "source": [
    "df['grade'].unique()"
   ]
  },
  {
   "cell_type": "code",
   "execution_count": 27,
   "metadata": {},
   "outputs": [
    {
     "data": {
      "text/plain": [
       "array(['B4', 'B5', 'B3', 'A2', 'C5', 'C3', 'A1', 'B2', 'C1', 'A5', 'E4',\n",
       "       'A4', 'A3', 'D1', 'C2', 'B1', 'D3', 'D5', 'D2', 'E1', 'E2', 'E5',\n",
       "       'F4', 'E3', 'D4', 'G1', 'F5', 'G2', 'C4', 'F1', 'F3', 'G5', 'G4',\n",
       "       'F2', 'G3'], dtype=object)"
      ]
     },
     "execution_count": 27,
     "metadata": {},
     "output_type": "execute_result"
    }
   ],
   "source": [
    "df['sub_grade'].unique()"
   ]
  },
  {
   "cell_type": "markdown",
   "metadata": {},
   "source": [
    "**We will first analyze the `grade` feature by creating countplot for it. Then set the hue to the loan_status label.**"
   ]
  },
  {
   "cell_type": "code",
   "execution_count": 28,
   "metadata": {},
   "outputs": [
    {
     "data": {
      "text/plain": [
       "<Axes: xlabel='grade', ylabel='count'>"
      ]
     },
     "execution_count": 28,
     "metadata": {},
     "output_type": "execute_result"
    },
    {
     "data": {
      "image/png": "[encoded data removed]",
      "text/plain": [
       "<Figure size 640x480 with 1 Axes>"
      ]
     },
     "metadata": {},
     "output_type": "display_data"
    }
   ],
   "source": [
    "# Declare order of the values (ascending from A to G)\n",
    "order = np.sort(df['grade'].unique())\n",
    "\n",
    "# Creating countplot\n",
    "sns.countplot(x='grade', data=df, hue='loan_status', order=order)"
   ]
  },
  {
   "cell_type": "markdown",
   "metadata": {},
   "source": [
    "**Now let's analyze `sub_grade` feature by creating a count plot. We will explore both all loans made per subgrade as well being separated based on the loan_status.**"
   ]
  },
  {
   "cell_type": "code",
   "execution_count": 29,
   "metadata": {},
   "outputs": [
    {
     "data": {
      "text/plain": [
       "<Axes: xlabel='sub_grade', ylabel='count'>"
      ]
     },
     "execution_count": 29,
     "metadata": {},
     "output_type": "execute_result"
    },
    {
     "data": {
      "image/png": "[encoded data removed]",
      "text/plain": [
       "<Figure size 1200x400 with 1 Axes>"
      ]
     },
     "metadata": {},
     "output_type": "display_data"
    }
   ],
   "source": [
    "plt.figure(figsize=(12,4))\n",
    "sns.countplot(x='sub_grade', data=df.sort_values(by='sub_grade', ascending= True), palette='viridis')"
   ]
  },
  {
   "cell_type": "code",
   "execution_count": 30,
   "metadata": {
    "scrolled": true
   },
   "outputs": [
    {
     "data": {
      "text/html": [
       "<div>\n",
       "<style scoped>\n",
       "    .dataframe tbody tr th:only-of-type {\n",
       "        vertical-align: middle;\n",
       "    }\n",
       "\n",
       "    .dataframe tbody tr th {\n",
       "        vertical-align: top;\n",
       "    }\n",
       "\n",
       "    .dataframe thead th {\n",
       "        text-align: right;\n",
       "    }\n",
       "</style>\n",
       "<table border=\"1\" class=\"dataframe\">\n",
       "  <thead>\n",
       "    <tr style=\"text-align: right;\">\n",
       "      <th></th>\n",
       "      <th>full</th>\n",
       "      <th>charg</th>\n",
       "    </tr>\n",
       "    <tr>\n",
       "      <th>sub_grade</th>\n",
       "      <th></th>\n",
       "      <th></th>\n",
       "    </tr>\n",
       "  </thead>\n",
       "  <tbody>\n",
       "    <tr>\n",
       "      <th>A1</th>\n",
       "      <td>9450</td>\n",
       "      <td>279</td>\n",
       "    </tr>\n",
       "    <tr>\n",
       "      <th>A2</th>\n",
       "      <td>9106</td>\n",
       "      <td>461</td>\n",
       "    </tr>\n",
       "    <tr>\n",
       "      <th>A3</th>\n",
       "      <td>9962</td>\n",
       "      <td>614</td>\n",
       "    </tr>\n",
       "    <tr>\n",
       "      <th>A4</th>\n",
       "      <td>14680</td>\n",
       "      <td>1109</td>\n",
       "    </tr>\n",
       "    <tr>\n",
       "      <th>A5</th>\n",
       "      <td>16953</td>\n",
       "      <td>1573</td>\n",
       "    </tr>\n",
       "    <tr>\n",
       "      <th>B1</th>\n",
       "      <td>17291</td>\n",
       "      <td>1891</td>\n",
       "    </tr>\n",
       "    <tr>\n",
       "      <th>B2</th>\n",
       "      <td>20054</td>\n",
       "      <td>2441</td>\n",
       "    </tr>\n",
       "    <tr>\n",
       "      <th>B3</th>\n",
       "      <td>23367</td>\n",
       "      <td>3288</td>\n",
       "    </tr>\n",
       "    <tr>\n",
       "      <th>B4</th>\n",
       "      <td>22058</td>\n",
       "      <td>3543</td>\n",
       "    </tr>\n",
       "    <tr>\n",
       "      <th>B5</th>\n",
       "      <td>18661</td>\n",
       "      <td>3424</td>\n",
       "    </tr>\n",
       "    <tr>\n",
       "      <th>C1</th>\n",
       "      <td>19552</td>\n",
       "      <td>4110</td>\n",
       "    </tr>\n",
       "    <tr>\n",
       "      <th>C2</th>\n",
       "      <td>18120</td>\n",
       "      <td>4460</td>\n",
       "    </tr>\n",
       "    <tr>\n",
       "      <th>C3</th>\n",
       "      <td>16586</td>\n",
       "      <td>4635</td>\n",
       "    </tr>\n",
       "    <tr>\n",
       "      <th>C4</th>\n",
       "      <td>15507</td>\n",
       "      <td>4773</td>\n",
       "    </tr>\n",
       "    <tr>\n",
       "      <th>C5</th>\n",
       "      <td>13773</td>\n",
       "      <td>4471</td>\n",
       "    </tr>\n",
       "    <tr>\n",
       "      <th>D1</th>\n",
       "      <td>11774</td>\n",
       "      <td>4219</td>\n",
       "    </tr>\n",
       "    <tr>\n",
       "      <th>D2</th>\n",
       "      <td>10040</td>\n",
       "      <td>3911</td>\n",
       "    </tr>\n",
       "    <tr>\n",
       "      <th>D3</th>\n",
       "      <td>8749</td>\n",
       "      <td>3474</td>\n",
       "    </tr>\n",
       "    <tr>\n",
       "      <th>D4</th>\n",
       "      <td>8028</td>\n",
       "      <td>3629</td>\n",
       "    </tr>\n",
       "    <tr>\n",
       "      <th>D5</th>\n",
       "      <td>6595</td>\n",
       "      <td>3105</td>\n",
       "    </tr>\n",
       "    <tr>\n",
       "      <th>E1</th>\n",
       "      <td>5193</td>\n",
       "      <td>2724</td>\n",
       "    </tr>\n",
       "    <tr>\n",
       "      <th>E2</th>\n",
       "      <td>4701</td>\n",
       "      <td>2730</td>\n",
       "    </tr>\n",
       "    <tr>\n",
       "      <th>E3</th>\n",
       "      <td>3846</td>\n",
       "      <td>2361</td>\n",
       "    </tr>\n",
       "    <tr>\n",
       "      <th>E4</th>\n",
       "      <td>3254</td>\n",
       "      <td>2107</td>\n",
       "    </tr>\n",
       "    <tr>\n",
       "      <th>E5</th>\n",
       "      <td>2729</td>\n",
       "      <td>1843</td>\n",
       "    </tr>\n",
       "    <tr>\n",
       "      <th>F1</th>\n",
       "      <td>2166</td>\n",
       "      <td>1370</td>\n",
       "    </tr>\n",
       "    <tr>\n",
       "      <th>F2</th>\n",
       "      <td>1591</td>\n",
       "      <td>1175</td>\n",
       "    </tr>\n",
       "    <tr>\n",
       "      <th>F3</th>\n",
       "      <td>1289</td>\n",
       "      <td>997</td>\n",
       "    </tr>\n",
       "    <tr>\n",
       "      <th>F4</th>\n",
       "      <td>972</td>\n",
       "      <td>815</td>\n",
       "    </tr>\n",
       "    <tr>\n",
       "      <th>F5</th>\n",
       "      <td>717</td>\n",
       "      <td>680</td>\n",
       "    </tr>\n",
       "    <tr>\n",
       "      <th>G1</th>\n",
       "      <td>570</td>\n",
       "      <td>488</td>\n",
       "    </tr>\n",
       "    <tr>\n",
       "      <th>G2</th>\n",
       "      <td>390</td>\n",
       "      <td>364</td>\n",
       "    </tr>\n",
       "    <tr>\n",
       "      <th>G3</th>\n",
       "      <td>270</td>\n",
       "      <td>282</td>\n",
       "    </tr>\n",
       "    <tr>\n",
       "      <th>G4</th>\n",
       "      <td>206</td>\n",
       "      <td>168</td>\n",
       "    </tr>\n",
       "    <tr>\n",
       "      <th>G5</th>\n",
       "      <td>157</td>\n",
       "      <td>159</td>\n",
       "    </tr>\n",
       "  </tbody>\n",
       "</table>\n",
       "</div>"
      ],
      "text/plain": [
       "            full  charg\n",
       "sub_grade              \n",
       "A1          9450    279\n",
       "A2          9106    461\n",
       "A3          9962    614\n",
       "A4         14680   1109\n",
       "A5         16953   1573\n",
       "B1         17291   1891\n",
       "B2         20054   2441\n",
       "B3         23367   3288\n",
       "B4         22058   3543\n",
       "B5         18661   3424\n",
       "C1         19552   4110\n",
       "C2         18120   4460\n",
       "C3         16586   4635\n",
       "C4         15507   4773\n",
       "C5         13773   4471\n",
       "D1         11774   4219\n",
       "D2         10040   3911\n",
       "D3          8749   3474\n",
       "D4          8028   3629\n",
       "D5          6595   3105\n",
       "E1          5193   2724\n",
       "E2          4701   2730\n",
       "E3          3846   2361\n",
       "E4          3254   2107\n",
       "E5          2729   1843\n",
       "F1          2166   1370\n",
       "F2          1591   1175\n",
       "F3          1289    997\n",
       "F4           972    815\n",
       "F5           717    680\n",
       "G1           570    488\n",
       "G2           390    364\n",
       "G3           270    282\n",
       "G4           206    168\n",
       "G5           157    159"
      ]
     },
     "execution_count": 30,
     "metadata": {},
     "output_type": "execute_result"
    }
   ],
   "source": [
    "# Count the number of loan paid/charged grouped by sub_grade\n",
    "full_paid = df[df['loan_status'] == 'Fully Paid'].groupby('sub_grade').size()\n",
    "charg = df[df['loan_status'] == 'Charged Off'].groupby('sub_grade').size()\n",
    "\n",
    "# Creating a dataframe\n",
    "subg = pd.DataFrame({'full': full_paid, 'charg':charg})\n",
    "subg"
   ]
  },
  {
   "cell_type": "markdown",
   "metadata": {},
   "source": [
    "Lets create a new `pair ratio` column that contains the ratio of loan payment."
   ]
  },
  {
   "cell_type": "code",
   "execution_count": 31,
   "metadata": {
    "scrolled": true
   },
   "outputs": [
    {
     "data": {
      "text/html": [
       "<div>\n",
       "<style scoped>\n",
       "    .dataframe tbody tr th:only-of-type {\n",
       "        vertical-align: middle;\n",
       "    }\n",
       "\n",
       "    .dataframe tbody tr th {\n",
       "        vertical-align: top;\n",
       "    }\n",
       "\n",
       "    .dataframe thead th {\n",
       "        text-align: right;\n",
       "    }\n",
       "</style>\n",
       "<table border=\"1\" class=\"dataframe\">\n",
       "  <thead>\n",
       "    <tr style=\"text-align: right;\">\n",
       "      <th></th>\n",
       "      <th>full</th>\n",
       "      <th>charg</th>\n",
       "      <th>pay_ratio</th>\n",
       "    </tr>\n",
       "    <tr>\n",
       "      <th>sub_grade</th>\n",
       "      <th></th>\n",
       "      <th></th>\n",
       "      <th></th>\n",
       "    </tr>\n",
       "  </thead>\n",
       "  <tbody>\n",
       "    <tr>\n",
       "      <th>A1</th>\n",
       "      <td>9450</td>\n",
       "      <td>279</td>\n",
       "      <td>0.971323</td>\n",
       "    </tr>\n",
       "    <tr>\n",
       "      <th>A2</th>\n",
       "      <td>9106</td>\n",
       "      <td>461</td>\n",
       "      <td>0.951814</td>\n",
       "    </tr>\n",
       "    <tr>\n",
       "      <th>A3</th>\n",
       "      <td>9962</td>\n",
       "      <td>614</td>\n",
       "      <td>0.941944</td>\n",
       "    </tr>\n",
       "    <tr>\n",
       "      <th>A4</th>\n",
       "      <td>14680</td>\n",
       "      <td>1109</td>\n",
       "      <td>0.929761</td>\n",
       "    </tr>\n",
       "    <tr>\n",
       "      <th>A5</th>\n",
       "      <td>16953</td>\n",
       "      <td>1573</td>\n",
       "      <td>0.915092</td>\n",
       "    </tr>\n",
       "    <tr>\n",
       "      <th>B1</th>\n",
       "      <td>17291</td>\n",
       "      <td>1891</td>\n",
       "      <td>0.901418</td>\n",
       "    </tr>\n",
       "    <tr>\n",
       "      <th>B2</th>\n",
       "      <td>20054</td>\n",
       "      <td>2441</td>\n",
       "      <td>0.891487</td>\n",
       "    </tr>\n",
       "    <tr>\n",
       "      <th>B3</th>\n",
       "      <td>23367</td>\n",
       "      <td>3288</td>\n",
       "      <td>0.876646</td>\n",
       "    </tr>\n",
       "    <tr>\n",
       "      <th>B4</th>\n",
       "      <td>22058</td>\n",
       "      <td>3543</td>\n",
       "      <td>0.861607</td>\n",
       "    </tr>\n",
       "    <tr>\n",
       "      <th>B5</th>\n",
       "      <td>18661</td>\n",
       "      <td>3424</td>\n",
       "      <td>0.844963</td>\n",
       "    </tr>\n",
       "    <tr>\n",
       "      <th>C1</th>\n",
       "      <td>19552</td>\n",
       "      <td>4110</td>\n",
       "      <td>0.826304</td>\n",
       "    </tr>\n",
       "    <tr>\n",
       "      <th>C2</th>\n",
       "      <td>18120</td>\n",
       "      <td>4460</td>\n",
       "      <td>0.802480</td>\n",
       "    </tr>\n",
       "    <tr>\n",
       "      <th>C3</th>\n",
       "      <td>16586</td>\n",
       "      <td>4635</td>\n",
       "      <td>0.781584</td>\n",
       "    </tr>\n",
       "    <tr>\n",
       "      <th>C4</th>\n",
       "      <td>15507</td>\n",
       "      <td>4773</td>\n",
       "      <td>0.764645</td>\n",
       "    </tr>\n",
       "    <tr>\n",
       "      <th>C5</th>\n",
       "      <td>13773</td>\n",
       "      <td>4471</td>\n",
       "      <td>0.754933</td>\n",
       "    </tr>\n",
       "    <tr>\n",
       "      <th>D1</th>\n",
       "      <td>11774</td>\n",
       "      <td>4219</td>\n",
       "      <td>0.736197</td>\n",
       "    </tr>\n",
       "    <tr>\n",
       "      <th>D2</th>\n",
       "      <td>10040</td>\n",
       "      <td>3911</td>\n",
       "      <td>0.719662</td>\n",
       "    </tr>\n",
       "    <tr>\n",
       "      <th>D3</th>\n",
       "      <td>8749</td>\n",
       "      <td>3474</td>\n",
       "      <td>0.715782</td>\n",
       "    </tr>\n",
       "    <tr>\n",
       "      <th>D4</th>\n",
       "      <td>8028</td>\n",
       "      <td>3629</td>\n",
       "      <td>0.688685</td>\n",
       "    </tr>\n",
       "    <tr>\n",
       "      <th>D5</th>\n",
       "      <td>6595</td>\n",
       "      <td>3105</td>\n",
       "      <td>0.679897</td>\n",
       "    </tr>\n",
       "    <tr>\n",
       "      <th>E1</th>\n",
       "      <td>5193</td>\n",
       "      <td>2724</td>\n",
       "      <td>0.655930</td>\n",
       "    </tr>\n",
       "    <tr>\n",
       "      <th>E2</th>\n",
       "      <td>4701</td>\n",
       "      <td>2730</td>\n",
       "      <td>0.632620</td>\n",
       "    </tr>\n",
       "    <tr>\n",
       "      <th>E3</th>\n",
       "      <td>3846</td>\n",
       "      <td>2361</td>\n",
       "      <td>0.619623</td>\n",
       "    </tr>\n",
       "    <tr>\n",
       "      <th>E4</th>\n",
       "      <td>3254</td>\n",
       "      <td>2107</td>\n",
       "      <td>0.606976</td>\n",
       "    </tr>\n",
       "    <tr>\n",
       "      <th>E5</th>\n",
       "      <td>2729</td>\n",
       "      <td>1843</td>\n",
       "      <td>0.596894</td>\n",
       "    </tr>\n",
       "    <tr>\n",
       "      <th>F1</th>\n",
       "      <td>2166</td>\n",
       "      <td>1370</td>\n",
       "      <td>0.612557</td>\n",
       "    </tr>\n",
       "    <tr>\n",
       "      <th>F2</th>\n",
       "      <td>1591</td>\n",
       "      <td>1175</td>\n",
       "      <td>0.575199</td>\n",
       "    </tr>\n",
       "    <tr>\n",
       "      <th>F3</th>\n",
       "      <td>1289</td>\n",
       "      <td>997</td>\n",
       "      <td>0.563867</td>\n",
       "    </tr>\n",
       "    <tr>\n",
       "      <th>F4</th>\n",
       "      <td>972</td>\n",
       "      <td>815</td>\n",
       "      <td>0.543928</td>\n",
       "    </tr>\n",
       "    <tr>\n",
       "      <th>F5</th>\n",
       "      <td>717</td>\n",
       "      <td>680</td>\n",
       "      <td>0.513243</td>\n",
       "    </tr>\n",
       "    <tr>\n",
       "      <th>G1</th>\n",
       "      <td>570</td>\n",
       "      <td>488</td>\n",
       "      <td>0.538752</td>\n",
       "    </tr>\n",
       "    <tr>\n",
       "      <th>G2</th>\n",
       "      <td>390</td>\n",
       "      <td>364</td>\n",
       "      <td>0.517241</td>\n",
       "    </tr>\n",
       "    <tr>\n",
       "      <th>G3</th>\n",
       "      <td>270</td>\n",
       "      <td>282</td>\n",
       "      <td>0.489130</td>\n",
       "    </tr>\n",
       "    <tr>\n",
       "      <th>G4</th>\n",
       "      <td>206</td>\n",
       "      <td>168</td>\n",
       "      <td>0.550802</td>\n",
       "    </tr>\n",
       "    <tr>\n",
       "      <th>G5</th>\n",
       "      <td>157</td>\n",
       "      <td>159</td>\n",
       "      <td>0.496835</td>\n",
       "    </tr>\n",
       "  </tbody>\n",
       "</table>\n",
       "</div>"
      ],
      "text/plain": [
       "            full  charg  pay_ratio\n",
       "sub_grade                         \n",
       "A1          9450    279   0.971323\n",
       "A2          9106    461   0.951814\n",
       "A3          9962    614   0.941944\n",
       "A4         14680   1109   0.929761\n",
       "A5         16953   1573   0.915092\n",
       "B1         17291   1891   0.901418\n",
       "B2         20054   2441   0.891487\n",
       "B3         23367   3288   0.876646\n",
       "B4         22058   3543   0.861607\n",
       "B5         18661   3424   0.844963\n",
       "C1         19552   4110   0.826304\n",
       "C2         18120   4460   0.802480\n",
       "C3         16586   4635   0.781584\n",
       "C4         15507   4773   0.764645\n",
       "C5         13773   4471   0.754933\n",
       "D1         11774   4219   0.736197\n",
       "D2         10040   3911   0.719662\n",
       "D3          8749   3474   0.715782\n",
       "D4          8028   3629   0.688685\n",
       "D5          6595   3105   0.679897\n",
       "E1          5193   2724   0.655930\n",
       "E2          4701   2730   0.632620\n",
       "E3          3846   2361   0.619623\n",
       "E4          3254   2107   0.606976\n",
       "E5          2729   1843   0.596894\n",
       "F1          2166   1370   0.612557\n",
       "F2          1591   1175   0.575199\n",
       "F3          1289    997   0.563867\n",
       "F4           972    815   0.543928\n",
       "F5           717    680   0.513243\n",
       "G1           570    488   0.538752\n",
       "G2           390    364   0.517241\n",
       "G3           270    282   0.489130\n",
       "G4           206    168   0.550802\n",
       "G5           157    159   0.496835"
      ]
     },
     "execution_count": 31,
     "metadata": {},
     "output_type": "execute_result"
    }
   ],
   "source": [
    "# Creating new feature\n",
    "subg['pay_ratio'] = subg['full']/(subg['charg']+subg['full'])\n",
    "subg"
   ]
  },
  {
   "cell_type": "code",
   "execution_count": 32,
   "metadata": {},
   "outputs": [],
   "source": [
    "subg = subg.sort_values('pay_ratio', ascending=False)"
   ]
  },
  {
   "cell_type": "code",
   "execution_count": 33,
   "metadata": {
    "scrolled": false
   },
   "outputs": [
    {
     "data": {
      "text/plain": [
       "<Axes: xlabel='sub_grade', ylabel='pay_ratio'>"
      ]
     },
     "execution_count": 33,
     "metadata": {},
     "output_type": "execute_result"
    },
    {
     "data": {
      "image/png": "[encoded data removed]",
      "text/plain": [
       "<Figure size 1200x600 with 1 Axes>"
      ]
     },
     "metadata": {},
     "output_type": "display_data"
    }
   ],
   "source": [
    "# Visualize the pay_ratio column with a barplot\n",
    "plt.figure(figsize=(12,6))\n",
    "sns.barplot(x=subg.index, y='pay_ratio', data=subg)"
   ]
  },
  {
   "cell_type": "markdown",
   "metadata": {},
   "source": [
    "The visualization above shows that there is a correlation between pay ratio and grade. Specifically, grade A has the highest pay ratio, while grade G has the lowest.\n",
    "\n",
    "---"
   ]
  },
  {
   "cell_type": "markdown",
   "metadata": {},
   "source": [
    "**F and G subgrades don't paid back that often. Isloate those and recreate the countplot just for those subgrades.**"
   ]
  },
  {
   "cell_type": "code",
   "execution_count": 34,
   "metadata": {},
   "outputs": [
    {
     "data": {
      "text/plain": [
       "<Axes: xlabel='sub_grade', ylabel='count'>"
      ]
     },
     "execution_count": 34,
     "metadata": {},
     "output_type": "execute_result"
    },
    {
     "data": {
      "image/png": "[encoded data removed]",
      "text/plain": [
       "<Figure size 1200x700 with 1 Axes>"
      ]
     },
     "metadata": {},
     "output_type": "display_data"
    }
   ],
   "source": [
    "f_g = df[(df['grade'] == 'F')|(df['grade'] == 'G')].sort_values(by='sub_grade', ascending=True)\n",
    "hue_ord = sorted(f_g['loan_status'].unique(), reverse=True)\n",
    "\n",
    "plt.figure(figsize=(12,7))\n",
    "sns.countplot(x='sub_grade', data=f_g, hue='loan_status', hue_order=hue_ord)"
   ]
  },
  {
   "cell_type": "markdown",
   "metadata": {},
   "source": [
    "Both grades dont get paid back often, but grade G is clearly worse. Most of grade G show that there are around 50% chance that you dont get paid back"
   ]
  },
  {
   "cell_type": "markdown",
   "metadata": {},
   "source": [
    "**Create a bar plot showing the correlation of the numeric features to the new loan_repaid column.**"
   ]
  },
  {
   "cell_type": "code",
   "execution_count": 35,
   "metadata": {},
   "outputs": [
    {
     "name": "stderr",
     "output_type": "stream",
     "text": [
      "C:\\Users\\Mengski\\AppData\\Local\\Temp\\ipykernel_14612\\3452494285.py:1: FutureWarning: The default value of numeric_only in DataFrame.corr is deprecated. In a future version, it will default to False. Select only valid columns or specify the value of numeric_only to silence this warning.\n",
      "  repaid_corr = df.corr()[['loan_repaid']].drop(labels='loan_repaid', axis=0).sort_values(by='loan_repaid',ascending=True)\n"
     ]
    },
    {
     "data": {
      "text/plain": [
       "<Axes: ylabel='loan_repaid'>"
      ]
     },
     "execution_count": 35,
     "metadata": {},
     "output_type": "execute_result"
    },
    {
     "data": {
      "image/png": "[encoded data removed]",
      "text/plain": [
       "<Figure size 640x480 with 1 Axes>"
      ]
     },
     "metadata": {},
     "output_type": "display_data"
    }
   ],
   "source": [
    "repaid_corr = df.corr()[['loan_repaid']].drop(labels='loan_repaid', axis=0).sort_values(by='loan_repaid',ascending=True)\n",
    "plt.xticks(rotation=90)\n",
    "sns.barplot(x=repaid_corr.index, y='loan_repaid', data=repaid_corr)"
   ]
  },
  {
   "cell_type": "markdown",
   "metadata": {},
   "source": [
    "---\n",
    "---\n",
    "# Data Preprocessing\n",
    "\n",
    "**Goals: Remove or fill any missing data. Remove unnecessary or repetitive features. Convert categorical string features to dummy variables.**\n",
    "\n"
   ]
  },
  {
   "cell_type": "code",
   "execution_count": 36,
   "metadata": {},
   "outputs": [
    {
     "data": {
      "text/html": [
       "<div>\n",
       "<style scoped>\n",
       "    .dataframe tbody tr th:only-of-type {\n",
       "        vertical-align: middle;\n",
       "    }\n",
       "\n",
       "    .dataframe tbody tr th {\n",
       "        vertical-align: top;\n",
       "    }\n",
       "\n",
       "    .dataframe thead th {\n",
       "        text-align: right;\n",
       "    }\n",
       "</style>\n",
       "<table border=\"1\" class=\"dataframe\">\n",
       "  <thead>\n",
       "    <tr style=\"text-align: right;\">\n",
       "      <th></th>\n",
       "      <th>dataFeatures</th>\n",
       "      <th>dataType</th>\n",
       "      <th>null</th>\n",
       "      <th>nullPct</th>\n",
       "      <th>unique</th>\n",
       "      <th>uniqueSample</th>\n",
       "    </tr>\n",
       "  </thead>\n",
       "  <tbody>\n",
       "    <tr>\n",
       "      <th>0</th>\n",
       "      <td>loan_amnt</td>\n",
       "      <td>float64</td>\n",
       "      <td>0</td>\n",
       "      <td>0.00</td>\n",
       "      <td>1397</td>\n",
       "      <td>[10000.0, 8000.0, 15600.0, 7200.0, 24375.0, 20...</td>\n",
       "    </tr>\n",
       "    <tr>\n",
       "      <th>1</th>\n",
       "      <td>term</td>\n",
       "      <td>object</td>\n",
       "      <td>0</td>\n",
       "      <td>0.00</td>\n",
       "      <td>2</td>\n",
       "      <td>[ 36 months,  60 months]</td>\n",
       "    </tr>\n",
       "    <tr>\n",
       "      <th>2</th>\n",
       "      <td>int_rate</td>\n",
       "      <td>float64</td>\n",
       "      <td>0</td>\n",
       "      <td>0.00</td>\n",
       "      <td>566</td>\n",
       "      <td>[11.44, 11.99, 10.49, 6.49, 17.27, 13.33, 5.32...</td>\n",
       "    </tr>\n",
       "    <tr>\n",
       "      <th>3</th>\n",
       "      <td>installment</td>\n",
       "      <td>float64</td>\n",
       "      <td>0</td>\n",
       "      <td>0.00</td>\n",
       "      <td>55706</td>\n",
       "      <td>[329.48, 265.68, 506.97, 220.65, 609.33, 677.0...</td>\n",
       "    </tr>\n",
       "    <tr>\n",
       "      <th>4</th>\n",
       "      <td>grade</td>\n",
       "      <td>object</td>\n",
       "      <td>0</td>\n",
       "      <td>0.00</td>\n",
       "      <td>7</td>\n",
       "      <td>[B, A, C, E, D, F, G]</td>\n",
       "    </tr>\n",
       "    <tr>\n",
       "      <th>5</th>\n",
       "      <td>sub_grade</td>\n",
       "      <td>object</td>\n",
       "      <td>0</td>\n",
       "      <td>0.00</td>\n",
       "      <td>35</td>\n",
       "      <td>[B4, B5, B3, A2, C5, C3, A1, B2, C1, A5, E4, A...</td>\n",
       "    </tr>\n",
       "    <tr>\n",
       "      <th>6</th>\n",
       "      <td>emp_title</td>\n",
       "      <td>object</td>\n",
       "      <td>22927</td>\n",
       "      <td>5.79</td>\n",
       "      <td>173105</td>\n",
       "      <td>[Marketing, Credit analyst , Statistician, Cli...</td>\n",
       "    </tr>\n",
       "    <tr>\n",
       "      <th>7</th>\n",
       "      <td>emp_length</td>\n",
       "      <td>object</td>\n",
       "      <td>18301</td>\n",
       "      <td>4.62</td>\n",
       "      <td>11</td>\n",
       "      <td>[10+ years, 4 years, &lt; 1 year, 6 years, 9 year...</td>\n",
       "    </tr>\n",
       "    <tr>\n",
       "      <th>8</th>\n",
       "      <td>home_ownership</td>\n",
       "      <td>object</td>\n",
       "      <td>0</td>\n",
       "      <td>0.00</td>\n",
       "      <td>6</td>\n",
       "      <td>[RENT, MORTGAGE, OWN, OTHER, NONE, ANY]</td>\n",
       "    </tr>\n",
       "    <tr>\n",
       "      <th>9</th>\n",
       "      <td>annual_inc</td>\n",
       "      <td>float64</td>\n",
       "      <td>0</td>\n",
       "      <td>0.00</td>\n",
       "      <td>27197</td>\n",
       "      <td>[117000.0, 65000.0, 43057.0, 54000.0, 55000.0,...</td>\n",
       "    </tr>\n",
       "    <tr>\n",
       "      <th>10</th>\n",
       "      <td>verification_status</td>\n",
       "      <td>object</td>\n",
       "      <td>0</td>\n",
       "      <td>0.00</td>\n",
       "      <td>3</td>\n",
       "      <td>[Not Verified, Source Verified, Verified]</td>\n",
       "    </tr>\n",
       "    <tr>\n",
       "      <th>11</th>\n",
       "      <td>issue_d</td>\n",
       "      <td>object</td>\n",
       "      <td>0</td>\n",
       "      <td>0.00</td>\n",
       "      <td>115</td>\n",
       "      <td>[Jan-2015, Nov-2014, Apr-2013, Sep-2015, Sep-2...</td>\n",
       "    </tr>\n",
       "    <tr>\n",
       "      <th>12</th>\n",
       "      <td>loan_status</td>\n",
       "      <td>object</td>\n",
       "      <td>0</td>\n",
       "      <td>0.00</td>\n",
       "      <td>2</td>\n",
       "      <td>[Fully Paid, Charged Off]</td>\n",
       "    </tr>\n",
       "    <tr>\n",
       "      <th>13</th>\n",
       "      <td>purpose</td>\n",
       "      <td>object</td>\n",
       "      <td>0</td>\n",
       "      <td>0.00</td>\n",
       "      <td>14</td>\n",
       "      <td>[vacation, debt_consolidation, credit_card, ho...</td>\n",
       "    </tr>\n",
       "    <tr>\n",
       "      <th>14</th>\n",
       "      <td>title</td>\n",
       "      <td>object</td>\n",
       "      <td>1755</td>\n",
       "      <td>0.44</td>\n",
       "      <td>48817</td>\n",
       "      <td>[Vacation, Debt consolidation, Credit card ref...</td>\n",
       "    </tr>\n",
       "    <tr>\n",
       "      <th>15</th>\n",
       "      <td>dti</td>\n",
       "      <td>float64</td>\n",
       "      <td>0</td>\n",
       "      <td>0.00</td>\n",
       "      <td>4262</td>\n",
       "      <td>[26.24, 22.05, 12.79, 2.6, 33.95, 16.31, 1.36,...</td>\n",
       "    </tr>\n",
       "    <tr>\n",
       "      <th>16</th>\n",
       "      <td>earliest_cr_line</td>\n",
       "      <td>object</td>\n",
       "      <td>0</td>\n",
       "      <td>0.00</td>\n",
       "      <td>684</td>\n",
       "      <td>[Jun-1990, Jul-2004, Aug-2007, Sep-2006, Mar-1...</td>\n",
       "    </tr>\n",
       "    <tr>\n",
       "      <th>17</th>\n",
       "      <td>open_acc</td>\n",
       "      <td>float64</td>\n",
       "      <td>0</td>\n",
       "      <td>0.00</td>\n",
       "      <td>61</td>\n",
       "      <td>[16.0, 17.0, 13.0, 6.0, 8.0, 11.0, 5.0, 30.0, ...</td>\n",
       "    </tr>\n",
       "    <tr>\n",
       "      <th>18</th>\n",
       "      <td>pub_rec</td>\n",
       "      <td>float64</td>\n",
       "      <td>0</td>\n",
       "      <td>0.00</td>\n",
       "      <td>20</td>\n",
       "      <td>[0.0, 1.0, 2.0, 3.0, 4.0, 6.0, 5.0, 8.0, 9.0, ...</td>\n",
       "    </tr>\n",
       "    <tr>\n",
       "      <th>19</th>\n",
       "      <td>revol_bal</td>\n",
       "      <td>float64</td>\n",
       "      <td>0</td>\n",
       "      <td>0.00</td>\n",
       "      <td>55622</td>\n",
       "      <td>[36369.0, 20131.0, 11987.0, 5472.0, 24584.0, 2...</td>\n",
       "    </tr>\n",
       "    <tr>\n",
       "      <th>20</th>\n",
       "      <td>revol_util</td>\n",
       "      <td>float64</td>\n",
       "      <td>276</td>\n",
       "      <td>0.07</td>\n",
       "      <td>1226</td>\n",
       "      <td>[41.8, 53.3, 92.2, 21.5, 69.8, 100.6, 4.9, 64....</td>\n",
       "    </tr>\n",
       "    <tr>\n",
       "      <th>21</th>\n",
       "      <td>total_acc</td>\n",
       "      <td>float64</td>\n",
       "      <td>0</td>\n",
       "      <td>0.00</td>\n",
       "      <td>118</td>\n",
       "      <td>[25.0, 27.0, 26.0, 13.0, 43.0, 23.0, 15.0, 40....</td>\n",
       "    </tr>\n",
       "    <tr>\n",
       "      <th>22</th>\n",
       "      <td>initial_list_status</td>\n",
       "      <td>object</td>\n",
       "      <td>0</td>\n",
       "      <td>0.00</td>\n",
       "      <td>2</td>\n",
       "      <td>[w, f]</td>\n",
       "    </tr>\n",
       "    <tr>\n",
       "      <th>23</th>\n",
       "      <td>application_type</td>\n",
       "      <td>object</td>\n",
       "      <td>0</td>\n",
       "      <td>0.00</td>\n",
       "      <td>3</td>\n",
       "      <td>[INDIVIDUAL, JOINT, DIRECT_PAY]</td>\n",
       "    </tr>\n",
       "    <tr>\n",
       "      <th>24</th>\n",
       "      <td>mort_acc</td>\n",
       "      <td>float64</td>\n",
       "      <td>37795</td>\n",
       "      <td>9.54</td>\n",
       "      <td>33</td>\n",
       "      <td>[0.0, 3.0, 1.0, 4.0, 2.0, 6.0, 5.0, nan, 10.0,...</td>\n",
       "    </tr>\n",
       "    <tr>\n",
       "      <th>25</th>\n",
       "      <td>pub_rec_bankruptcies</td>\n",
       "      <td>float64</td>\n",
       "      <td>535</td>\n",
       "      <td>0.14</td>\n",
       "      <td>9</td>\n",
       "      <td>[0.0, 1.0, 2.0, 3.0, nan, 4.0, 5.0, 6.0, 7.0, ...</td>\n",
       "    </tr>\n",
       "    <tr>\n",
       "      <th>26</th>\n",
       "      <td>address</td>\n",
       "      <td>object</td>\n",
       "      <td>0</td>\n",
       "      <td>0.00</td>\n",
       "      <td>393700</td>\n",
       "      <td>[0174 Michelle Gateway\\nMendozaberg, OK 22690,...</td>\n",
       "    </tr>\n",
       "    <tr>\n",
       "      <th>27</th>\n",
       "      <td>loan_repaid</td>\n",
       "      <td>int64</td>\n",
       "      <td>0</td>\n",
       "      <td>0.00</td>\n",
       "      <td>2</td>\n",
       "      <td>[1, 0]</td>\n",
       "    </tr>\n",
       "  </tbody>\n",
       "</table>\n",
       "</div>"
      ],
      "text/plain": [
       "            dataFeatures dataType   null  nullPct  unique  \\\n",
       "0              loan_amnt  float64      0     0.00    1397   \n",
       "1                   term   object      0     0.00       2   \n",
       "2               int_rate  float64      0     0.00     566   \n",
       "3            installment  float64      0     0.00   55706   \n",
       "4                  grade   object      0     0.00       7   \n",
       "5              sub_grade   object      0     0.00      35   \n",
       "6              emp_title   object  22927     5.79  173105   \n",
       "7             emp_length   object  18301     4.62      11   \n",
       "8         home_ownership   object      0     0.00       6   \n",
       "9             annual_inc  float64      0     0.00   27197   \n",
       "10   verification_status   object      0     0.00       3   \n",
       "11               issue_d   object      0     0.00     115   \n",
       "12           loan_status   object      0     0.00       2   \n",
       "13               purpose   object      0     0.00      14   \n",
       "14                 title   object   1755     0.44   48817   \n",
       "15                   dti  float64      0     0.00    4262   \n",
       "16      earliest_cr_line   object      0     0.00     684   \n",
       "17              open_acc  float64      0     0.00      61   \n",
       "18               pub_rec  float64      0     0.00      20   \n",
       "19             revol_bal  float64      0     0.00   55622   \n",
       "20            revol_util  float64    276     0.07    1226   \n",
       "21             total_acc  float64      0     0.00     118   \n",
       "22   initial_list_status   object      0     0.00       2   \n",
       "23      application_type   object      0     0.00       3   \n",
       "24              mort_acc  float64  37795     9.54      33   \n",
       "25  pub_rec_bankruptcies  float64    535     0.14       9   \n",
       "26               address   object      0     0.00  393700   \n",
       "27           loan_repaid    int64      0     0.00       2   \n",
       "\n",
       "                                         uniqueSample  \n",
       "0   [10000.0, 8000.0, 15600.0, 7200.0, 24375.0, 20...  \n",
       "1                            [ 36 months,  60 months]  \n",
       "2   [11.44, 11.99, 10.49, 6.49, 17.27, 13.33, 5.32...  \n",
       "3   [329.48, 265.68, 506.97, 220.65, 609.33, 677.0...  \n",
       "4                               [B, A, C, E, D, F, G]  \n",
       "5   [B4, B5, B3, A2, C5, C3, A1, B2, C1, A5, E4, A...  \n",
       "6   [Marketing, Credit analyst , Statistician, Cli...  \n",
       "7   [10+ years, 4 years, < 1 year, 6 years, 9 year...  \n",
       "8             [RENT, MORTGAGE, OWN, OTHER, NONE, ANY]  \n",
       "9   [117000.0, 65000.0, 43057.0, 54000.0, 55000.0,...  \n",
       "10          [Not Verified, Source Verified, Verified]  \n",
       "11  [Jan-2015, Nov-2014, Apr-2013, Sep-2015, Sep-2...  \n",
       "12                          [Fully Paid, Charged Off]  \n",
       "13  [vacation, debt_consolidation, credit_card, ho...  \n",
       "14  [Vacation, Debt consolidation, Credit card ref...  \n",
       "15  [26.24, 22.05, 12.79, 2.6, 33.95, 16.31, 1.36,...  \n",
       "16  [Jun-1990, Jul-2004, Aug-2007, Sep-2006, Mar-1...  \n",
       "17  [16.0, 17.0, 13.0, 6.0, 8.0, 11.0, 5.0, 30.0, ...  \n",
       "18  [0.0, 1.0, 2.0, 3.0, 4.0, 6.0, 5.0, 8.0, 9.0, ...  \n",
       "19  [36369.0, 20131.0, 11987.0, 5472.0, 24584.0, 2...  \n",
       "20  [41.8, 53.3, 92.2, 21.5, 69.8, 100.6, 4.9, 64....  \n",
       "21  [25.0, 27.0, 26.0, 13.0, 43.0, 23.0, 15.0, 40....  \n",
       "22                                             [w, f]  \n",
       "23                    [INDIVIDUAL, JOINT, DIRECT_PAY]  \n",
       "24  [0.0, 3.0, 1.0, 4.0, 2.0, 6.0, 5.0, nan, 10.0,...  \n",
       "25  [0.0, 1.0, 2.0, 3.0, nan, 4.0, 5.0, 6.0, 7.0, ...  \n",
       "26  [0174 Michelle Gateway\\nMendozaberg, OK 22690,...  \n",
       "27                                             [1, 0]  "
      ]
     },
     "execution_count": 36,
     "metadata": {},
     "output_type": "execute_result"
    }
   ],
   "source": [
    "columns=[]\n",
    "\n",
    "for x in df.columns:\n",
    "    columns.append([x, df[x].dtype, df[x].isnull().sum(), round((df[x].isna().sum()/len(df[x])) * 100,2),\n",
    "                   df[x].nunique(), list(df[x].unique())])\n",
    "    \n",
    "describe = pd.DataFrame(data=columns, columns = ['dataFeatures', 'dataType', 'null', 'nullPct', 'unique', 'uniqueSample'])\n",
    "describe"
   ]
  },
  {
   "cell_type": "markdown",
   "metadata": {},
   "source": [
    "From dataframe above we can see that:\n",
    "1. There are a lot of missing values.\n",
    "2. All of the columns have the correct data type.\n",
    "3. In some of the columns, there are too many unique values'\n"
   ]
  },
  {
   "cell_type": "markdown",
   "metadata": {},
   "source": [
    "# Missing Data\n",
    "\n",
    "**Let's explore this missing data columns. We use a variety of factors to decide whether or not they would be useful, to see if we should keep, discard, or fill in the missing data.**"
   ]
  },
  {
   "cell_type": "markdown",
   "metadata": {},
   "source": [
    "First, let's calculate null percentage for each columns (only columns with null values)"
   ]
  },
  {
   "cell_type": "code",
   "execution_count": 37,
   "metadata": {},
   "outputs": [
    {
     "data": {
      "text/plain": [
       "emp_title               5.789208\n",
       "emp_length              4.621115\n",
       "title                   0.443148\n",
       "revol_util              0.069692\n",
       "mort_acc                9.543469\n",
       "pub_rec_bankruptcies    0.135091\n",
       "dtype: float64"
      ]
     },
     "execution_count": 37,
     "metadata": {},
     "output_type": "execute_result"
    }
   ],
   "source": [
    "# Calculate null percentage of our data for each columns\n",
    "null = df.isna().sum()\n",
    "null = null/df.shape[0]*100\n",
    "null[null != 0]"
   ]
  },
  {
   "cell_type": "markdown",
   "metadata": {},
   "source": [
    "**Let's examine emp_title and emp_length to see whether it will be okay to drop them. Print out their feature information using the feat_info() function from the top of this notebook.**"
   ]
  },
  {
   "cell_type": "code",
   "execution_count": 38,
   "metadata": {},
   "outputs": [
    {
     "name": "stdout",
     "output_type": "stream",
     "text": [
      "emp_title: The job title supplied by the Borrower when applying for the loan.*\n",
      "\n",
      "emp_length: Employment length in years. Possible values are between 0 and 10 where 0 means less than one year and 10 means ten or more years. \n"
     ]
    }
   ],
   "source": [
    "print('emp_title: ', end='')\n",
    "feat_info('emp_title')\n",
    "print('\\nemp_length: ', end='')\n",
    "feat_info('emp_length')"
   ]
  },
  {
   "cell_type": "markdown",
   "metadata": {},
   "source": [
    "**It looks like `emp_title` column is not necessary for our model. But just in case, lets calculate number of unique values of `emp_title`.**"
   ]
  },
  {
   "cell_type": "code",
   "execution_count": 39,
   "metadata": {},
   "outputs": [
    {
     "data": {
      "text/plain": [
       "173105"
      ]
     },
     "execution_count": 39,
     "metadata": {},
     "output_type": "execute_result"
    }
   ],
   "source": [
    "df['emp_title'].nunique()"
   ]
  },
  {
   "cell_type": "code",
   "execution_count": 40,
   "metadata": {},
   "outputs": [
    {
     "data": {
      "text/plain": [
       "Teacher                    4389\n",
       "Manager                    4250\n",
       "Registered Nurse           1856\n",
       "RN                         1846\n",
       "Supervisor                 1830\n",
       "                           ... \n",
       "Postman                       1\n",
       "McCarthy & Holthus, LLC       1\n",
       "jp flooring                   1\n",
       "Histology Technologist        1\n",
       "Gracon Services, Inc          1\n",
       "Name: emp_title, Length: 173105, dtype: int64"
      ]
     },
     "execution_count": 40,
     "metadata": {},
     "output_type": "execute_result"
    }
   ],
   "source": [
    "df['emp_title'].value_counts()"
   ]
  },
  {
   "cell_type": "markdown",
   "metadata": {},
   "source": [
    "There are too many unique job titles to try to convert this to a dummy variable feature. Let's **remove `emp_title` column**."
   ]
  },
  {
   "cell_type": "code",
   "execution_count": 41,
   "metadata": {},
   "outputs": [],
   "source": [
    "df = df.drop('emp_title', axis=1)"
   ]
  },
  {
   "cell_type": "markdown",
   "metadata": {},
   "source": [
    "**Next, we will create a count plot of the emp_length feature column.**"
   ]
  },
  {
   "cell_type": "code",
   "execution_count": 42,
   "metadata": {},
   "outputs": [
    {
     "data": {
      "text/plain": [
       "['< 1 year',\n",
       " '1 year',\n",
       " '2 years',\n",
       " '3 years',\n",
       " '4 years',\n",
       " '5 years',\n",
       " '6 years',\n",
       " '7 years',\n",
       " '8 years',\n",
       " '9 years',\n",
       " '10+ years']"
      ]
     },
     "execution_count": 42,
     "metadata": {},
     "output_type": "execute_result"
    }
   ],
   "source": [
    "newl = list(df['emp_length'].dropna().unique())\n",
    "newl.sort()\n",
    "ordered = newl[2:10]\n",
    "ordered.insert(0, newl[10])\n",
    "ordered.insert(1, newl[0])\n",
    "ordered.append(newl[1])\n",
    "ordered"
   ]
  },
  {
   "cell_type": "code",
   "execution_count": 43,
   "metadata": {},
   "outputs": [
    {
     "data": {
      "text/plain": [
       "<Axes: xlabel='emp_length', ylabel='count'>"
      ]
     },
     "execution_count": 43,
     "metadata": {},
     "output_type": "execute_result"
    },
    {
     "data": {
      "image/png": "[encoded data removed]",
      "text/plain": [
       "<Figure size 1200x400 with 1 Axes>"
      ]
     },
     "metadata": {},
     "output_type": "display_data"
    }
   ],
   "source": [
    "plt.figure(figsize=(12,4))\n",
    "sns.countplot(x='emp_length', data=df, order=ordered)"
   ]
  },
  {
   "cell_type": "markdown",
   "metadata": {},
   "source": [
    "**TASK: Plot out the countplot with a hue separating Fully Paid vs Charged Off**"
   ]
  },
  {
   "cell_type": "code",
   "execution_count": 44,
   "metadata": {},
   "outputs": [
    {
     "data": {
      "text/plain": [
       "<Axes: xlabel='emp_length', ylabel='count'>"
      ]
     },
     "execution_count": 44,
     "metadata": {},
     "output_type": "execute_result"
    },
    {
     "data": {
      "image/png": "[encoded data removed]",
      "text/plain": [
       "<Figure size 1200x400 with 1 Axes>"
      ]
     },
     "metadata": {},
     "output_type": "display_data"
    }
   ],
   "source": [
    "plt.figure(figsize=(12,4))\n",
    "sns.countplot(x='emp_length', data=df, order=ordered, hue='loan_status')"
   ]
  },
  {
   "cell_type": "markdown",
   "metadata": {},
   "source": [
    "**This still doesn't really inform us if there is a strong relationship between employment length and being charged off, what we want is the percentage of charge offs per category. Essentially informing us what percent of people per employment category didn't pay back their loan.**"
   ]
  },
  {
   "cell_type": "code",
   "execution_count": 45,
   "metadata": {},
   "outputs": [
    {
     "data": {
      "text/plain": [
       "<Axes: xlabel='emp_length'>"
      ]
     },
     "execution_count": 45,
     "metadata": {},
     "output_type": "execute_result"
    },
    {
     "data": {
      "image/png": "[encoded data removed]",
      "text/plain": [
       "<Figure size 640x480 with 1 Axes>"
      ]
     },
     "metadata": {},
     "output_type": "display_data"
    }
   ],
   "source": [
    "Paid = df[df['loan_status'] == 'Fully Paid'].groupby('emp_length').count()['loan_status']\n",
    "Charge = df[df['loan_status'] == 'Charged Off'].groupby('emp_length').count()['loan_status']\n",
    "\n",
    "perc = Charge/(Paid+Charge)*100\n",
    "perc.plot(kind='bar')"
   ]
  },
  {
   "cell_type": "markdown",
   "metadata": {},
   "source": [
    "**Charge off rates are extremely similar across all employment lengths. In other words, this column is not relevant in predicting our target class. So we can drop the this column.**"
   ]
  },
  {
   "cell_type": "code",
   "execution_count": 46,
   "metadata": {},
   "outputs": [],
   "source": [
    "df = df.drop('emp_length', axis=1)"
   ]
  },
  {
   "cell_type": "markdown",
   "metadata": {},
   "source": [
    "**Lets go back and check the DataFrame to see what feature columns still have missing data.**"
   ]
  },
  {
   "cell_type": "code",
   "execution_count": 47,
   "metadata": {},
   "outputs": [
    {
     "data": {
      "text/plain": [
       "title                    1755\n",
       "revol_util                276\n",
       "mort_acc                37795\n",
       "pub_rec_bankruptcies      535\n",
       "dtype: int64"
      ]
     },
     "execution_count": 47,
     "metadata": {},
     "output_type": "execute_result"
    }
   ],
   "source": [
    "null = df.isna().sum()\n",
    "null[null > 0]"
   ]
  },
  {
   "cell_type": "markdown",
   "metadata": {},
   "source": [
    "**Next, let's review the title column and the purpose column to see if they contain redundant information.**"
   ]
  },
  {
   "cell_type": "code",
   "execution_count": 48,
   "metadata": {},
   "outputs": [
    {
     "data": {
      "text/plain": [
       "debt_consolidation    234507\n",
       "credit_card            83019\n",
       "home_improvement       24030\n",
       "other                  21185\n",
       "major_purchase          8790\n",
       "small_business          5701\n",
       "car                     4697\n",
       "medical                 4196\n",
       "moving                  2854\n",
       "vacation                2452\n",
       "house                   2201\n",
       "wedding                 1812\n",
       "renewable_energy         329\n",
       "educational              257\n",
       "Name: purpose, dtype: int64"
      ]
     },
     "execution_count": 48,
     "metadata": {},
     "output_type": "execute_result"
    }
   ],
   "source": [
    "df['purpose'].value_counts()"
   ]
  },
  {
   "cell_type": "code",
   "execution_count": 49,
   "metadata": {},
   "outputs": [
    {
     "data": {
      "text/plain": [
       "Debt consolidation            152472\n",
       "Credit card refinancing        51487\n",
       "Home improvement               15264\n",
       "Other                          12930\n",
       "Debt Consolidation             11608\n",
       "                               ...  \n",
       "Graduation/Travel Expenses         1\n",
       "Daughter's Wedding Bill            1\n",
       "gotta move                         1\n",
       "creditcardrefi                     1\n",
       "Toxic Debt Payoff                  1\n",
       "Name: title, Length: 48817, dtype: int64"
      ]
     },
     "execution_count": 49,
     "metadata": {},
     "output_type": "execute_result"
    }
   ],
   "source": [
    "df['title'].value_counts()"
   ]
  },
  {
   "cell_type": "markdown",
   "metadata": {},
   "source": [
    "**The title column is simply a string subcategory/description of the purpose column. We can drop the title column.**"
   ]
  },
  {
   "cell_type": "code",
   "execution_count": 50,
   "metadata": {},
   "outputs": [],
   "source": [
    "df = df.drop('title', axis=1)"
   ]
  },
  {
   "cell_type": "markdown",
   "metadata": {},
   "source": [
    "\n",
    "---\n",
    "**Find out about mort_acc column**"
   ]
  },
  {
   "cell_type": "code",
   "execution_count": 51,
   "metadata": {},
   "outputs": [
    {
     "name": "stdout",
     "output_type": "stream",
     "text": [
      "Number of mortgage accounts.\n"
     ]
    }
   ],
   "source": [
    "feat_info('mort_acc')"
   ]
  },
  {
   "cell_type": "code",
   "execution_count": 52,
   "metadata": {
    "scrolled": true
   },
   "outputs": [
    {
     "data": {
      "text/plain": [
       "0.0     139777\n",
       "1.0      60416\n",
       "2.0      49948\n",
       "3.0      38049\n",
       "4.0      27887\n",
       "5.0      18194\n",
       "6.0      11069\n",
       "7.0       6052\n",
       "8.0       3121\n",
       "9.0       1656\n",
       "10.0       865\n",
       "11.0       479\n",
       "12.0       264\n",
       "13.0       146\n",
       "14.0       107\n",
       "15.0        61\n",
       "16.0        37\n",
       "17.0        22\n",
       "18.0        18\n",
       "19.0        15\n",
       "20.0        13\n",
       "24.0        10\n",
       "22.0         7\n",
       "21.0         4\n",
       "25.0         4\n",
       "27.0         3\n",
       "32.0         2\n",
       "31.0         2\n",
       "23.0         2\n",
       "26.0         2\n",
       "28.0         1\n",
       "30.0         1\n",
       "34.0         1\n",
       "Name: mort_acc, dtype: int64"
      ]
     },
     "execution_count": 52,
     "metadata": {},
     "output_type": "execute_result"
    }
   ],
   "source": [
    "df['mort_acc'].value_counts()"
   ]
  },
  {
   "cell_type": "code",
   "execution_count": 53,
   "metadata": {},
   "outputs": [
    {
     "data": {
      "text/plain": [
       "count    358235.000000\n",
       "mean          1.813991\n",
       "std           2.147930\n",
       "min           0.000000\n",
       "25%           0.000000\n",
       "50%           1.000000\n",
       "75%           3.000000\n",
       "max          34.000000\n",
       "Name: mort_acc, dtype: float64"
      ]
     },
     "execution_count": 53,
     "metadata": {},
     "output_type": "execute_result"
    }
   ],
   "source": [
    "df['mort_acc'].describe()"
   ]
  },
  {
   "cell_type": "markdown",
   "metadata": {},
   "source": [
    "**There are many ways we could deal with this missing data. We could attempt to build a simple model to fill it in, such as a linear model, we could just fill it in based on the mean of the other columns, or you could even bin the columns into categories and then set NaN as its own category. There is no 100% correct approach! Let's review the other columms to see which most highly correlates to mort_acc**"
   ]
  },
  {
   "cell_type": "code",
   "execution_count": 54,
   "metadata": {},
   "outputs": [
    {
     "name": "stderr",
     "output_type": "stream",
     "text": [
      "C:\\Users\\Mengski\\AppData\\Local\\Temp\\ipykernel_14612\\1936938126.py:1: FutureWarning: The default value of numeric_only in DataFrame.corr is deprecated. In a future version, it will default to False. Select only valid columns or specify the value of numeric_only to silence this warning.\n",
      "  df.corr()['mort_acc'].sort_values(ascending=True)\n"
     ]
    },
    {
     "data": {
      "text/plain": [
       "int_rate               -0.082583\n",
       "dti                    -0.025439\n",
       "revol_util              0.007514\n",
       "pub_rec                 0.011552\n",
       "pub_rec_bankruptcies    0.027239\n",
       "loan_repaid             0.073111\n",
       "open_acc                0.109205\n",
       "installment             0.193694\n",
       "revol_bal               0.194925\n",
       "loan_amnt               0.222315\n",
       "annual_inc              0.236320\n",
       "total_acc               0.381072\n",
       "mort_acc                1.000000\n",
       "Name: mort_acc, dtype: float64"
      ]
     },
     "execution_count": 54,
     "metadata": {},
     "output_type": "execute_result"
    }
   ],
   "source": [
    "df.corr()['mort_acc'].sort_values(ascending=True)"
   ]
  },
  {
   "cell_type": "markdown",
   "metadata": {},
   "source": [
    "**Looks like the total_acc feature correlates with the mort_acc. Let's try this fillna() approach. We will group the dataframe by the total_acc and calculate the mean value for the mort_acc per total_acc entry.**"
   ]
  },
  {
   "cell_type": "code",
   "execution_count": 55,
   "metadata": {},
   "outputs": [
    {
     "name": "stdout",
     "output_type": "stream",
     "text": [
      "Mean of mort_acc column per total_acc\n"
     ]
    },
    {
     "name": "stderr",
     "output_type": "stream",
     "text": [
      "C:\\Users\\Mengski\\AppData\\Local\\Temp\\ipykernel_14612\\1884893229.py:2: FutureWarning: The default value of numeric_only in DataFrameGroupBy.mean is deprecated. In a future version, numeric_only will default to False. Either specify numeric_only or select only columns which should be valid for the function.\n",
      "  df.groupby('total_acc').mean()['mort_acc']\n"
     ]
    },
    {
     "data": {
      "text/plain": [
       "total_acc\n",
       "2.0      0.000000\n",
       "3.0      0.052023\n",
       "4.0      0.066743\n",
       "5.0      0.103289\n",
       "6.0      0.151293\n",
       "           ...   \n",
       "124.0    1.000000\n",
       "129.0    1.000000\n",
       "135.0    3.000000\n",
       "150.0    2.000000\n",
       "151.0    0.000000\n",
       "Name: mort_acc, Length: 118, dtype: float64"
      ]
     },
     "execution_count": 55,
     "metadata": {},
     "output_type": "execute_result"
    }
   ],
   "source": [
    "print('Mean of mort_acc column per total_acc')\n",
    "df.groupby('total_acc').mean()['mort_acc']"
   ]
  },
  {
   "cell_type": "markdown",
   "metadata": {},
   "source": [
    "**Let's fill in the missing mort_acc values based on their total_acc value. If the mort_acc is missing, then we will fill in that missing value with the mean value corresponding to its total_acc value from the Series we created above.**"
   ]
  },
  {
   "cell_type": "code",
   "execution_count": 56,
   "metadata": {},
   "outputs": [
    {
     "name": "stderr",
     "output_type": "stream",
     "text": [
      "C:\\Users\\Mengski\\AppData\\Local\\Temp\\ipykernel_14612\\2387912253.py:1: FutureWarning: The default value of numeric_only in DataFrameGroupBy.mean is deprecated. In a future version, numeric_only will default to False. Either specify numeric_only or select only columns which should be valid for the function.\n",
      "  mort_avg = df.groupby('total_acc').mean()['mort_acc']\n"
     ]
    }
   ],
   "source": [
    "mort_avg = df.groupby('total_acc').mean()['mort_acc']"
   ]
  },
  {
   "cell_type": "code",
   "execution_count": 57,
   "metadata": {},
   "outputs": [],
   "source": [
    "mort_nan = df[df['mort_acc'].isna()].index"
   ]
  },
  {
   "cell_type": "code",
   "execution_count": 58,
   "metadata": {},
   "outputs": [],
   "source": [
    "def mort_fill(mort_acc, total_acc):\n",
    "    if np.isnan(mort_acc):\n",
    "        return mort_avg[total_acc]\n",
    "    else:\n",
    "        return mort_acc"
   ]
  },
  {
   "cell_type": "code",
   "execution_count": 59,
   "metadata": {},
   "outputs": [],
   "source": [
    "df['mort_acc'] = df.apply(lambda x: mort_fill(x['mort_acc'], x['total_acc']), axis=1)"
   ]
  },
  {
   "cell_type": "code",
   "execution_count": 60,
   "metadata": {},
   "outputs": [
    {
     "data": {
      "text/plain": [
       "revol_util              276\n",
       "pub_rec_bankruptcies    535\n",
       "dtype: int64"
      ]
     },
     "execution_count": 60,
     "metadata": {},
     "output_type": "execute_result"
    }
   ],
   "source": [
    "null = df.isna().sum()\n",
    "null[null > 0]"
   ]
  },
  {
   "cell_type": "markdown",
   "metadata": {},
   "source": [
    "**revol_util and the pub_rec_bankruptcies have missing data points, but they account for less than 0.5% of the total data. Go ahead and remove the rows that are missing those values in those columns with dropna().**"
   ]
  },
  {
   "cell_type": "code",
   "execution_count": 61,
   "metadata": {
    "scrolled": true
   },
   "outputs": [],
   "source": [
    "df = df.dropna(subset=['revol_util', 'pub_rec_bankruptcies'])"
   ]
  },
  {
   "cell_type": "code",
   "execution_count": 62,
   "metadata": {},
   "outputs": [
    {
     "data": {
      "text/plain": [
       "loan_amnt               0\n",
       "term                    0\n",
       "int_rate                0\n",
       "installment             0\n",
       "grade                   0\n",
       "sub_grade               0\n",
       "home_ownership          0\n",
       "annual_inc              0\n",
       "verification_status     0\n",
       "issue_d                 0\n",
       "loan_status             0\n",
       "purpose                 0\n",
       "dti                     0\n",
       "earliest_cr_line        0\n",
       "open_acc                0\n",
       "pub_rec                 0\n",
       "revol_bal               0\n",
       "revol_util              0\n",
       "total_acc               0\n",
       "initial_list_status     0\n",
       "application_type        0\n",
       "mort_acc                0\n",
       "pub_rec_bankruptcies    0\n",
       "address                 0\n",
       "loan_repaid             0\n",
       "dtype: int64"
      ]
     },
     "execution_count": 62,
     "metadata": {},
     "output_type": "execute_result"
    }
   ],
   "source": [
    "df.isna().sum()"
   ]
  },
  {
   "cell_type": "markdown",
   "metadata": {},
   "source": [
    "## Categorical Variables and Dummy Variables\n",
    "\n",
    "**We're done working with the missing data! Now we just need to deal with the string values due to the categorical columns.**\n",
    "\n",
    "**TASK: List all the columns that are currently non-numeric.**\n"
   ]
  },
  {
   "cell_type": "code",
   "execution_count": 63,
   "metadata": {},
   "outputs": [
    {
     "data": {
      "text/html": [
       "<div>\n",
       "<style scoped>\n",
       "    .dataframe tbody tr th:only-of-type {\n",
       "        vertical-align: middle;\n",
       "    }\n",
       "\n",
       "    .dataframe tbody tr th {\n",
       "        vertical-align: top;\n",
       "    }\n",
       "\n",
       "    .dataframe thead th {\n",
       "        text-align: right;\n",
       "    }\n",
       "</style>\n",
       "<table border=\"1\" class=\"dataframe\">\n",
       "  <thead>\n",
       "    <tr style=\"text-align: right;\">\n",
       "      <th></th>\n",
       "      <th>dataFeatures</th>\n",
       "      <th>dataType</th>\n",
       "      <th>null</th>\n",
       "      <th>nullPct</th>\n",
       "      <th>unique</th>\n",
       "      <th>uniqueSample</th>\n",
       "    </tr>\n",
       "  </thead>\n",
       "  <tbody>\n",
       "    <tr>\n",
       "      <th>0</th>\n",
       "      <td>term</td>\n",
       "      <td>object</td>\n",
       "      <td>0</td>\n",
       "      <td>0.0</td>\n",
       "      <td>2</td>\n",
       "      <td>[ 36 months,  60 months]</td>\n",
       "    </tr>\n",
       "    <tr>\n",
       "      <th>1</th>\n",
       "      <td>grade</td>\n",
       "      <td>object</td>\n",
       "      <td>0</td>\n",
       "      <td>0.0</td>\n",
       "      <td>7</td>\n",
       "      <td>[B, A, C, E, D, F, G]</td>\n",
       "    </tr>\n",
       "    <tr>\n",
       "      <th>2</th>\n",
       "      <td>sub_grade</td>\n",
       "      <td>object</td>\n",
       "      <td>0</td>\n",
       "      <td>0.0</td>\n",
       "      <td>35</td>\n",
       "      <td>[B4, B5, B3, A2, C5, C3, A1, B2, C1, A5, E4, A...</td>\n",
       "    </tr>\n",
       "    <tr>\n",
       "      <th>3</th>\n",
       "      <td>home_ownership</td>\n",
       "      <td>object</td>\n",
       "      <td>0</td>\n",
       "      <td>0.0</td>\n",
       "      <td>6</td>\n",
       "      <td>[RENT, MORTGAGE, OWN, OTHER, ANY, NONE]</td>\n",
       "    </tr>\n",
       "    <tr>\n",
       "      <th>4</th>\n",
       "      <td>verification_status</td>\n",
       "      <td>object</td>\n",
       "      <td>0</td>\n",
       "      <td>0.0</td>\n",
       "      <td>3</td>\n",
       "      <td>[Not Verified, Source Verified, Verified]</td>\n",
       "    </tr>\n",
       "    <tr>\n",
       "      <th>5</th>\n",
       "      <td>issue_d</td>\n",
       "      <td>object</td>\n",
       "      <td>0</td>\n",
       "      <td>0.0</td>\n",
       "      <td>112</td>\n",
       "      <td>[Jan-2015, Nov-2014, Apr-2013, Sep-2015, Sep-2...</td>\n",
       "    </tr>\n",
       "    <tr>\n",
       "      <th>6</th>\n",
       "      <td>loan_status</td>\n",
       "      <td>object</td>\n",
       "      <td>0</td>\n",
       "      <td>0.0</td>\n",
       "      <td>2</td>\n",
       "      <td>[Fully Paid, Charged Off]</td>\n",
       "    </tr>\n",
       "    <tr>\n",
       "      <th>7</th>\n",
       "      <td>purpose</td>\n",
       "      <td>object</td>\n",
       "      <td>0</td>\n",
       "      <td>0.0</td>\n",
       "      <td>14</td>\n",
       "      <td>[vacation, debt_consolidation, credit_card, ho...</td>\n",
       "    </tr>\n",
       "    <tr>\n",
       "      <th>8</th>\n",
       "      <td>earliest_cr_line</td>\n",
       "      <td>object</td>\n",
       "      <td>0</td>\n",
       "      <td>0.0</td>\n",
       "      <td>684</td>\n",
       "      <td>[Jun-1990, Jul-2004, Aug-2007, Sep-2006, Mar-1...</td>\n",
       "    </tr>\n",
       "    <tr>\n",
       "      <th>9</th>\n",
       "      <td>initial_list_status</td>\n",
       "      <td>object</td>\n",
       "      <td>0</td>\n",
       "      <td>0.0</td>\n",
       "      <td>2</td>\n",
       "      <td>[w, f]</td>\n",
       "    </tr>\n",
       "    <tr>\n",
       "      <th>10</th>\n",
       "      <td>application_type</td>\n",
       "      <td>object</td>\n",
       "      <td>0</td>\n",
       "      <td>0.0</td>\n",
       "      <td>3</td>\n",
       "      <td>[INDIVIDUAL, JOINT, DIRECT_PAY]</td>\n",
       "    </tr>\n",
       "    <tr>\n",
       "      <th>11</th>\n",
       "      <td>address</td>\n",
       "      <td>object</td>\n",
       "      <td>0</td>\n",
       "      <td>0.0</td>\n",
       "      <td>392898</td>\n",
       "      <td>[0174 Michelle Gateway\\nMendozaberg, OK 22690,...</td>\n",
       "    </tr>\n",
       "  </tbody>\n",
       "</table>\n",
       "</div>"
      ],
      "text/plain": [
       "           dataFeatures dataType  null  nullPct  unique  \\\n",
       "0                  term   object     0      0.0       2   \n",
       "1                 grade   object     0      0.0       7   \n",
       "2             sub_grade   object     0      0.0      35   \n",
       "3        home_ownership   object     0      0.0       6   \n",
       "4   verification_status   object     0      0.0       3   \n",
       "5               issue_d   object     0      0.0     112   \n",
       "6           loan_status   object     0      0.0       2   \n",
       "7               purpose   object     0      0.0      14   \n",
       "8      earliest_cr_line   object     0      0.0     684   \n",
       "9   initial_list_status   object     0      0.0       2   \n",
       "10     application_type   object     0      0.0       3   \n",
       "11              address   object     0      0.0  392898   \n",
       "\n",
       "                                         uniqueSample  \n",
       "0                            [ 36 months,  60 months]  \n",
       "1                               [B, A, C, E, D, F, G]  \n",
       "2   [B4, B5, B3, A2, C5, C3, A1, B2, C1, A5, E4, A...  \n",
       "3             [RENT, MORTGAGE, OWN, OTHER, ANY, NONE]  \n",
       "4           [Not Verified, Source Verified, Verified]  \n",
       "5   [Jan-2015, Nov-2014, Apr-2013, Sep-2015, Sep-2...  \n",
       "6                           [Fully Paid, Charged Off]  \n",
       "7   [vacation, debt_consolidation, credit_card, ho...  \n",
       "8   [Jun-1990, Jul-2004, Aug-2007, Sep-2006, Mar-1...  \n",
       "9                                              [w, f]  \n",
       "10                    [INDIVIDUAL, JOINT, DIRECT_PAY]  \n",
       "11  [0174 Michelle Gateway\\nMendozaberg, OK 22690,...  "
      ]
     },
     "execution_count": 63,
     "metadata": {},
     "output_type": "execute_result"
    }
   ],
   "source": [
    "columns=[]\n",
    "\n",
    "for x in df.select_dtypes('object').columns:\n",
    "    columns.append([x, df[x].dtype, df[x].isnull().sum(), round((df[x].isna().sum()/len(df[x])) * 100,2),\n",
    "                   df[x].nunique(), list(df[x].unique())])\n",
    "    \n",
    "describe = pd.DataFrame(data=columns, columns = ['dataFeatures', 'dataType', 'null', 'nullPct', 'unique', 'uniqueSample'])\n",
    "describe"
   ]
  },
  {
   "cell_type": "code",
   "execution_count": 64,
   "metadata": {},
   "outputs": [
    {
     "data": {
      "text/plain": [
       "Index(['term', 'grade', 'sub_grade', 'home_ownership', 'verification_status',\n",
       "       'issue_d', 'loan_status', 'purpose', 'earliest_cr_line',\n",
       "       'initial_list_status', 'application_type', 'address'],\n",
       "      dtype='object')"
      ]
     },
     "execution_count": 64,
     "metadata": {},
     "output_type": "execute_result"
    }
   ],
   "source": [
    "df.select_dtypes('object').columns"
   ]
  },
  {
   "cell_type": "markdown",
   "metadata": {},
   "source": [
    "\n",
    "**Let's now go through all the string features to see what we should do with them.**\n",
    "\n",
    "---\n",
    "\n",
    "\n",
    "### term feature\n",
    "\n",
    "**Convert the term feature into either a 36 or 60 integer numeric data type using .apply() or .map().**"
   ]
  },
  {
   "cell_type": "code",
   "execution_count": 65,
   "metadata": {},
   "outputs": [],
   "source": [
    "df['term'] = df['term'].map({' 36 months':36, ' 60 months':60})"
   ]
  },
  {
   "cell_type": "code",
   "execution_count": 66,
   "metadata": {},
   "outputs": [
    {
     "data": {
      "text/plain": [
       "array([36, 60], dtype=int64)"
      ]
     },
     "execution_count": 66,
     "metadata": {},
     "output_type": "execute_result"
    }
   ],
   "source": [
    "df['term'].unique()"
   ]
  },
  {
   "cell_type": "markdown",
   "metadata": {},
   "source": [
    "### grade feature\n",
    "\n",
    "**TASK: We already know grade is part of sub_grade, so just drop the grade feature.**"
   ]
  },
  {
   "cell_type": "code",
   "execution_count": 67,
   "metadata": {},
   "outputs": [],
   "source": [
    "df = df.drop('grade', axis=1)"
   ]
  },
  {
   "cell_type": "markdown",
   "metadata": {},
   "source": [
    "**TASK: Convert the subgrade into dummy variables. Then concatenate these new columns to the original dataframe. Remember to drop the original subgrade column and to add drop_first=True to your get_dummies call.**"
   ]
  },
  {
   "cell_type": "code",
   "execution_count": 68,
   "metadata": {},
   "outputs": [],
   "source": [
    "subgrade_dummy = pd.get_dummies(df['sub_grade'], drop_first=True)"
   ]
  },
  {
   "cell_type": "code",
   "execution_count": 69,
   "metadata": {},
   "outputs": [
    {
     "data": {
      "text/html": [
       "<div>\n",
       "<style scoped>\n",
       "    .dataframe tbody tr th:only-of-type {\n",
       "        vertical-align: middle;\n",
       "    }\n",
       "\n",
       "    .dataframe tbody tr th {\n",
       "        vertical-align: top;\n",
       "    }\n",
       "\n",
       "    .dataframe thead th {\n",
       "        text-align: right;\n",
       "    }\n",
       "</style>\n",
       "<table border=\"1\" class=\"dataframe\">\n",
       "  <thead>\n",
       "    <tr style=\"text-align: right;\">\n",
       "      <th></th>\n",
       "      <th>A2</th>\n",
       "      <th>A3</th>\n",
       "      <th>A4</th>\n",
       "      <th>A5</th>\n",
       "      <th>B1</th>\n",
       "      <th>B2</th>\n",
       "      <th>B3</th>\n",
       "      <th>B4</th>\n",
       "      <th>B5</th>\n",
       "      <th>C1</th>\n",
       "      <th>...</th>\n",
       "      <th>F1</th>\n",
       "      <th>F2</th>\n",
       "      <th>F3</th>\n",
       "      <th>F4</th>\n",
       "      <th>F5</th>\n",
       "      <th>G1</th>\n",
       "      <th>G2</th>\n",
       "      <th>G3</th>\n",
       "      <th>G4</th>\n",
       "      <th>G5</th>\n",
       "    </tr>\n",
       "  </thead>\n",
       "  <tbody>\n",
       "    <tr>\n",
       "      <th>0</th>\n",
       "      <td>0</td>\n",
       "      <td>0</td>\n",
       "      <td>0</td>\n",
       "      <td>0</td>\n",
       "      <td>0</td>\n",
       "      <td>0</td>\n",
       "      <td>0</td>\n",
       "      <td>1</td>\n",
       "      <td>0</td>\n",
       "      <td>0</td>\n",
       "      <td>...</td>\n",
       "      <td>0</td>\n",
       "      <td>0</td>\n",
       "      <td>0</td>\n",
       "      <td>0</td>\n",
       "      <td>0</td>\n",
       "      <td>0</td>\n",
       "      <td>0</td>\n",
       "      <td>0</td>\n",
       "      <td>0</td>\n",
       "      <td>0</td>\n",
       "    </tr>\n",
       "    <tr>\n",
       "      <th>1</th>\n",
       "      <td>0</td>\n",
       "      <td>0</td>\n",
       "      <td>0</td>\n",
       "      <td>0</td>\n",
       "      <td>0</td>\n",
       "      <td>0</td>\n",
       "      <td>0</td>\n",
       "      <td>0</td>\n",
       "      <td>1</td>\n",
       "      <td>0</td>\n",
       "      <td>...</td>\n",
       "      <td>0</td>\n",
       "      <td>0</td>\n",
       "      <td>0</td>\n",
       "      <td>0</td>\n",
       "      <td>0</td>\n",
       "      <td>0</td>\n",
       "      <td>0</td>\n",
       "      <td>0</td>\n",
       "      <td>0</td>\n",
       "      <td>0</td>\n",
       "    </tr>\n",
       "    <tr>\n",
       "      <th>2</th>\n",
       "      <td>0</td>\n",
       "      <td>0</td>\n",
       "      <td>0</td>\n",
       "      <td>0</td>\n",
       "      <td>0</td>\n",
       "      <td>0</td>\n",
       "      <td>1</td>\n",
       "      <td>0</td>\n",
       "      <td>0</td>\n",
       "      <td>0</td>\n",
       "      <td>...</td>\n",
       "      <td>0</td>\n",
       "      <td>0</td>\n",
       "      <td>0</td>\n",
       "      <td>0</td>\n",
       "      <td>0</td>\n",
       "      <td>0</td>\n",
       "      <td>0</td>\n",
       "      <td>0</td>\n",
       "      <td>0</td>\n",
       "      <td>0</td>\n",
       "    </tr>\n",
       "    <tr>\n",
       "      <th>3</th>\n",
       "      <td>1</td>\n",
       "      <td>0</td>\n",
       "      <td>0</td>\n",
       "      <td>0</td>\n",
       "      <td>0</td>\n",
       "      <td>0</td>\n",
       "      <td>0</td>\n",
       "      <td>0</td>\n",
       "      <td>0</td>\n",
       "      <td>0</td>\n",
       "      <td>...</td>\n",
       "      <td>0</td>\n",
       "      <td>0</td>\n",
       "      <td>0</td>\n",
       "      <td>0</td>\n",
       "      <td>0</td>\n",
       "      <td>0</td>\n",
       "      <td>0</td>\n",
       "      <td>0</td>\n",
       "      <td>0</td>\n",
       "      <td>0</td>\n",
       "    </tr>\n",
       "    <tr>\n",
       "      <th>4</th>\n",
       "      <td>0</td>\n",
       "      <td>0</td>\n",
       "      <td>0</td>\n",
       "      <td>0</td>\n",
       "      <td>0</td>\n",
       "      <td>0</td>\n",
       "      <td>0</td>\n",
       "      <td>0</td>\n",
       "      <td>0</td>\n",
       "      <td>0</td>\n",
       "      <td>...</td>\n",
       "      <td>0</td>\n",
       "      <td>0</td>\n",
       "      <td>0</td>\n",
       "      <td>0</td>\n",
       "      <td>0</td>\n",
       "      <td>0</td>\n",
       "      <td>0</td>\n",
       "      <td>0</td>\n",
       "      <td>0</td>\n",
       "      <td>0</td>\n",
       "    </tr>\n",
       "    <tr>\n",
       "      <th>...</th>\n",
       "      <td>...</td>\n",
       "      <td>...</td>\n",
       "      <td>...</td>\n",
       "      <td>...</td>\n",
       "      <td>...</td>\n",
       "      <td>...</td>\n",
       "      <td>...</td>\n",
       "      <td>...</td>\n",
       "      <td>...</td>\n",
       "      <td>...</td>\n",
       "      <td>...</td>\n",
       "      <td>...</td>\n",
       "      <td>...</td>\n",
       "      <td>...</td>\n",
       "      <td>...</td>\n",
       "      <td>...</td>\n",
       "      <td>...</td>\n",
       "      <td>...</td>\n",
       "      <td>...</td>\n",
       "      <td>...</td>\n",
       "      <td>...</td>\n",
       "    </tr>\n",
       "    <tr>\n",
       "      <th>396025</th>\n",
       "      <td>0</td>\n",
       "      <td>0</td>\n",
       "      <td>0</td>\n",
       "      <td>0</td>\n",
       "      <td>0</td>\n",
       "      <td>0</td>\n",
       "      <td>0</td>\n",
       "      <td>1</td>\n",
       "      <td>0</td>\n",
       "      <td>0</td>\n",
       "      <td>...</td>\n",
       "      <td>0</td>\n",
       "      <td>0</td>\n",
       "      <td>0</td>\n",
       "      <td>0</td>\n",
       "      <td>0</td>\n",
       "      <td>0</td>\n",
       "      <td>0</td>\n",
       "      <td>0</td>\n",
       "      <td>0</td>\n",
       "      <td>0</td>\n",
       "    </tr>\n",
       "    <tr>\n",
       "      <th>396026</th>\n",
       "      <td>0</td>\n",
       "      <td>0</td>\n",
       "      <td>0</td>\n",
       "      <td>0</td>\n",
       "      <td>0</td>\n",
       "      <td>0</td>\n",
       "      <td>0</td>\n",
       "      <td>0</td>\n",
       "      <td>0</td>\n",
       "      <td>1</td>\n",
       "      <td>...</td>\n",
       "      <td>0</td>\n",
       "      <td>0</td>\n",
       "      <td>0</td>\n",
       "      <td>0</td>\n",
       "      <td>0</td>\n",
       "      <td>0</td>\n",
       "      <td>0</td>\n",
       "      <td>0</td>\n",
       "      <td>0</td>\n",
       "      <td>0</td>\n",
       "    </tr>\n",
       "    <tr>\n",
       "      <th>396027</th>\n",
       "      <td>0</td>\n",
       "      <td>0</td>\n",
       "      <td>0</td>\n",
       "      <td>0</td>\n",
       "      <td>1</td>\n",
       "      <td>0</td>\n",
       "      <td>0</td>\n",
       "      <td>0</td>\n",
       "      <td>0</td>\n",
       "      <td>0</td>\n",
       "      <td>...</td>\n",
       "      <td>0</td>\n",
       "      <td>0</td>\n",
       "      <td>0</td>\n",
       "      <td>0</td>\n",
       "      <td>0</td>\n",
       "      <td>0</td>\n",
       "      <td>0</td>\n",
       "      <td>0</td>\n",
       "      <td>0</td>\n",
       "      <td>0</td>\n",
       "    </tr>\n",
       "    <tr>\n",
       "      <th>396028</th>\n",
       "      <td>0</td>\n",
       "      <td>0</td>\n",
       "      <td>0</td>\n",
       "      <td>0</td>\n",
       "      <td>0</td>\n",
       "      <td>0</td>\n",
       "      <td>0</td>\n",
       "      <td>0</td>\n",
       "      <td>0</td>\n",
       "      <td>0</td>\n",
       "      <td>...</td>\n",
       "      <td>0</td>\n",
       "      <td>0</td>\n",
       "      <td>0</td>\n",
       "      <td>0</td>\n",
       "      <td>0</td>\n",
       "      <td>0</td>\n",
       "      <td>0</td>\n",
       "      <td>0</td>\n",
       "      <td>0</td>\n",
       "      <td>0</td>\n",
       "    </tr>\n",
       "    <tr>\n",
       "      <th>396029</th>\n",
       "      <td>0</td>\n",
       "      <td>0</td>\n",
       "      <td>0</td>\n",
       "      <td>0</td>\n",
       "      <td>0</td>\n",
       "      <td>0</td>\n",
       "      <td>0</td>\n",
       "      <td>0</td>\n",
       "      <td>0</td>\n",
       "      <td>0</td>\n",
       "      <td>...</td>\n",
       "      <td>0</td>\n",
       "      <td>0</td>\n",
       "      <td>0</td>\n",
       "      <td>0</td>\n",
       "      <td>0</td>\n",
       "      <td>0</td>\n",
       "      <td>0</td>\n",
       "      <td>0</td>\n",
       "      <td>0</td>\n",
       "      <td>0</td>\n",
       "    </tr>\n",
       "  </tbody>\n",
       "</table>\n",
       "<p>395219 rows × 34 columns</p>\n",
       "</div>"
      ],
      "text/plain": [
       "        A2  A3  A4  A5  B1  B2  B3  B4  B5  C1  ...  F1  F2  F3  F4  F5  G1  \\\n",
       "0        0   0   0   0   0   0   0   1   0   0  ...   0   0   0   0   0   0   \n",
       "1        0   0   0   0   0   0   0   0   1   0  ...   0   0   0   0   0   0   \n",
       "2        0   0   0   0   0   0   1   0   0   0  ...   0   0   0   0   0   0   \n",
       "3        1   0   0   0   0   0   0   0   0   0  ...   0   0   0   0   0   0   \n",
       "4        0   0   0   0   0   0   0   0   0   0  ...   0   0   0   0   0   0   \n",
       "...     ..  ..  ..  ..  ..  ..  ..  ..  ..  ..  ...  ..  ..  ..  ..  ..  ..   \n",
       "396025   0   0   0   0   0   0   0   1   0   0  ...   0   0   0   0   0   0   \n",
       "396026   0   0   0   0   0   0   0   0   0   1  ...   0   0   0   0   0   0   \n",
       "396027   0   0   0   0   1   0   0   0   0   0  ...   0   0   0   0   0   0   \n",
       "396028   0   0   0   0   0   0   0   0   0   0  ...   0   0   0   0   0   0   \n",
       "396029   0   0   0   0   0   0   0   0   0   0  ...   0   0   0   0   0   0   \n",
       "\n",
       "        G2  G3  G4  G5  \n",
       "0        0   0   0   0  \n",
       "1        0   0   0   0  \n",
       "2        0   0   0   0  \n",
       "3        0   0   0   0  \n",
       "4        0   0   0   0  \n",
       "...     ..  ..  ..  ..  \n",
       "396025   0   0   0   0  \n",
       "396026   0   0   0   0  \n",
       "396027   0   0   0   0  \n",
       "396028   0   0   0   0  \n",
       "396029   0   0   0   0  \n",
       "\n",
       "[395219 rows x 34 columns]"
      ]
     },
     "execution_count": 69,
     "metadata": {},
     "output_type": "execute_result"
    }
   ],
   "source": [
    "subgrade_dummy"
   ]
  },
  {
   "cell_type": "code",
   "execution_count": 70,
   "metadata": {},
   "outputs": [],
   "source": [
    "df = pd.concat([df.drop('sub_grade', axis=1), subgrade_dummy], axis=1)"
   ]
  },
  {
   "cell_type": "code",
   "execution_count": 71,
   "metadata": {},
   "outputs": [
    {
     "data": {
      "text/plain": [
       "Index(['loan_amnt', 'term', 'int_rate', 'installment', 'home_ownership',\n",
       "       'annual_inc', 'verification_status', 'issue_d', 'loan_status',\n",
       "       'purpose', 'dti', 'earliest_cr_line', 'open_acc', 'pub_rec',\n",
       "       'revol_bal', 'revol_util', 'total_acc', 'initial_list_status',\n",
       "       'application_type', 'mort_acc', 'pub_rec_bankruptcies', 'address',\n",
       "       'loan_repaid', 'A2', 'A3', 'A4', 'A5', 'B1', 'B2', 'B3', 'B4', 'B5',\n",
       "       'C1', 'C2', 'C3', 'C4', 'C5', 'D1', 'D2', 'D3', 'D4', 'D5', 'E1', 'E2',\n",
       "       'E3', 'E4', 'E5', 'F1', 'F2', 'F3', 'F4', 'F5', 'G1', 'G2', 'G3', 'G4',\n",
       "       'G5'],\n",
       "      dtype='object')"
      ]
     },
     "execution_count": 71,
     "metadata": {},
     "output_type": "execute_result"
    }
   ],
   "source": [
    "df.columns"
   ]
  },
  {
   "cell_type": "code",
   "execution_count": 72,
   "metadata": {},
   "outputs": [
    {
     "data": {
      "text/plain": [
       "Index(['home_ownership', 'verification_status', 'issue_d', 'loan_status',\n",
       "       'purpose', 'earliest_cr_line', 'initial_list_status',\n",
       "       'application_type', 'address'],\n",
       "      dtype='object')"
      ]
     },
     "execution_count": 72,
     "metadata": {},
     "output_type": "execute_result"
    }
   ],
   "source": [
    "df.select_dtypes('object').columns"
   ]
  },
  {
   "cell_type": "markdown",
   "metadata": {},
   "source": [
    "### verification_status, application_type,initial_list_status,purpose \n",
    "** We will convert these columns: ['verification_status', 'application_type','initial_list_status','purpose'] into dummy variables and concatenate them with the original dataframe. Remember to set drop_first=True and to drop the original columns.**"
   ]
  },
  {
   "cell_type": "code",
   "execution_count": 73,
   "metadata": {},
   "outputs": [
    {
     "data": {
      "text/html": [
       "<div>\n",
       "<style scoped>\n",
       "    .dataframe tbody tr th:only-of-type {\n",
       "        vertical-align: middle;\n",
       "    }\n",
       "\n",
       "    .dataframe tbody tr th {\n",
       "        vertical-align: top;\n",
       "    }\n",
       "\n",
       "    .dataframe thead th {\n",
       "        text-align: right;\n",
       "    }\n",
       "</style>\n",
       "<table border=\"1\" class=\"dataframe\">\n",
       "  <thead>\n",
       "    <tr style=\"text-align: right;\">\n",
       "      <th></th>\n",
       "      <th>dataFeatures</th>\n",
       "      <th>dataType</th>\n",
       "      <th>null</th>\n",
       "      <th>nullPct</th>\n",
       "      <th>unique</th>\n",
       "      <th>uniqueSample</th>\n",
       "    </tr>\n",
       "  </thead>\n",
       "  <tbody>\n",
       "    <tr>\n",
       "      <th>0</th>\n",
       "      <td>home_ownership</td>\n",
       "      <td>object</td>\n",
       "      <td>0</td>\n",
       "      <td>0.0</td>\n",
       "      <td>6</td>\n",
       "      <td>[RENT, MORTGAGE, OWN, OTHER, ANY, NONE]</td>\n",
       "    </tr>\n",
       "    <tr>\n",
       "      <th>1</th>\n",
       "      <td>verification_status</td>\n",
       "      <td>object</td>\n",
       "      <td>0</td>\n",
       "      <td>0.0</td>\n",
       "      <td>3</td>\n",
       "      <td>[Not Verified, Source Verified, Verified]</td>\n",
       "    </tr>\n",
       "    <tr>\n",
       "      <th>2</th>\n",
       "      <td>issue_d</td>\n",
       "      <td>object</td>\n",
       "      <td>0</td>\n",
       "      <td>0.0</td>\n",
       "      <td>112</td>\n",
       "      <td>[Jan-2015, Nov-2014, Apr-2013, Sep-2015, Sep-2...</td>\n",
       "    </tr>\n",
       "    <tr>\n",
       "      <th>3</th>\n",
       "      <td>loan_status</td>\n",
       "      <td>object</td>\n",
       "      <td>0</td>\n",
       "      <td>0.0</td>\n",
       "      <td>2</td>\n",
       "      <td>[Fully Paid, Charged Off]</td>\n",
       "    </tr>\n",
       "    <tr>\n",
       "      <th>4</th>\n",
       "      <td>purpose</td>\n",
       "      <td>object</td>\n",
       "      <td>0</td>\n",
       "      <td>0.0</td>\n",
       "      <td>14</td>\n",
       "      <td>[vacation, debt_consolidation, credit_card, ho...</td>\n",
       "    </tr>\n",
       "    <tr>\n",
       "      <th>5</th>\n",
       "      <td>earliest_cr_line</td>\n",
       "      <td>object</td>\n",
       "      <td>0</td>\n",
       "      <td>0.0</td>\n",
       "      <td>684</td>\n",
       "      <td>[Jun-1990, Jul-2004, Aug-2007, Sep-2006, Mar-1...</td>\n",
       "    </tr>\n",
       "    <tr>\n",
       "      <th>6</th>\n",
       "      <td>initial_list_status</td>\n",
       "      <td>object</td>\n",
       "      <td>0</td>\n",
       "      <td>0.0</td>\n",
       "      <td>2</td>\n",
       "      <td>[w, f]</td>\n",
       "    </tr>\n",
       "    <tr>\n",
       "      <th>7</th>\n",
       "      <td>application_type</td>\n",
       "      <td>object</td>\n",
       "      <td>0</td>\n",
       "      <td>0.0</td>\n",
       "      <td>3</td>\n",
       "      <td>[INDIVIDUAL, JOINT, DIRECT_PAY]</td>\n",
       "    </tr>\n",
       "    <tr>\n",
       "      <th>8</th>\n",
       "      <td>address</td>\n",
       "      <td>object</td>\n",
       "      <td>0</td>\n",
       "      <td>0.0</td>\n",
       "      <td>392898</td>\n",
       "      <td>[0174 Michelle Gateway\\nMendozaberg, OK 22690,...</td>\n",
       "    </tr>\n",
       "  </tbody>\n",
       "</table>\n",
       "</div>"
      ],
      "text/plain": [
       "          dataFeatures dataType  null  nullPct  unique  \\\n",
       "0       home_ownership   object     0      0.0       6   \n",
       "1  verification_status   object     0      0.0       3   \n",
       "2              issue_d   object     0      0.0     112   \n",
       "3          loan_status   object     0      0.0       2   \n",
       "4              purpose   object     0      0.0      14   \n",
       "5     earliest_cr_line   object     0      0.0     684   \n",
       "6  initial_list_status   object     0      0.0       2   \n",
       "7     application_type   object     0      0.0       3   \n",
       "8              address   object     0      0.0  392898   \n",
       "\n",
       "                                        uniqueSample  \n",
       "0            [RENT, MORTGAGE, OWN, OTHER, ANY, NONE]  \n",
       "1          [Not Verified, Source Verified, Verified]  \n",
       "2  [Jan-2015, Nov-2014, Apr-2013, Sep-2015, Sep-2...  \n",
       "3                          [Fully Paid, Charged Off]  \n",
       "4  [vacation, debt_consolidation, credit_card, ho...  \n",
       "5  [Jun-1990, Jul-2004, Aug-2007, Sep-2006, Mar-1...  \n",
       "6                                             [w, f]  \n",
       "7                    [INDIVIDUAL, JOINT, DIRECT_PAY]  \n",
       "8  [0174 Michelle Gateway\\nMendozaberg, OK 22690,...  "
      ]
     },
     "execution_count": 73,
     "metadata": {},
     "output_type": "execute_result"
    }
   ],
   "source": [
    "columns=[]\n",
    "\n",
    "for x in df.select_dtypes('object').columns:\n",
    "    columns.append([x, df[x].dtype, df[x].isnull().sum(), round((df[x].isna().sum()/len(df[x])) * 100,2),\n",
    "                   df[x].nunique(), list(df[x].unique())])\n",
    "    \n",
    "describe = pd.DataFrame(data=columns, columns = ['dataFeatures', 'dataType', 'null', 'nullPct', 'unique', 'uniqueSample'])\n",
    "describe"
   ]
  },
  {
   "cell_type": "code",
   "execution_count": 74,
   "metadata": {},
   "outputs": [
    {
     "data": {
      "text/plain": [
       "Index(['verification_status_Source Verified', 'verification_status_Verified',\n",
       "       'application_type_INDIVIDUAL', 'application_type_JOINT',\n",
       "       'initial_list_status_w', 'purpose_credit_card',\n",
       "       'purpose_debt_consolidation', 'purpose_educational',\n",
       "       'purpose_home_improvement', 'purpose_house', 'purpose_major_purchase',\n",
       "       'purpose_medical', 'purpose_moving', 'purpose_other',\n",
       "       'purpose_renewable_energy', 'purpose_small_business',\n",
       "       'purpose_vacation', 'purpose_wedding'],\n",
       "      dtype='object')"
      ]
     },
     "execution_count": 74,
     "metadata": {},
     "output_type": "execute_result"
    }
   ],
   "source": [
    "dummies = pd.get_dummies(data=df[['verification_status', 'application_type', 'initial_list_status', 'purpose']], \n",
    "                         drop_first=True)\n",
    "dummies.columns"
   ]
  },
  {
   "cell_type": "code",
   "execution_count": 75,
   "metadata": {},
   "outputs": [],
   "source": [
    "df = df.drop(labels=['verification_status', 'application_type', 'initial_list_status', 'purpose'], axis=1)"
   ]
  },
  {
   "cell_type": "code",
   "execution_count": 76,
   "metadata": {},
   "outputs": [],
   "source": [
    "df = pd.concat([df, dummies],axis=1)"
   ]
  },
  {
   "cell_type": "code",
   "execution_count": 77,
   "metadata": {},
   "outputs": [
    {
     "data": {
      "text/plain": [
       "Index(['loan_amnt', 'term', 'int_rate', 'installment', 'home_ownership',\n",
       "       'annual_inc', 'issue_d', 'loan_status', 'dti', 'earliest_cr_line',\n",
       "       'open_acc', 'pub_rec', 'revol_bal', 'revol_util', 'total_acc',\n",
       "       'mort_acc', 'pub_rec_bankruptcies', 'address', 'loan_repaid', 'A2',\n",
       "       'A3', 'A4', 'A5', 'B1', 'B2', 'B3', 'B4', 'B5', 'C1', 'C2', 'C3', 'C4',\n",
       "       'C5', 'D1', 'D2', 'D3', 'D4', 'D5', 'E1', 'E2', 'E3', 'E4', 'E5', 'F1',\n",
       "       'F2', 'F3', 'F4', 'F5', 'G1', 'G2', 'G3', 'G4', 'G5',\n",
       "       'verification_status_Source Verified', 'verification_status_Verified',\n",
       "       'application_type_INDIVIDUAL', 'application_type_JOINT',\n",
       "       'initial_list_status_w', 'purpose_credit_card',\n",
       "       'purpose_debt_consolidation', 'purpose_educational',\n",
       "       'purpose_home_improvement', 'purpose_house', 'purpose_major_purchase',\n",
       "       'purpose_medical', 'purpose_moving', 'purpose_other',\n",
       "       'purpose_renewable_energy', 'purpose_small_business',\n",
       "       'purpose_vacation', 'purpose_wedding'],\n",
       "      dtype='object')"
      ]
     },
     "execution_count": 77,
     "metadata": {},
     "output_type": "execute_result"
    }
   ],
   "source": [
    "df.columns"
   ]
  },
  {
   "cell_type": "markdown",
   "metadata": {},
   "source": [
    "### home_ownership\n",
    "**Next, lets review the value_counts for the home_ownership column.**"
   ]
  },
  {
   "cell_type": "code",
   "execution_count": 78,
   "metadata": {},
   "outputs": [
    {
     "data": {
      "text/plain": [
       "MORTGAGE    198022\n",
       "RENT        159395\n",
       "OWN          37660\n",
       "OTHER          110\n",
       "NONE            29\n",
       "ANY              3\n",
       "Name: home_ownership, dtype: int64"
      ]
     },
     "execution_count": 78,
     "metadata": {},
     "output_type": "execute_result"
    }
   ],
   "source": [
    "df['home_ownership'].value_counts()"
   ]
  },
  {
   "cell_type": "markdown",
   "metadata": {},
   "source": [
    "**We are going to convert this column into to dummy variables, but before that we will change the value of NONE and ANY with OTHER, so that we end up with just 4 categories, MORTGAGE, RENT, OWN, OTHER. Then concatenate them with the original dataframe. Remember to set drop_first=True and to drop the original columns.**"
   ]
  },
  {
   "cell_type": "code",
   "execution_count": 79,
   "metadata": {},
   "outputs": [
    {
     "data": {
      "text/plain": [
       "MORTGAGE    198022\n",
       "RENT        159395\n",
       "OWN          37660\n",
       "OTHER          142\n",
       "Name: home_ownership, dtype: int64"
      ]
     },
     "execution_count": 79,
     "metadata": {},
     "output_type": "execute_result"
    }
   ],
   "source": [
    "df['home_ownership'] = df['home_ownership'].replace(['NONE', 'ANY'], 'OTHER')\n",
    "df['home_ownership'].value_counts()"
   ]
  },
  {
   "cell_type": "code",
   "execution_count": 80,
   "metadata": {},
   "outputs": [],
   "source": [
    "home_dummy = pd.get_dummies(data=df['home_ownership'], drop_first=True)\n",
    "df = df.drop('home_ownership', axis=1)\n",
    "df = pd.concat([df,home_dummy], axis=1)"
   ]
  },
  {
   "cell_type": "code",
   "execution_count": 81,
   "metadata": {},
   "outputs": [
    {
     "data": {
      "text/plain": [
       "Index(['loan_amnt', 'term', 'int_rate', 'installment', 'annual_inc', 'issue_d',\n",
       "       'loan_status', 'dti', 'earliest_cr_line', 'open_acc', 'pub_rec',\n",
       "       'revol_bal', 'revol_util', 'total_acc', 'mort_acc',\n",
       "       'pub_rec_bankruptcies', 'address', 'loan_repaid', 'A2', 'A3', 'A4',\n",
       "       'A5', 'B1', 'B2', 'B3', 'B4', 'B5', 'C1', 'C2', 'C3', 'C4', 'C5', 'D1',\n",
       "       'D2', 'D3', 'D4', 'D5', 'E1', 'E2', 'E3', 'E4', 'E5', 'F1', 'F2', 'F3',\n",
       "       'F4', 'F5', 'G1', 'G2', 'G3', 'G4', 'G5',\n",
       "       'verification_status_Source Verified', 'verification_status_Verified',\n",
       "       'application_type_INDIVIDUAL', 'application_type_JOINT',\n",
       "       'initial_list_status_w', 'purpose_credit_card',\n",
       "       'purpose_debt_consolidation', 'purpose_educational',\n",
       "       'purpose_home_improvement', 'purpose_house', 'purpose_major_purchase',\n",
       "       'purpose_medical', 'purpose_moving', 'purpose_other',\n",
       "       'purpose_renewable_energy', 'purpose_small_business',\n",
       "       'purpose_vacation', 'purpose_wedding', 'OTHER', 'OWN', 'RENT'],\n",
       "      dtype='object')"
      ]
     },
     "execution_count": 81,
     "metadata": {},
     "output_type": "execute_result"
    }
   ],
   "source": [
    "df.columns"
   ]
  },
  {
   "cell_type": "markdown",
   "metadata": {},
   "source": [
    "### address\n",
    "**We are going to use `address` column and take only zip codes from address. This zip code will be put into a new column called 'zip_code' that extracts the zip code from the address column.**"
   ]
  },
  {
   "cell_type": "code",
   "execution_count": 82,
   "metadata": {
    "scrolled": true
   },
   "outputs": [
    {
     "data": {
      "text/plain": [
       "Index(['issue_d', 'loan_status', 'earliest_cr_line', 'address'], dtype='object')"
      ]
     },
     "execution_count": 82,
     "metadata": {},
     "output_type": "execute_result"
    }
   ],
   "source": [
    "df.select_dtypes('object').columns"
   ]
  },
  {
   "cell_type": "code",
   "execution_count": 83,
   "metadata": {},
   "outputs": [
    {
     "data": {
      "text/plain": [
       "0         22690\n",
       "1         05113\n",
       "2         05113\n",
       "3         00813\n",
       "4         11650\n",
       "          ...  \n",
       "396025    30723\n",
       "396026    05113\n",
       "396027    70466\n",
       "396028    29597\n",
       "396029    48052\n",
       "Name: zip_code, Length: 395219, dtype: object"
      ]
     },
     "execution_count": 83,
     "metadata": {},
     "output_type": "execute_result"
    }
   ],
   "source": [
    "df['zip_code'] = df['address'].apply(lambda x: x[-5:])\n",
    "df['zip_code']"
   ]
  },
  {
   "cell_type": "code",
   "execution_count": 84,
   "metadata": {},
   "outputs": [
    {
     "data": {
      "text/plain": [
       "(array([0, 1, 2, 3, 4, 5, 6, 7, 8, 9]),\n",
       " [Text(0, 0, '22690'),\n",
       "  Text(1, 0, '05113'),\n",
       "  Text(2, 0, '00813'),\n",
       "  Text(3, 0, '11650'),\n",
       "  Text(4, 0, '30723'),\n",
       "  Text(5, 0, '70466'),\n",
       "  Text(6, 0, '29597'),\n",
       "  Text(7, 0, '48052'),\n",
       "  Text(8, 0, '86630'),\n",
       "  Text(9, 0, '93700')])"
      ]
     },
     "execution_count": 84,
     "metadata": {},
     "output_type": "execute_result"
    },
    {
     "data": {
      "image/png": "[encoded data removed]",
      "text/plain": [
       "<Figure size 640x480 with 1 Axes>"
      ]
     },
     "metadata": {},
     "output_type": "display_data"
    }
   ],
   "source": [
    "sns.countplot(x='zip_code', data=df, hue='loan_status')\n",
    "plt.xticks(rotation=45)"
   ]
  },
  {
   "cell_type": "markdown",
   "metadata": {},
   "source": [
    "**Now make this zip_code column into dummy variables using pandas. Concatenate the result and drop the original zip_code column along with dropping the address column.**"
   ]
  },
  {
   "cell_type": "code",
   "execution_count": 85,
   "metadata": {},
   "outputs": [
    {
     "data": {
      "text/html": [
       "<div>\n",
       "<style scoped>\n",
       "    .dataframe tbody tr th:only-of-type {\n",
       "        vertical-align: middle;\n",
       "    }\n",
       "\n",
       "    .dataframe tbody tr th {\n",
       "        vertical-align: top;\n",
       "    }\n",
       "\n",
       "    .dataframe thead th {\n",
       "        text-align: right;\n",
       "    }\n",
       "</style>\n",
       "<table border=\"1\" class=\"dataframe\">\n",
       "  <thead>\n",
       "    <tr style=\"text-align: right;\">\n",
       "      <th></th>\n",
       "      <th>05113</th>\n",
       "      <th>11650</th>\n",
       "      <th>22690</th>\n",
       "      <th>29597</th>\n",
       "      <th>30723</th>\n",
       "      <th>48052</th>\n",
       "      <th>70466</th>\n",
       "      <th>86630</th>\n",
       "      <th>93700</th>\n",
       "    </tr>\n",
       "  </thead>\n",
       "  <tbody>\n",
       "    <tr>\n",
       "      <th>0</th>\n",
       "      <td>0</td>\n",
       "      <td>0</td>\n",
       "      <td>1</td>\n",
       "      <td>0</td>\n",
       "      <td>0</td>\n",
       "      <td>0</td>\n",
       "      <td>0</td>\n",
       "      <td>0</td>\n",
       "      <td>0</td>\n",
       "    </tr>\n",
       "    <tr>\n",
       "      <th>1</th>\n",
       "      <td>1</td>\n",
       "      <td>0</td>\n",
       "      <td>0</td>\n",
       "      <td>0</td>\n",
       "      <td>0</td>\n",
       "      <td>0</td>\n",
       "      <td>0</td>\n",
       "      <td>0</td>\n",
       "      <td>0</td>\n",
       "    </tr>\n",
       "    <tr>\n",
       "      <th>2</th>\n",
       "      <td>1</td>\n",
       "      <td>0</td>\n",
       "      <td>0</td>\n",
       "      <td>0</td>\n",
       "      <td>0</td>\n",
       "      <td>0</td>\n",
       "      <td>0</td>\n",
       "      <td>0</td>\n",
       "      <td>0</td>\n",
       "    </tr>\n",
       "    <tr>\n",
       "      <th>3</th>\n",
       "      <td>0</td>\n",
       "      <td>0</td>\n",
       "      <td>0</td>\n",
       "      <td>0</td>\n",
       "      <td>0</td>\n",
       "      <td>0</td>\n",
       "      <td>0</td>\n",
       "      <td>0</td>\n",
       "      <td>0</td>\n",
       "    </tr>\n",
       "    <tr>\n",
       "      <th>4</th>\n",
       "      <td>0</td>\n",
       "      <td>1</td>\n",
       "      <td>0</td>\n",
       "      <td>0</td>\n",
       "      <td>0</td>\n",
       "      <td>0</td>\n",
       "      <td>0</td>\n",
       "      <td>0</td>\n",
       "      <td>0</td>\n",
       "    </tr>\n",
       "  </tbody>\n",
       "</table>\n",
       "</div>"
      ],
      "text/plain": [
       "   05113  11650  22690  29597  30723  48052  70466  86630  93700\n",
       "0      0      0      1      0      0      0      0      0      0\n",
       "1      1      0      0      0      0      0      0      0      0\n",
       "2      1      0      0      0      0      0      0      0      0\n",
       "3      0      0      0      0      0      0      0      0      0\n",
       "4      0      1      0      0      0      0      0      0      0"
      ]
     },
     "execution_count": 85,
     "metadata": {},
     "output_type": "execute_result"
    }
   ],
   "source": [
    "zip_dummy = pd.get_dummies(data=df['zip_code'], drop_first=True)\n",
    "zip_dummy.head()"
   ]
  },
  {
   "cell_type": "code",
   "execution_count": 86,
   "metadata": {},
   "outputs": [
    {
     "data": {
      "text/plain": [
       "Index(['loan_amnt', 'term', 'int_rate', 'installment', 'annual_inc', 'issue_d',\n",
       "       'loan_status', 'dti', 'earliest_cr_line', 'open_acc', 'pub_rec',\n",
       "       'revol_bal', 'revol_util', 'total_acc', 'mort_acc',\n",
       "       'pub_rec_bankruptcies', 'loan_repaid', 'A2', 'A3', 'A4', 'A5', 'B1',\n",
       "       'B2', 'B3', 'B4', 'B5', 'C1', 'C2', 'C3', 'C4', 'C5', 'D1', 'D2', 'D3',\n",
       "       'D4', 'D5', 'E1', 'E2', 'E3', 'E4', 'E5', 'F1', 'F2', 'F3', 'F4', 'F5',\n",
       "       'G1', 'G2', 'G3', 'G4', 'G5', 'verification_status_Source Verified',\n",
       "       'verification_status_Verified', 'application_type_INDIVIDUAL',\n",
       "       'application_type_JOINT', 'initial_list_status_w',\n",
       "       'purpose_credit_card', 'purpose_debt_consolidation',\n",
       "       'purpose_educational', 'purpose_home_improvement', 'purpose_house',\n",
       "       'purpose_major_purchase', 'purpose_medical', 'purpose_moving',\n",
       "       'purpose_other', 'purpose_renewable_energy', 'purpose_small_business',\n",
       "       'purpose_vacation', 'purpose_wedding', 'OTHER', 'OWN', 'RENT', '05113',\n",
       "       '11650', '22690', '29597', '30723', '48052', '70466', '86630', '93700'],\n",
       "      dtype='object')"
      ]
     },
     "execution_count": 86,
     "metadata": {},
     "output_type": "execute_result"
    }
   ],
   "source": [
    "df = df.drop('address', axis=1)\n",
    "\n",
    "df = df.drop('zip_code', axis=1)\n",
    "df = pd.concat([df, zip_dummy], axis=1)\n",
    "df.columns"
   ]
  },
  {
   "cell_type": "markdown",
   "metadata": {},
   "source": [
    "### issue_d \n",
    "\n",
    "**This would be data leakage, we wouldn't know beforehand whether or not a loan would be issued when using our model, so in theory we wouldn't have an issue_date, we should drop this feature.**"
   ]
  },
  {
   "cell_type": "code",
   "execution_count": 87,
   "metadata": {},
   "outputs": [],
   "source": [
    "df = df.drop('issue_d', axis=1)"
   ]
  },
  {
   "cell_type": "code",
   "execution_count": 88,
   "metadata": {},
   "outputs": [
    {
     "data": {
      "text/plain": [
       "Index(['loan_status', 'earliest_cr_line'], dtype='object')"
      ]
     },
     "execution_count": 88,
     "metadata": {},
     "output_type": "execute_result"
    }
   ],
   "source": [
    "df.select_dtypes('object').columns"
   ]
  },
  {
   "cell_type": "code",
   "execution_count": 89,
   "metadata": {},
   "outputs": [
    {
     "data": {
      "text/plain": [
       "array(['Jun-1990', 'Jul-2004', 'Aug-2007', 'Sep-2006', 'Mar-1999',\n",
       "       'Jan-2005', 'Aug-2005', 'Sep-1994', 'Jun-1994', 'Dec-1997',\n",
       "       'Dec-1990', 'May-1984', 'Apr-1995', 'Jan-1997', 'May-2001',\n",
       "       'Mar-1982', 'Sep-1996', 'Jan-1990', 'Mar-2000', 'Jan-2006',\n",
       "       'Oct-2006', 'Jan-2003', 'May-2008', 'Oct-2003', 'Jun-2004',\n",
       "       'Jan-1999', 'Apr-1994', 'Apr-1998', 'Jul-2007', 'Apr-2002',\n",
       "       'Oct-2007', 'Jun-2009', 'May-1997', 'Jul-2006', 'Sep-2003',\n",
       "       'Aug-1992', 'Dec-1988', 'Feb-2002', 'Jan-1992', 'Aug-2001',\n",
       "       'Dec-2010', 'Oct-1999', 'Sep-2004', 'Aug-1994', 'Jul-2003',\n",
       "       'Apr-2000', 'Dec-2004', 'Jun-1995', 'Dec-2003', 'Jul-1994',\n",
       "       'Oct-1990', 'Dec-2001', 'Apr-1999', 'Feb-1995', 'May-2003',\n",
       "       'Oct-2002', 'Mar-2004', 'Aug-2003', 'Oct-2000', 'Nov-2004',\n",
       "       'Mar-2010', 'Mar-1996', 'May-1994', 'Jun-1996', 'Nov-1986',\n",
       "       'Jan-2001', 'Jan-2002', 'Mar-2001', 'Sep-2012', 'Apr-2006',\n",
       "       'May-1998', 'Dec-2002', 'Nov-2003', 'Oct-2005', 'May-1990',\n",
       "       'Jun-2003', 'Jun-2001', 'Jan-1998', 'Oct-1978', 'Feb-2001',\n",
       "       'Jun-2006', 'Aug-1993', 'Apr-2001', 'Nov-2001', 'Feb-2003',\n",
       "       'Jun-1993', 'Sep-1992', 'Nov-1992', 'Jun-1983', 'Oct-2001',\n",
       "       'Jul-1999', 'Sep-1997', 'Nov-1993', 'Feb-1993', 'Apr-2007',\n",
       "       'Nov-1999', 'Nov-2005', 'Dec-1992', 'Mar-1986', 'May-1989',\n",
       "       'Dec-2000', 'Mar-1991', 'Mar-2005', 'Jun-2010', 'Dec-1998',\n",
       "       'Sep-2001', 'Nov-2000', 'Jan-1994', 'Aug-2002', 'Jan-2011',\n",
       "       'Aug-2008', 'Jun-2005', 'Nov-1997', 'May-1996', 'Apr-2010',\n",
       "       'May-1993', 'Sep-2005', 'Jun-1992', 'Apr-1986', 'Aug-1996',\n",
       "       'Aug-1997', 'Jul-2005', 'May-2011', 'Sep-2002', 'Jan-1989',\n",
       "       'Aug-1999', 'Feb-1992', 'Sep-1999', 'Jul-2001', 'May-1980',\n",
       "       'Oct-2008', 'Nov-2007', 'Apr-1997', 'Jun-1986', 'Sep-1998',\n",
       "       'Jun-1982', 'Oct-1981', 'Feb-1994', 'Dec-1984', 'Nov-1991',\n",
       "       'Nov-2006', 'Aug-2000', 'Oct-2004', 'Jun-2011', 'Apr-1988',\n",
       "       'May-2004', 'Aug-1988', 'Mar-1994', 'Aug-2004', 'Dec-2006',\n",
       "       'Nov-1998', 'Oct-1997', 'Mar-1989', 'Feb-1988', 'Jul-1982',\n",
       "       'Nov-1995', 'Mar-1997', 'Oct-1994', 'Jul-1998', 'Jun-2002',\n",
       "       'May-1991', 'Oct-2011', 'Sep-2007', 'Jan-2007', 'Jan-2010',\n",
       "       'Mar-1987', 'Feb-1997', 'Oct-1986', 'Mar-2002', 'Jul-1993',\n",
       "       'Mar-2007', 'Aug-1989', 'Oct-1995', 'May-2007', 'Dec-1993',\n",
       "       'Jun-1989', 'Apr-2004', 'Jun-1997', 'Apr-1996', 'Apr-1992',\n",
       "       'Oct-1998', 'Mar-1983', 'Mar-1985', 'Oct-1993', 'Feb-2000',\n",
       "       'Apr-2003', 'Oct-1985', 'Jul-1985', 'May-1978', 'Sep-2010',\n",
       "       'Oct-1996', 'Sep-2009', 'Jun-1999', 'Jan-2000', 'Sep-1987',\n",
       "       'Aug-1998', 'Jan-1995', 'Jul-1988', 'May-2000', 'Jun-1981',\n",
       "       'Feb-1998', 'Nov-1996', 'Aug-1967', 'Dec-1999', 'Aug-2006',\n",
       "       'Nov-2009', 'Jul-2000', 'Mar-1988', 'Jul-1992', 'Jul-1991',\n",
       "       'Mar-1990', 'May-1986', 'Jun-1991', 'Dec-1987', 'Jul-1996',\n",
       "       'Jul-1997', 'Aug-1990', 'Jan-1988', 'Dec-2005', 'Mar-2003',\n",
       "       'Feb-1999', 'Nov-1990', 'Jun-2000', 'Dec-1996', 'Jan-2004',\n",
       "       'May-1999', 'Sep-1972', 'Jul-1981', 'Sep-1993', 'Feb-2009',\n",
       "       'Nov-2002', 'Nov-1969', 'Jan-1993', 'May-2005', 'Sep-1982',\n",
       "       'Apr-1990', 'Feb-1996', 'Mar-1993', 'Apr-1978', 'Jul-1995',\n",
       "       'May-1995', 'Apr-1991', 'Mar-1998', 'Aug-1991', 'Jul-2002',\n",
       "       'Oct-1989', 'Apr-1984', 'Dec-2009', 'Sep-2000', 'Jan-1982',\n",
       "       'Jun-1998', 'Jan-1996', 'Nov-1987', 'May-2010', 'Jul-1989',\n",
       "       'Jun-1987', 'Oct-1987', 'Aug-1995', 'Feb-2004', 'Oct-1991',\n",
       "       'Dec-1989', 'Oct-1992', 'Feb-2005', 'Apr-1993', 'Dec-1985',\n",
       "       'Sep-1979', 'Feb-2007', 'Nov-1989', 'Apr-2005', 'Mar-1978',\n",
       "       'Sep-1985', 'Nov-1994', 'Jun-2008', 'Apr-1987', 'Dec-1983',\n",
       "       'Dec-2007', 'May-1979', 'May-1992', 'Jul-1990', 'Mar-1995',\n",
       "       'Feb-2006', 'Feb-1985', 'Sep-1989', 'Aug-2009', 'Nov-2008',\n",
       "       'Nov-1981', 'Jan-2008', 'Aug-1987', 'Nov-1985', 'Dec-1965',\n",
       "       'Sep-1995', 'Jan-1986', 'Oct-2009', 'May-2002', 'Aug-1980',\n",
       "       'Sep-1977', 'Sep-1988', 'Oct-1984', 'May-1988', 'Aug-1984',\n",
       "       'Nov-1988', 'May-1974', 'Nov-1982', 'Oct-1983', 'Sep-1991',\n",
       "       'Feb-1984', 'Feb-1991', 'Jan-1981', 'Jun-1985', 'Dec-1976',\n",
       "       'Dec-1994', 'Dec-1980', 'Sep-1984', 'Jun-2007', 'Aug-1979',\n",
       "       'Sep-2008', 'Apr-1983', 'Mar-2006', 'Jun-1984', 'Jul-1984',\n",
       "       'Jan-1985', 'Dec-1995', 'Apr-2008', 'Mar-2008', 'Jan-1983',\n",
       "       'Dec-1986', 'Jun-1979', 'Dec-1975', 'Jul-1986', 'Nov-1977',\n",
       "       'Dec-1982', 'May-1985', 'Feb-1983', 'Aug-1982', 'Oct-1980',\n",
       "       'Mar-1979', 'Jan-1978', 'Mar-1984', 'Nov-1983', 'May-1983',\n",
       "       'Jul-2008', 'Apr-1982', 'Jul-1983', 'Feb-1990', 'Dec-2008',\n",
       "       'Jul-1975', 'Dec-1971', 'Feb-2008', 'Mar-2011', 'Feb-1987',\n",
       "       'Feb-1989', 'Aug-1985', 'Jul-2010', 'Apr-1989', 'Feb-1980',\n",
       "       'May-2006', 'Nov-2010', 'Apr-2009', 'Feb-2010', 'May-1976',\n",
       "       'Feb-1981', 'Jan-2012', 'Oct-1988', 'Nov-1984', 'May-1982',\n",
       "       'Oct-1975', 'Jun-1988', 'May-1972', 'Apr-2013', 'Sep-1990',\n",
       "       'Oct-1982', 'Feb-2013', 'Mar-1992', 'Aug-1981', 'Feb-2011',\n",
       "       'Nov-1974', 'Feb-1978', 'Sep-1983', 'Jul-2011', 'Nov-1979',\n",
       "       'Aug-1983', 'Apr-1985', 'Jul-2009', 'Jan-1971', 'Jul-1987',\n",
       "       'Aug-1978', 'Aug-2010', 'Oct-1976', 'Aug-1986', 'Jan-1991',\n",
       "       'Dec-1991', 'May-2009', 'Aug-2011', 'Jun-1964', 'Jan-1974',\n",
       "       'May-1981', 'Jun-1972', 'Jun-1978', 'Sep-1986', 'Jan-1987',\n",
       "       'Jan-1975', 'Feb-1982', 'Jan-1980', 'Feb-1977', 'Sep-1980',\n",
       "       'Nov-1978', 'Jul-1974', 'Jun-1970', 'Jan-1984', 'Nov-1980',\n",
       "       'May-1987', 'Sep-1970', 'Jan-1976', 'Feb-1986', 'Oct-2010',\n",
       "       'Apr-1979', 'Oct-1979', 'Jan-1979', 'Sep-2011', 'Jul-1979',\n",
       "       'Sep-1975', 'Mar-1981', 'Aug-1971', 'Apr-1980', 'Apr-1977',\n",
       "       'Jan-1965', 'Nov-1976', 'Nov-1970', 'Nov-2011', 'Nov-1973',\n",
       "       'Sep-1981', 'Jul-1980', 'Mar-2012', 'Dec-1974', 'Mar-1977',\n",
       "       'Dec-1977', 'May-2012', 'Dec-1979', 'Jan-2009', 'Jan-1970',\n",
       "       'Dec-2011', 'Feb-1979', 'Mar-1976', 'Jan-1973', 'Oct-1973',\n",
       "       'Mar-1969', 'Oct-1977', 'Mar-1975', 'Aug-1977', 'Jun-1969',\n",
       "       'Oct-1963', 'Nov-1960', 'Aug-1970', 'Feb-1975', 'Sep-1974',\n",
       "       'May-1966', 'Apr-1972', 'Apr-1973', 'Apr-2012', 'May-1975',\n",
       "       'Sep-1966', 'Feb-1969', 'Feb-2012', 'Jan-1961', 'Aug-1973',\n",
       "       'Feb-1972', 'Apr-1975', 'Jul-1978', 'Oct-1970', 'Mar-1980',\n",
       "       'Sep-1976', 'Apr-2011', 'Nov-2012', 'Aug-1976', 'Jun-1975',\n",
       "       'Apr-1981', 'Mar-2009', 'Jun-1977', 'Apr-1971', 'Sep-1969',\n",
       "       'Jun-2012', 'Apr-1976', 'Feb-1965', 'Jul-1977', 'Jun-1976',\n",
       "       'Mar-1973', 'Oct-1972', 'Dec-1978', 'Nov-1967', 'Sep-1967',\n",
       "       'Nov-1971', 'Jun-1980', 'May-1964', 'Feb-1971', 'May-1970',\n",
       "       'Apr-1970', 'Mar-1971', 'Apr-1969', 'Jan-1963', 'Jun-1974',\n",
       "       'Oct-1974', 'May-1977', 'Dec-1981', 'Jan-1969', 'Feb-1976',\n",
       "       'Mar-1970', 'Aug-1968', 'Feb-1970', 'Jun-1971', 'Jun-1963',\n",
       "       'Jun-2013', 'Mar-1972', 'Aug-2012', 'Jan-1967', 'Feb-1968',\n",
       "       'Dec-1969', 'Jan-1977', 'Jul-1970', 'Feb-1973', 'Mar-1974',\n",
       "       'Feb-1974', 'Dec-1960', 'Jul-1972', 'Jul-1973', 'Sep-1964',\n",
       "       'Jul-1965', 'Oct-1958', 'Jul-2012', 'Jun-1973', 'Sep-1978',\n",
       "       'Nov-1975', 'Jul-1963', 'Jan-1964', 'Dec-1968', 'May-1958',\n",
       "       'Sep-1973', 'May-1971', 'Dec-1972', 'Aug-1965', 'Jul-1976',\n",
       "       'Oct-2012', 'May-1973', 'Apr-1955', 'Apr-1966', 'Jan-1968',\n",
       "       'Nov-1968', 'Oct-1969', 'Mar-2013', 'Jan-2013', 'Jul-1967',\n",
       "       'Oct-1965', 'Jan-1966', 'Aug-1972', 'Jul-1969', 'May-1965',\n",
       "       'Jan-1953', 'Aug-1974', 'May-1968', 'Aug-1969', 'May-2013',\n",
       "       'Oct-1967', 'Aug-1975', 'Apr-1974', 'Sep-1971', 'Apr-1968',\n",
       "       'Jul-1971', 'Jan-1972', 'Nov-1965', 'Dec-1970', 'Dec-1973',\n",
       "       'Nov-1972', 'Oct-1959', 'Oct-1962', 'Apr-1967', 'Oct-1971',\n",
       "       'Nov-1963', 'Oct-1968', 'Dec-1962', 'Jun-1960', 'Jan-1960',\n",
       "       'Sep-2013', 'May-1969', 'Dec-1966', 'Feb-1967', 'Dec-1967',\n",
       "       'Aug-1961', 'Sep-1968', 'Oct-1964', 'Aug-1966', 'Jul-1966',\n",
       "       'Apr-1964', 'Sep-1962', 'Jul-2013', 'Jun-1967', 'Apr-1965',\n",
       "       'Jun-1966', 'Jan-1955', 'Jan-1962', 'Feb-1964', 'Aug-1958',\n",
       "       'Jul-1968', 'May-1967', 'Dec-1959', 'Sep-1963', 'Dec-2012',\n",
       "       'Dec-1963', 'Jan-1944', 'Jun-1965', 'May-1962', 'Mar-1967',\n",
       "       'Mar-1968', 'Jan-1956', 'Sep-1965', 'Dec-1951', 'Aug-2013',\n",
       "       'Jun-1968', 'Mar-1965', 'Oct-1957', 'Nov-1966', 'Dec-1958',\n",
       "       'Feb-1957', 'Feb-1963', 'Mar-1963', 'Jan-1959', 'May-1955',\n",
       "       'Feb-1966', 'Nov-1950', 'Mar-1964', 'Jan-1958', 'Nov-1964',\n",
       "       'Sep-1961', 'Apr-1963', 'Jul-1964', 'Nov-1955', 'Jun-1957',\n",
       "       'Dec-1964', 'Nov-1953', 'Apr-1961', 'Mar-1966', 'Oct-1960',\n",
       "       'Jul-1959', 'Jul-1961', 'Jan-1954', 'Dec-1956', 'Mar-1962',\n",
       "       'Jul-1960', 'Sep-1959', 'Dec-1950', 'Oct-1966', 'Apr-1960',\n",
       "       'Jul-1958', 'Nov-1954', 'Nov-1957', 'Jun-1962', 'May-1963',\n",
       "       'Jul-1955', 'Oct-1950', 'Dec-1961', 'Aug-1951', 'Oct-2013',\n",
       "       'Aug-1964', 'Apr-1962', 'Jun-1955', 'Jul-1962', 'Jan-1957',\n",
       "       'Nov-1958', 'Jul-1951', 'Nov-1959', 'Apr-1958', 'Mar-1960',\n",
       "       'Sep-1957', 'Nov-1961', 'Sep-1960', 'May-1959', 'Jun-1959',\n",
       "       'Feb-1962', 'Sep-1956', 'Aug-1960', 'Feb-1961', 'Jan-1948',\n",
       "       'Aug-1963', 'Oct-1961', 'Aug-1962', 'Aug-1959'], dtype=object)"
      ]
     },
     "execution_count": 89,
     "metadata": {},
     "output_type": "execute_result"
    }
   ],
   "source": [
    "df['earliest_cr_line'].unique()"
   ]
  },
  {
   "cell_type": "markdown",
   "metadata": {},
   "source": [
    "### earliest_cr_line\n",
    "**This column appears to be a historical time stamp feature. We will extract the year from this feature using .apply function, then convert it to a numeric feature. Set this new data to a feature column called 'earliest_cr_year'.Then drop the earliest_cr_line feature.**"
   ]
  },
  {
   "cell_type": "code",
   "execution_count": 90,
   "metadata": {},
   "outputs": [],
   "source": [
    "df['earliest_cr_year'] = df['earliest_cr_line'].apply(lambda x: int(x[-4:]))\n",
    "df = df.drop('earliest_cr_line', axis=1)"
   ]
  },
  {
   "cell_type": "code",
   "execution_count": 91,
   "metadata": {},
   "outputs": [
    {
     "data": {
      "text/plain": [
       "Index(['loan_amnt', 'term', 'int_rate', 'installment', 'annual_inc',\n",
       "       'loan_status', 'dti', 'open_acc', 'pub_rec', 'revol_bal', 'revol_util',\n",
       "       'total_acc', 'mort_acc', 'pub_rec_bankruptcies', 'loan_repaid', 'A2',\n",
       "       'A3', 'A4', 'A5', 'B1', 'B2', 'B3', 'B4', 'B5', 'C1', 'C2', 'C3', 'C4',\n",
       "       'C5', 'D1', 'D2', 'D3', 'D4', 'D5', 'E1', 'E2', 'E3', 'E4', 'E5', 'F1',\n",
       "       'F2', 'F3', 'F4', 'F5', 'G1', 'G2', 'G3', 'G4', 'G5',\n",
       "       'verification_status_Source Verified', 'verification_status_Verified',\n",
       "       'application_type_INDIVIDUAL', 'application_type_JOINT',\n",
       "       'initial_list_status_w', 'purpose_credit_card',\n",
       "       'purpose_debt_consolidation', 'purpose_educational',\n",
       "       'purpose_home_improvement', 'purpose_house', 'purpose_major_purchase',\n",
       "       'purpose_medical', 'purpose_moving', 'purpose_other',\n",
       "       'purpose_renewable_energy', 'purpose_small_business',\n",
       "       'purpose_vacation', 'purpose_wedding', 'OTHER', 'OWN', 'RENT', '05113',\n",
       "       '11650', '22690', '29597', '30723', '48052', '70466', '86630', '93700',\n",
       "       'earliest_cr_year'],\n",
       "      dtype='object')"
      ]
     },
     "execution_count": 91,
     "metadata": {},
     "output_type": "execute_result"
    }
   ],
   "source": [
    "df.columns"
   ]
  },
  {
   "cell_type": "code",
   "execution_count": 92,
   "metadata": {},
   "outputs": [
    {
     "data": {
      "text/plain": [
       "Index(['loan_status'], dtype='object')"
      ]
     },
     "execution_count": 92,
     "metadata": {},
     "output_type": "execute_result"
    }
   ],
   "source": [
    "df.select_dtypes('object').columns"
   ]
  },
  {
   "cell_type": "markdown",
   "metadata": {},
   "source": [
    "---\n",
    "\n",
    "## Train Test Split\n",
    "**Lets split the data into a training and test set**"
   ]
  },
  {
   "cell_type": "code",
   "execution_count": 93,
   "metadata": {},
   "outputs": [],
   "source": [
    "from sklearn.model_selection import train_test_split"
   ]
  },
  {
   "cell_type": "markdown",
   "metadata": {},
   "source": [
    "**Before splitting, we should drop the load_status column we created earlier, since its a duplicate of the loan_repaid column. We'll use the loan_repaid column since its already in numerical value.**"
   ]
  },
  {
   "cell_type": "code",
   "execution_count": 94,
   "metadata": {},
   "outputs": [],
   "source": [
    "df = df.drop('loan_status', axis=1)"
   ]
  },
  {
   "cell_type": "markdown",
   "metadata": {},
   "source": [
    "**Set X and y variables to the .values of the features and label.**"
   ]
  },
  {
   "cell_type": "code",
   "execution_count": 95,
   "metadata": {},
   "outputs": [],
   "source": [
    "X = df.drop('loan_repaid', axis=1).values\n",
    "y = df['loan_repaid'].values"
   ]
  },
  {
   "cell_type": "markdown",
   "metadata": {},
   "source": [
    "**Performing a train/test split with test_size=0.25 and a random_state of 101.**"
   ]
  },
  {
   "cell_type": "code",
   "execution_count": 96,
   "metadata": {},
   "outputs": [],
   "source": [
    "X_train, X_test, y_train, y_test = train_test_split(X, y, test_size=0.25, random_state=101)"
   ]
  },
  {
   "cell_type": "markdown",
   "metadata": {},
   "source": [
    "---\n",
    "\n",
    "## Normalizing the Data\n",
    "\n",
    "**We will use a MinMaxScaler to normalize the feature data X_train and X_test. Recall we don't want data leakge from the test set so we only fit on the X_train data.**"
   ]
  },
  {
   "cell_type": "code",
   "execution_count": 97,
   "metadata": {},
   "outputs": [],
   "source": [
    "from sklearn.preprocessing import MinMaxScaler"
   ]
  },
  {
   "cell_type": "code",
   "execution_count": 98,
   "metadata": {},
   "outputs": [],
   "source": [
    "scaler = MinMaxScaler()"
   ]
  },
  {
   "cell_type": "code",
   "execution_count": 99,
   "metadata": {},
   "outputs": [
    {
     "data": {
      "text/html": [
       "<style>#sk-container-id-1 {color: black;background-color: white;}#sk-container-id-1 pre{padding: 0;}#sk-container-id-1 div.sk-toggleable {background-color: white;}#sk-container-id-1 label.sk-toggleable__label {cursor: pointer;display: block;width: 100%;margin-bottom: 0;padding: 0.3em;box-sizing: border-box;text-align: center;}#sk-container-id-1 label.sk-toggleable__label-arrow:before {content: \"▸\";float: left;margin-right: 0.25em;color: #696969;}#sk-container-id-1 label.sk-toggleable__label-arrow:hover:before {color: black;}#sk-container-id-1 div.sk-estimator:hover label.sk-toggleable__label-arrow:before {color: black;}#sk-container-id-1 div.sk-toggleable__content {max-height: 0;max-width: 0;overflow: hidden;text-align: left;background-color: #f0f8ff;}#sk-container-id-1 div.sk-toggleable__content pre {margin: 0.2em;color: black;border-radius: 0.25em;background-color: #f0f8ff;}#sk-container-id-1 input.sk-toggleable__control:checked~div.sk-toggleable__content {max-height: 200px;max-width: 100%;overflow: auto;}#sk-container-id-1 input.sk-toggleable__control:checked~label.sk-toggleable__label-arrow:before {content: \"▾\";}#sk-container-id-1 div.sk-estimator input.sk-toggleable__control:checked~label.sk-toggleable__label {background-color: #d4ebff;}#sk-container-id-1 div.sk-label input.sk-toggleable__control:checked~label.sk-toggleable__label {background-color: #d4ebff;}#sk-container-id-1 input.sk-hidden--visually {border: 0;clip: rect(1px 1px 1px 1px);clip: rect(1px, 1px, 1px, 1px);height: 1px;margin: -1px;overflow: hidden;padding: 0;position: absolute;width: 1px;}#sk-container-id-1 div.sk-estimator {font-family: monospace;background-color: #f0f8ff;border: 1px dotted black;border-radius: 0.25em;box-sizing: border-box;margin-bottom: 0.5em;}#sk-container-id-1 div.sk-estimator:hover {background-color: #d4ebff;}#sk-container-id-1 div.sk-parallel-item::after {content: \"\";width: 100%;border-bottom: 1px solid gray;flex-grow: 1;}#sk-container-id-1 div.sk-label:hover label.sk-toggleable__label {background-color: #d4ebff;}#sk-container-id-1 div.sk-serial::before {content: \"\";position: absolute;border-left: 1px solid gray;box-sizing: border-box;top: 0;bottom: 0;left: 50%;z-index: 0;}#sk-container-id-1 div.sk-serial {display: flex;flex-direction: column;align-items: center;background-color: white;padding-right: 0.2em;padding-left: 0.2em;position: relative;}#sk-container-id-1 div.sk-item {position: relative;z-index: 1;}#sk-container-id-1 div.sk-parallel {display: flex;align-items: stretch;justify-content: center;background-color: white;position: relative;}#sk-container-id-1 div.sk-item::before, #sk-container-id-1 div.sk-parallel-item::before {content: \"\";position: absolute;border-left: 1px solid gray;box-sizing: border-box;top: 0;bottom: 0;left: 50%;z-index: -1;}#sk-container-id-1 div.sk-parallel-item {display: flex;flex-direction: column;z-index: 1;position: relative;background-color: white;}#sk-container-id-1 div.sk-parallel-item:first-child::after {align-self: flex-end;width: 50%;}#sk-container-id-1 div.sk-parallel-item:last-child::after {align-self: flex-start;width: 50%;}#sk-container-id-1 div.sk-parallel-item:only-child::after {width: 0;}#sk-container-id-1 div.sk-dashed-wrapped {border: 1px dashed gray;margin: 0 0.4em 0.5em 0.4em;box-sizing: border-box;padding-bottom: 0.4em;background-color: white;}#sk-container-id-1 div.sk-label label {font-family: monospace;font-weight: bold;display: inline-block;line-height: 1.2em;}#sk-container-id-1 div.sk-label-container {text-align: center;}#sk-container-id-1 div.sk-container {/* jupyter's `normalize.less` sets `[hidden] { display: none; }` but bootstrap.min.css set `[hidden] { display: none !important; }` so we also need the `!important` here to be able to override the default hidden behavior on the sphinx rendered scikit-learn.org. See: https://github.com/scikit-learn/scikit-learn/issues/21755 */display: inline-block !important;position: relative;}#sk-container-id-1 div.sk-text-repr-fallback {display: none;}</style><div id=\"sk-container-id-1\" class=\"sk-top-container\"><div class=\"sk-text-repr-fallback\"><pre>MinMaxScaler()</pre><b>In a Jupyter environment, please rerun this cell to show the HTML representation or trust the notebook. <br />On GitHub, the HTML representation is unable to render, please try loading this page with nbviewer.org.</b></div><div class=\"sk-container\" hidden><div class=\"sk-item\"><div class=\"sk-estimator sk-toggleable\"><input class=\"sk-toggleable__control sk-hidden--visually\" id=\"sk-estimator-id-1\" type=\"checkbox\" checked><label for=\"sk-estimator-id-1\" class=\"sk-toggleable__label sk-toggleable__label-arrow\">MinMaxScaler</label><div class=\"sk-toggleable__content\"><pre>MinMaxScaler()</pre></div></div></div></div></div>"
      ],
      "text/plain": [
       "MinMaxScaler()"
      ]
     },
     "execution_count": 99,
     "metadata": {},
     "output_type": "execute_result"
    }
   ],
   "source": [
    "scaler.fit(X_train)"
   ]
  },
  {
   "cell_type": "code",
   "execution_count": 100,
   "metadata": {},
   "outputs": [],
   "source": [
    "X_train = scaler.transform(X_train)\n",
    "X_test = scaler.transform(X_test)"
   ]
  },
  {
   "cell_type": "markdown",
   "metadata": {},
   "source": [
    "---\n",
    "\n",
    "## Taking Care of Imbalanced Data\n",
    "**Imbalanced of a target class in the data can result in a biased model that is better at predicting the majority class. There are many ways for dealing with imbalanced such as oversampling and undersampling. In this project we will be creating training data with oversampling, undersampling and assigning weight**"
   ]
  },
  {
   "cell_type": "code",
   "execution_count": 101,
   "metadata": {},
   "outputs": [
    {
     "name": "stdout",
     "output_type": "stream",
     "text": [
      "zero percentage is 19.58915570789504\n",
      "one percentage is 80.41084429210497\n"
     ]
    }
   ],
   "source": [
    "zero = sum(y_train == 0)\n",
    "one = sum(y_train == 1)\n",
    "total = X_train.shape[0]\n",
    "print(f'zero percentage is {zero/total*100}')\n",
    "print(f'one percentage is {one/total*100}')"
   ]
  },
  {
   "cell_type": "code",
   "execution_count": 102,
   "metadata": {},
   "outputs": [],
   "source": [
    "# Importing Libraries\n",
    "from imblearn.over_sampling import SMOTE\n",
    "from imblearn.under_sampling import RandomUnderSampler\n",
    "from sklearn.utils import shuffle\n",
    "from sklearn.utils import class_weight"
   ]
  },
  {
   "cell_type": "code",
   "execution_count": 103,
   "metadata": {},
   "outputs": [],
   "source": [
    "# Creating oversampled training data\n",
    "smote = SMOTE(random_state=101)\n",
    "X_otrain, y_otrain = smote.fit_resample(X_train, y_train)"
   ]
  },
  {
   "cell_type": "code",
   "execution_count": 104,
   "metadata": {},
   "outputs": [],
   "source": [
    "# Creating undersampled training data\n",
    "rus = RandomUnderSampler(random_state=101)\n",
    "X_utrain, y_utrain = rus.fit_resample(X_train, y_train)\n",
    "X_utrain, y_utrain = shuffle(X_utrain, y_utrain)"
   ]
  },
  {
   "cell_type": "code",
   "execution_count": 105,
   "metadata": {},
   "outputs": [],
   "source": [
    "c_weight = class_weight.compute_class_weight('balanced', \n",
    "                                                 classes=np.unique(y_train),\n",
    "                                                y=y_train)\n",
    "\n",
    "weight = dict(zip(np.unique(y_train), c_weight))"
   ]
  },
  {
   "cell_type": "markdown",
   "metadata": {},
   "source": [
    "---\n",
    "\n",
    "# Creating the Model\n"
   ]
  },
  {
   "cell_type": "code",
   "execution_count": 106,
   "metadata": {},
   "outputs": [],
   "source": [
    "import tensorflow as tf\n",
    "from tensorflow.keras.models import Sequential\n",
    "from tensorflow.keras.layers import Dense,Dropout\n",
    "from tensorflow.keras.callbacks import EarlyStopping, TensorBoard"
   ]
  },
  {
   "cell_type": "markdown",
   "metadata": {},
   "source": [
    "**Building a sequential model**"
   ]
  },
  {
   "cell_type": "code",
   "execution_count": 107,
   "metadata": {},
   "outputs": [],
   "source": [
    "model = Sequential()\n",
    "\n",
    "\n",
    "# Choose whatever number of layers/neurons you want.\n",
    "\n",
    "model.add(Dense(units=60, activation='relu'))\n",
    "model.add(Dropout(0.2))\n",
    "\n",
    "model.add(Dense(units=20, activation='relu'))\n",
    "model.add(Dropout(0.2))\n",
    "\n",
    "model.add(Dense(units=1, activation='sigmoid'))\n",
    "\n",
    "# https://stats.stackexchange.com/questions/181/how-to-choose-the-number-of-hidden-layers-and-nodes-in-a-feedforward-neural-netw\n",
    "\n",
    "model.compile(optimizer= 'Adamax', loss='binary_crossentropy',)"
   ]
  },
  {
   "cell_type": "markdown",
   "metadata": {},
   "source": [
    "**Fitting the model**"
   ]
  },
  {
   "cell_type": "code",
   "execution_count": 108,
   "metadata": {},
   "outputs": [],
   "source": [
    "# Using earlystop will stop the training process if there are no longer significant change in loss value\n",
    "earlystop = EarlyStopping(monitor='val_loss', mode='min', patience=5, verbose=1)"
   ]
  },
  {
   "cell_type": "code",
   "execution_count": 109,
   "metadata": {
    "scrolled": true
   },
   "outputs": [
    {
     "name": "stdout",
     "output_type": "stream",
     "text": [
      "Epoch 1/25\n",
      "1158/1158 [==============================] - 4s 3ms/step - loss: 0.3525 - val_loss: 0.2778\n",
      "Epoch 2/25\n",
      "1158/1158 [==============================] - 5s 4ms/step - loss: 0.2789 - val_loss: 0.2690\n",
      "Epoch 3/25\n",
      "1158/1158 [==============================] - 5s 4ms/step - loss: 0.2704 - val_loss: 0.2653\n",
      "Epoch 4/25\n",
      "1158/1158 [==============================] - 3s 3ms/step - loss: 0.2671 - val_loss: 0.2642\n",
      "Epoch 5/25\n",
      "1158/1158 [==============================] - 4s 3ms/step - loss: 0.2646 - val_loss: 0.2635\n",
      "Epoch 6/25\n",
      "1158/1158 [==============================] - 4s 3ms/step - loss: 0.2639 - val_loss: 0.2630\n",
      "Epoch 7/25\n",
      "1158/1158 [==============================] - 4s 4ms/step - loss: 0.2631 - val_loss: 0.2627\n",
      "Epoch 8/25\n",
      "1158/1158 [==============================] - 5s 4ms/step - loss: 0.2622 - val_loss: 0.2624\n",
      "Epoch 9/25\n",
      "1158/1158 [==============================] - 4s 4ms/step - loss: 0.2616 - val_loss: 0.2620\n",
      "Epoch 10/25\n",
      "1158/1158 [==============================] - 5s 4ms/step - loss: 0.2610 - val_loss: 0.2621\n",
      "Epoch 11/25\n",
      "1158/1158 [==============================] - 5s 5ms/step - loss: 0.2608 - val_loss: 0.2618\n",
      "Epoch 12/25\n",
      "1158/1158 [==============================] - 5s 4ms/step - loss: 0.2601 - val_loss: 0.2616\n",
      "Epoch 13/25\n",
      "1158/1158 [==============================] - 5s 4ms/step - loss: 0.2601 - val_loss: 0.2614\n",
      "Epoch 14/25\n",
      "1158/1158 [==============================] - 5s 4ms/step - loss: 0.2597 - val_loss: 0.2612\n",
      "Epoch 15/25\n",
      "1158/1158 [==============================] - 5s 4ms/step - loss: 0.2594 - val_loss: 0.2613\n",
      "Epoch 16/25\n",
      "1158/1158 [==============================] - 5s 4ms/step - loss: 0.2590 - val_loss: 0.2614\n",
      "Epoch 17/25\n",
      "1158/1158 [==============================] - 5s 4ms/step - loss: 0.2588 - val_loss: 0.2611\n",
      "Epoch 18/25\n",
      "1158/1158 [==============================] - 5s 4ms/step - loss: 0.2588 - val_loss: 0.2614\n",
      "Epoch 19/25\n",
      "1158/1158 [==============================] - 5s 4ms/step - loss: 0.2586 - val_loss: 0.2611\n",
      "Epoch 20/25\n",
      "1158/1158 [==============================] - 5s 4ms/step - loss: 0.2581 - val_loss: 0.2608\n",
      "Epoch 21/25\n",
      "1158/1158 [==============================] - 5s 4ms/step - loss: 0.2582 - val_loss: 0.2609\n",
      "Epoch 22/25\n",
      "1158/1158 [==============================] - 5s 4ms/step - loss: 0.2580 - val_loss: 0.2608\n",
      "Epoch 23/25\n",
      "1158/1158 [==============================] - 5s 4ms/step - loss: 0.2578 - val_loss: 0.2608\n",
      "Epoch 24/25\n",
      "1158/1158 [==============================] - 5s 4ms/step - loss: 0.2578 - val_loss: 0.2607\n",
      "Epoch 25/25\n",
      "1158/1158 [==============================] - 5s 4ms/step - loss: 0.2575 - val_loss: 0.2608\n"
     ]
    },
    {
     "data": {
      "text/plain": [
       "<keras.callbacks.History at 0x1c3045e4af0>"
      ]
     },
     "execution_count": 109,
     "metadata": {},
     "output_type": "execute_result"
    }
   ],
   "source": [
    "model.fit(x=X_train, y=y_train, epochs=25, validation_data=(X_test, y_test), batch_size=256, \n",
    "          callbacks=[earlystop], )"
   ]
  },
  {
   "cell_type": "markdown",
   "metadata": {},
   "source": [
    "**Saving our model**"
   ]
  },
  {
   "cell_type": "code",
   "execution_count": 110,
   "metadata": {},
   "outputs": [],
   "source": [
    "from tensorflow.keras.models import load_model"
   ]
  },
  {
   "cell_type": "code",
   "execution_count": 111,
   "metadata": {},
   "outputs": [],
   "source": [
    "model.save('first model.h5')"
   ]
  },
  {
   "cell_type": "markdown",
   "metadata": {},
   "source": [
    "---\n",
    "\n",
    "# Evaluating Model Performance.\n",
    "\n",
    "**First, we will plot training loss and validation loss to see if loss values get any better each epoch**"
   ]
  },
  {
   "cell_type": "code",
   "execution_count": 112,
   "metadata": {},
   "outputs": [
    {
     "data": {
      "text/plain": [
       "dict_keys(['loss', 'val_loss'])"
      ]
     },
     "execution_count": 112,
     "metadata": {},
     "output_type": "execute_result"
    }
   ],
   "source": [
    "model.history.history.keys()"
   ]
  },
  {
   "cell_type": "code",
   "execution_count": 113,
   "metadata": {},
   "outputs": [
    {
     "data": {
      "text/plain": [
       "<Axes: >"
      ]
     },
     "execution_count": 113,
     "metadata": {},
     "output_type": "execute_result"
    },
    {
     "data": {
      "image/png": "[encoded data removed]",
      "text/plain": [
       "<Figure size 640x480 with 1 Axes>"
      ]
     },
     "metadata": {},
     "output_type": "display_data"
    }
   ],
   "source": [
    "losses = pd.DataFrame(model.history.history)\n",
    "losses.plot()"
   ]
  },
  {
   "cell_type": "markdown",
   "metadata": {},
   "source": [
    "**Next, we will be predicting data from the test set and display a classification report and confusion matrix for the X_test set.**"
   ]
  },
  {
   "cell_type": "code",
   "execution_count": 114,
   "metadata": {},
   "outputs": [],
   "source": [
    "from sklearn.metrics import classification_report, confusion_matrix"
   ]
  },
  {
   "cell_type": "code",
   "execution_count": 115,
   "metadata": {},
   "outputs": [
    {
     "name": "stdout",
     "output_type": "stream",
     "text": [
      "3088/3088 [==============================] - 7s 2ms/step\n"
     ]
    }
   ],
   "source": [
    "predict = model.predict(X_test)"
   ]
  },
  {
   "cell_type": "code",
   "execution_count": 116,
   "metadata": {},
   "outputs": [],
   "source": [
    "predict = (predict >= 0.5).astype('int32')"
   ]
  },
  {
   "cell_type": "code",
   "execution_count": 117,
   "metadata": {},
   "outputs": [],
   "source": [
    "predict = predict.reshape(predict.shape[0])"
   ]
  },
  {
   "cell_type": "code",
   "execution_count": 118,
   "metadata": {},
   "outputs": [],
   "source": [
    "pred = np.column_stack((y_test, predict))\n",
    "pred = pd.DataFrame(pred, columns=['y_test', 'predict'])"
   ]
  },
  {
   "cell_type": "code",
   "execution_count": 119,
   "metadata": {},
   "outputs": [
    {
     "name": "stdout",
     "output_type": "stream",
     "text": [
      "              precision    recall  f1-score   support\n",
      "\n",
      "           0       0.99      0.43      0.60     19458\n",
      "           1       0.88      1.00      0.93     79347\n",
      "\n",
      "    accuracy                           0.89     98805\n",
      "   macro avg       0.93      0.72      0.77     98805\n",
      "weighted avg       0.90      0.89      0.87     98805\n",
      "\n"
     ]
    },
    {
     "data": {
      "text/plain": [
       "[Text(0.5, 23.52222222222222, 'Predicted'),\n",
       " Text(50.722222222222214, 0.5, 'Actual'),\n",
       " Text(0.5, 1.0, 'Logistic Regression Confusion Matrix')]"
      ]
     },
     "execution_count": 119,
     "metadata": {},
     "output_type": "execute_result"
    },
    {
     "data": {
      "image/png": "[encoded data removed]",
      "text/plain": [
       "<Figure size 640x480 with 2 Axes>"
      ]
     },
     "metadata": {},
     "output_type": "display_data"
    }
   ],
   "source": [
    "print(classification_report(y_test, predict))\n",
    "ax = sns.heatmap(confusion_matrix(y_test, predict), annot=True, fmt='d')\n",
    "ax.set(xlabel='Predicted', ylabel='Actual', title='Logistic Regression Confusion Matrix')\n"
   ]
  },
  {
   "cell_type": "markdown",
   "metadata": {},
   "source": [
    "---\n",
    "\n",
    "# Conclusion\n",
    "Our model has performed quite well, achieving an overall accuracy of 0.89, which is a decent result. However, when it comes to predicting loans that end up being \"Charged Off\" (target class 0), the model's performance is not as satisfactory as we would like, with a recall score of only 0.45 and an f1 score of 0.61. However, it is worth noting that the model achieves an impressive precision score of 0.96 for predicting \"Charged Off\" class, which means that when it does make a prediction, it is highly likely to be correct. Thus, our model seems to excel at identifying the positive class (Fully Paid), but struggles to identify the negative class (Charged Off). We need to find ways to improve the model's performance on the negative class while maintaining high precision on the positive class."
   ]
  }
 ],
 "metadata": {
  "kernelspec": {
   "display_name": "Python 3 (ipykernel)",
   "language": "python",
   "name": "python3"
  },
  "language_info": {
   "codemirror_mode": {
    "name": "ipython",
    "version": 3
   },
   "file_extension": ".py",
   "mimetype": "text/x-python",
   "name": "python",
   "nbconvert_exporter": "python",
   "pygments_lexer": "ipython3",
   "version": "3.9.16"
  }
 },
 "nbformat": 4,
 "nbformat_minor": 2
}
